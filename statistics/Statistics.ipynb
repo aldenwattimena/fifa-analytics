{
 "cells": [
  {
   "cell_type": "markdown",
   "metadata": {
    "id": "IscQyHZ4aTr_"
   },
   "source": [
    "## **``Descriptive Statistics``**"
   ]
  },
  {
   "cell_type": "code",
   "execution_count": null,
   "metadata": {
    "colab": {
     "base_uri": "https://localhost:8080/",
     "height": 72
    },
    "id": "vsMIwCfn-Kkk",
    "outputId": "b35b8a52-6329-45a8-cc04-d977e92b533d"
   },
   "outputs": [
    {
     "name": "stderr",
     "output_type": "stream",
     "text": [
      "/usr/local/lib/python3.6/dist-packages/statsmodels/tools/_testing.py:19: FutureWarning: pandas.util.testing is deprecated. Use the functions in the public API at pandas.testing instead.\n",
      "  import pandas.util.testing as tm\n"
     ]
    }
   ],
   "source": [
    "#Import the usual library\n",
    "import pandas as pd\n",
    "import numpy as np\n",
    "import matplotlib.pyplot as plt\n",
    "import seaborn as sns\n",
    "%matplotlib inline\n",
    "import random"
   ]
  },
  {
   "cell_type": "markdown",
   "metadata": {
    "id": "3VYX85Vz-Kko"
   },
   "source": [
    "## Numerical Summary"
   ]
  },
  {
   "cell_type": "code",
   "execution_count": null,
   "metadata": {
    "colab": {
     "base_uri": "https://localhost:8080/",
     "height": 106
    },
    "id": "dzEfZyCq-Kkp",
    "outputId": "17d11bcf-e27a-4742-9584-b4d63e2347b3"
   },
   "outputs": [
    {
     "name": "stdout",
     "output_type": "stream",
     "text": [
      "mean = 24.75\n",
      "Standard Deviation = 2.6339134382131846\n",
      "Q1 = 22.75\n",
      "Q3 = 27.25\n",
      "IQR = 4.5\n"
     ]
    }
   ],
   "source": [
    "age = [22,22,23,23,29,24,27,28]\n",
    "\n",
    "print('mean =',np.mean(age))\n",
    "print('Standard Deviation =',np.std(age))\n",
    "print('Q1 =',np.quantile(age,0.25))\n",
    "print('Q3 =',np.quantile(age,0.75))\n",
    "print('IQR =',np.quantile(age,0.75) - np.quantile(age,0.25))"
   ]
  },
  {
   "cell_type": "code",
   "execution_count": null,
   "metadata": {
    "id": "PgZSooq3-Kks"
   },
   "outputs": [],
   "source": [
    "tips = sns.load_dataset('tips')"
   ]
  },
  {
   "cell_type": "code",
   "execution_count": null,
   "metadata": {
    "colab": {
     "base_uri": "https://localhost:8080/",
     "height": 70
    },
    "id": "oAtYrOjE-Kku",
    "outputId": "b79d85d4-d32f-4728-baa9-874bb286ef00"
   },
   "outputs": [
    {
     "name": "stdout",
     "output_type": "stream",
     "text": [
      "mean = 19.785942622950824\n",
      "median = 17.795\n",
      "Q1 = 13.3475\n"
     ]
    }
   ],
   "source": [
    "print('mean =',tips['total_bill'].mean())\n",
    "print('median =',tips['total_bill'].median())\n",
    "print('Q1 =',tips['total_bill'].quantile(0.25))"
   ]
  },
  {
   "cell_type": "code",
   "execution_count": null,
   "metadata": {
    "colab": {
     "base_uri": "https://localhost:8080/",
     "height": 282
    },
    "id": "r7dtAMOE-Kkw",
    "outputId": "198c4da2-718e-4e04-8b1e-2333fbbeb10d"
   },
   "outputs": [
    {
     "data": {
      "text/html": [
       "<div>\n",
       "<style scoped>\n",
       "    .dataframe tbody tr th:only-of-type {\n",
       "        vertical-align: middle;\n",
       "    }\n",
       "\n",
       "    .dataframe tbody tr th {\n",
       "        vertical-align: top;\n",
       "    }\n",
       "\n",
       "    .dataframe thead th {\n",
       "        text-align: right;\n",
       "    }\n",
       "</style>\n",
       "<table border=\"1\" class=\"dataframe\">\n",
       "  <thead>\n",
       "    <tr style=\"text-align: right;\">\n",
       "      <th></th>\n",
       "      <th>total_bill</th>\n",
       "      <th>tip</th>\n",
       "      <th>size</th>\n",
       "    </tr>\n",
       "  </thead>\n",
       "  <tbody>\n",
       "    <tr>\n",
       "      <th>count</th>\n",
       "      <td>244.000000</td>\n",
       "      <td>244.000000</td>\n",
       "      <td>244.000000</td>\n",
       "    </tr>\n",
       "    <tr>\n",
       "      <th>mean</th>\n",
       "      <td>19.785943</td>\n",
       "      <td>2.998279</td>\n",
       "      <td>2.569672</td>\n",
       "    </tr>\n",
       "    <tr>\n",
       "      <th>std</th>\n",
       "      <td>8.902412</td>\n",
       "      <td>1.383638</td>\n",
       "      <td>0.951100</td>\n",
       "    </tr>\n",
       "    <tr>\n",
       "      <th>min</th>\n",
       "      <td>3.070000</td>\n",
       "      <td>1.000000</td>\n",
       "      <td>1.000000</td>\n",
       "    </tr>\n",
       "    <tr>\n",
       "      <th>25%</th>\n",
       "      <td>13.347500</td>\n",
       "      <td>2.000000</td>\n",
       "      <td>2.000000</td>\n",
       "    </tr>\n",
       "    <tr>\n",
       "      <th>50%</th>\n",
       "      <td>17.795000</td>\n",
       "      <td>2.900000</td>\n",
       "      <td>2.000000</td>\n",
       "    </tr>\n",
       "    <tr>\n",
       "      <th>75%</th>\n",
       "      <td>24.127500</td>\n",
       "      <td>3.562500</td>\n",
       "      <td>3.000000</td>\n",
       "    </tr>\n",
       "    <tr>\n",
       "      <th>max</th>\n",
       "      <td>50.810000</td>\n",
       "      <td>10.000000</td>\n",
       "      <td>6.000000</td>\n",
       "    </tr>\n",
       "  </tbody>\n",
       "</table>\n",
       "</div>"
      ],
      "text/plain": [
       "       total_bill         tip        size\n",
       "count  244.000000  244.000000  244.000000\n",
       "mean    19.785943    2.998279    2.569672\n",
       "std      8.902412    1.383638    0.951100\n",
       "min      3.070000    1.000000    1.000000\n",
       "25%     13.347500    2.000000    2.000000\n",
       "50%     17.795000    2.900000    2.000000\n",
       "75%     24.127500    3.562500    3.000000\n",
       "max     50.810000   10.000000    6.000000"
      ]
     },
     "execution_count": 5,
     "metadata": {
      "tags": []
     },
     "output_type": "execute_result"
    }
   ],
   "source": [
    "tips.describe()"
   ]
  },
  {
   "cell_type": "code",
   "execution_count": null,
   "metadata": {
    "colab": {
     "base_uri": "https://localhost:8080/",
     "height": 70
    },
    "id": "o_UIqWap-Kky",
    "outputId": "0f337cee-3311-43f6-cab2-502c41344fb1"
   },
   "outputs": [
    {
     "data": {
      "text/plain": [
       "0    Male\n",
       "Name: sex, dtype: category\n",
       "Categories (2, object): [Male, Female]"
      ]
     },
     "execution_count": 6,
     "metadata": {
      "tags": []
     },
     "output_type": "execute_result"
    }
   ],
   "source": [
    "tips['sex'].mode()"
   ]
  },
  {
   "cell_type": "code",
   "execution_count": null,
   "metadata": {
    "colab": {
     "base_uri": "https://localhost:8080/",
     "height": 70
    },
    "id": "FtoRhSss-Kk0",
    "outputId": "231336fb-df87-41b0-f0f7-830e263248db"
   },
   "outputs": [
    {
     "data": {
      "text/plain": [
       "0    Sat\n",
       "Name: day, dtype: category\n",
       "Categories (4, object): [Thur, Fri, Sat, Sun]"
      ]
     },
     "execution_count": 7,
     "metadata": {
      "tags": []
     },
     "output_type": "execute_result"
    }
   ],
   "source": [
    "tips['day'].mode()"
   ]
  },
  {
   "cell_type": "code",
   "execution_count": null,
   "metadata": {
    "colab": {
     "base_uri": "https://localhost:8080/",
     "height": 164
    },
    "id": "euyB7j2g-Kk3",
    "outputId": "13c240bd-c4da-4aba-ad11-f3b539a7cc55",
    "scrolled": true
   },
   "outputs": [
    {
     "data": {
      "text/html": [
       "<div>\n",
       "<style scoped>\n",
       "    .dataframe tbody tr th:only-of-type {\n",
       "        vertical-align: middle;\n",
       "    }\n",
       "\n",
       "    .dataframe tbody tr th {\n",
       "        vertical-align: top;\n",
       "    }\n",
       "\n",
       "    .dataframe thead th {\n",
       "        text-align: right;\n",
       "    }\n",
       "</style>\n",
       "<table border=\"1\" class=\"dataframe\">\n",
       "  <thead>\n",
       "    <tr style=\"text-align: right;\">\n",
       "      <th></th>\n",
       "      <th>sex</th>\n",
       "      <th>smoker</th>\n",
       "      <th>day</th>\n",
       "      <th>time</th>\n",
       "    </tr>\n",
       "  </thead>\n",
       "  <tbody>\n",
       "    <tr>\n",
       "      <th>count</th>\n",
       "      <td>244</td>\n",
       "      <td>244</td>\n",
       "      <td>244</td>\n",
       "      <td>244</td>\n",
       "    </tr>\n",
       "    <tr>\n",
       "      <th>unique</th>\n",
       "      <td>2</td>\n",
       "      <td>2</td>\n",
       "      <td>4</td>\n",
       "      <td>2</td>\n",
       "    </tr>\n",
       "    <tr>\n",
       "      <th>top</th>\n",
       "      <td>Male</td>\n",
       "      <td>No</td>\n",
       "      <td>Sat</td>\n",
       "      <td>Dinner</td>\n",
       "    </tr>\n",
       "    <tr>\n",
       "      <th>freq</th>\n",
       "      <td>157</td>\n",
       "      <td>151</td>\n",
       "      <td>87</td>\n",
       "      <td>176</td>\n",
       "    </tr>\n",
       "  </tbody>\n",
       "</table>\n",
       "</div>"
      ],
      "text/plain": [
       "         sex smoker  day    time\n",
       "count    244    244  244     244\n",
       "unique     2      2    4       2\n",
       "top     Male     No  Sat  Dinner\n",
       "freq     157    151   87     176"
      ]
     },
     "execution_count": 8,
     "metadata": {
      "tags": []
     },
     "output_type": "execute_result"
    }
   ],
   "source": [
    "tips.describe(include = 'category')"
   ]
  },
  {
   "cell_type": "code",
   "execution_count": null,
   "metadata": {
    "colab": {
     "base_uri": "https://localhost:8080/",
     "height": 106
    },
    "id": "umddnGL9-Kk5",
    "outputId": "6f6bbe93-ef96-485e-8b63-3402611b4523"
   },
   "outputs": [
    {
     "data": {
      "text/plain": [
       "Sat     87\n",
       "Sun     76\n",
       "Thur    62\n",
       "Fri     19\n",
       "Name: day, dtype: int64"
      ]
     },
     "execution_count": 9,
     "metadata": {
      "tags": []
     },
     "output_type": "execute_result"
    }
   ],
   "source": [
    "tips['day'].value_counts()"
   ]
  },
  {
   "cell_type": "code",
   "execution_count": null,
   "metadata": {
    "colab": {
     "base_uri": "https://localhost:8080/",
     "height": 194
    },
    "id": "PH5EeFnv-Kk7",
    "outputId": "c934f29b-1248-4d06-d458-0354d2a15b87"
   },
   "outputs": [
    {
     "data": {
      "text/html": [
       "<div>\n",
       "<style scoped>\n",
       "    .dataframe tbody tr th:only-of-type {\n",
       "        vertical-align: middle;\n",
       "    }\n",
       "\n",
       "    .dataframe tbody tr th {\n",
       "        vertical-align: top;\n",
       "    }\n",
       "\n",
       "    .dataframe thead th {\n",
       "        text-align: right;\n",
       "    }\n",
       "</style>\n",
       "<table border=\"1\" class=\"dataframe\">\n",
       "  <thead>\n",
       "    <tr style=\"text-align: right;\">\n",
       "      <th>col_0</th>\n",
       "      <th>count</th>\n",
       "    </tr>\n",
       "    <tr>\n",
       "      <th>day</th>\n",
       "      <th></th>\n",
       "    </tr>\n",
       "  </thead>\n",
       "  <tbody>\n",
       "    <tr>\n",
       "      <th>Thur</th>\n",
       "      <td>62</td>\n",
       "    </tr>\n",
       "    <tr>\n",
       "      <th>Fri</th>\n",
       "      <td>19</td>\n",
       "    </tr>\n",
       "    <tr>\n",
       "      <th>Sat</th>\n",
       "      <td>87</td>\n",
       "    </tr>\n",
       "    <tr>\n",
       "      <th>Sun</th>\n",
       "      <td>76</td>\n",
       "    </tr>\n",
       "  </tbody>\n",
       "</table>\n",
       "</div>"
      ],
      "text/plain": [
       "col_0  count\n",
       "day         \n",
       "Thur      62\n",
       "Fri       19\n",
       "Sat       87\n",
       "Sun       76"
      ]
     },
     "execution_count": 10,
     "metadata": {
      "tags": []
     },
     "output_type": "execute_result"
    }
   ],
   "source": [
    "pd.crosstab(tips['day'], columns = 'count')"
   ]
  },
  {
   "cell_type": "code",
   "execution_count": null,
   "metadata": {
    "colab": {
     "base_uri": "https://localhost:8080/",
     "height": 266
    },
    "id": "HrGMZwkboqTm",
    "outputId": "166bf8a2-b36d-4d85-f1c0-b0c339b744f3"
   },
   "outputs": [
    {
     "name": "stdout",
     "output_type": "stream",
     "text": [
      "<class 'pandas.core.frame.DataFrame'>\n",
      "RangeIndex: 244 entries, 0 to 243\n",
      "Data columns (total 7 columns):\n",
      " #   Column      Non-Null Count  Dtype   \n",
      "---  ------      --------------  -----   \n",
      " 0   total_bill  244 non-null    float64 \n",
      " 1   tip         244 non-null    float64 \n",
      " 2   sex         244 non-null    category\n",
      " 3   smoker      244 non-null    category\n",
      " 4   day         244 non-null    category\n",
      " 5   time        244 non-null    category\n",
      " 6   size        244 non-null    int64   \n",
      "dtypes: category(4), float64(2), int64(1)\n",
      "memory usage: 7.3 KB\n"
     ]
    }
   ],
   "source": [
    "tips.info()"
   ]
  },
  {
   "cell_type": "code",
   "execution_count": null,
   "metadata": {
    "colab": {
     "base_uri": "https://localhost:8080/",
     "height": 194
    },
    "id": "CO_OanRpoi_G",
    "outputId": "62c6728b-4077-409e-dea3-d00a04aa7eb4"
   },
   "outputs": [
    {
     "data": {
      "text/html": [
       "<div>\n",
       "<style scoped>\n",
       "    .dataframe tbody tr th:only-of-type {\n",
       "        vertical-align: middle;\n",
       "    }\n",
       "\n",
       "    .dataframe tbody tr th {\n",
       "        vertical-align: top;\n",
       "    }\n",
       "\n",
       "    .dataframe thead th {\n",
       "        text-align: right;\n",
       "    }\n",
       "</style>\n",
       "<table border=\"1\" class=\"dataframe\">\n",
       "  <thead>\n",
       "    <tr style=\"text-align: right;\">\n",
       "      <th>sex</th>\n",
       "      <th>Male</th>\n",
       "      <th>Female</th>\n",
       "    </tr>\n",
       "    <tr>\n",
       "      <th>day</th>\n",
       "      <th></th>\n",
       "      <th></th>\n",
       "    </tr>\n",
       "  </thead>\n",
       "  <tbody>\n",
       "    <tr>\n",
       "      <th>Thur</th>\n",
       "      <td>30</td>\n",
       "      <td>32</td>\n",
       "    </tr>\n",
       "    <tr>\n",
       "      <th>Fri</th>\n",
       "      <td>10</td>\n",
       "      <td>9</td>\n",
       "    </tr>\n",
       "    <tr>\n",
       "      <th>Sat</th>\n",
       "      <td>59</td>\n",
       "      <td>28</td>\n",
       "    </tr>\n",
       "    <tr>\n",
       "      <th>Sun</th>\n",
       "      <td>58</td>\n",
       "      <td>18</td>\n",
       "    </tr>\n",
       "  </tbody>\n",
       "</table>\n",
       "</div>"
      ],
      "text/plain": [
       "sex   Male  Female\n",
       "day               \n",
       "Thur    30      32\n",
       "Fri     10       9\n",
       "Sat     59      28\n",
       "Sun     58      18"
      ]
     },
     "execution_count": 12,
     "metadata": {
      "tags": []
     },
     "output_type": "execute_result"
    }
   ],
   "source": [
    "pd.crosstab(tips['day'],tips['sex'])"
   ]
  },
  {
   "cell_type": "markdown",
   "metadata": {
    "id": "NM-s79yp-Kk9"
   },
   "source": [
    "## Graphical Summary"
   ]
  },
  {
   "cell_type": "code",
   "execution_count": null,
   "metadata": {
    "id": "W2G1PoCd-Kk9"
   },
   "outputs": [],
   "source": [
    "set1 = list(np.random.normal(12,2,1000))\n",
    "set2 = list(np.random.normal(5,2,1000))"
   ]
  },
  {
   "cell_type": "code",
   "execution_count": null,
   "metadata": {
    "id": "g86bpfFl-Kk_"
   },
   "outputs": [],
   "source": [
    "setfull = set1 + set2\n",
    "# setfull = pd.DataFrame({'var':setfull})"
   ]
  },
  {
   "cell_type": "code",
   "execution_count": null,
   "metadata": {
    "id": "ofF2e5lh-KlB"
   },
   "outputs": [],
   "source": [
    "setfull = [round(x,3) for x in setfull]"
   ]
  },
  {
   "cell_type": "code",
   "execution_count": null,
   "metadata": {
    "colab": {
     "base_uri": "https://localhost:8080/",
     "height": 283
    },
    "id": "tWz7sL4B-KlD",
    "outputId": "cf2c9802-cf31-460e-bbae-029118f6c695"
   },
   "outputs": [
    {
     "data": {
      "text/plain": [
       "<matplotlib.axes._subplots.AxesSubplot at 0x7faa22fb2cc0>"
      ]
     },
     "execution_count": 16,
     "metadata": {
      "tags": []
     },
     "output_type": "execute_result"
    },
    {
     "data": {
      "image/png": "[encoded data removed]",
      "text/plain": [
       "<Figure size 432x288 with 1 Axes>"
      ]
     },
     "metadata": {
      "needs_background": "light",
      "tags": []
     },
     "output_type": "display_data"
    }
   ],
   "source": [
    "sns.distplot(set1, bins = 20, kde = False)"
   ]
  },
  {
   "cell_type": "code",
   "execution_count": null,
   "metadata": {
    "colab": {
     "base_uri": "https://localhost:8080/",
     "height": 283
    },
    "id": "3CDRGAAs-KlF",
    "outputId": "95e0fed2-53d8-4bc2-8161-ebca867601fe"
   },
   "outputs": [
    {
     "data": {
      "text/plain": [
       "<matplotlib.axes._subplots.AxesSubplot at 0x7faa22e72fd0>"
      ]
     },
     "execution_count": 17,
     "metadata": {
      "tags": []
     },
     "output_type": "execute_result"
    },
    {
     "data": {
      "image/png": "[encoded data removed]",
      "text/plain": [
       "<Figure size 432x288 with 1 Axes>"
      ]
     },
     "metadata": {
      "needs_background": "light",
      "tags": []
     },
     "output_type": "display_data"
    }
   ],
   "source": [
    "sns.distplot(setfull, bins = 20, kde = False)"
   ]
  },
  {
   "cell_type": "code",
   "execution_count": null,
   "metadata": {
    "colab": {
     "base_uri": "https://localhost:8080/",
     "height": 283
    },
    "id": "VqCLDJed-KlH",
    "outputId": "694b493a-dc8d-4d2f-f2d0-149fa6f2a2cb"
   },
   "outputs": [
    {
     "data": {
      "text/plain": [
       "<matplotlib.axes._subplots.AxesSubplot at 0x7faa229e5cc0>"
      ]
     },
     "execution_count": 18,
     "metadata": {
      "tags": []
     },
     "output_type": "execute_result"
    },
    {
     "data": {
      "image/png": "[encoded data removed]",
      "text/plain": [
       "<Figure size 432x288 with 1 Axes>"
      ]
     },
     "metadata": {
      "needs_background": "light",
      "tags": []
     },
     "output_type": "display_data"
    }
   ],
   "source": [
    "sns.distplot([x**3 for x in set1], bins = 20, kde = False)"
   ]
  },
  {
   "cell_type": "code",
   "execution_count": null,
   "metadata": {
    "colab": {
     "base_uri": "https://localhost:8080/",
     "height": 283
    },
    "id": "v6JSamMR-KlJ",
    "outputId": "95c4b6f3-919a-463a-c0fb-d000e755f3d3"
   },
   "outputs": [
    {
     "data": {
      "text/plain": [
       "<matplotlib.axes._subplots.AxesSubplot at 0x7faa22977fd0>"
      ]
     },
     "execution_count": 19,
     "metadata": {
      "tags": []
     },
     "output_type": "execute_result"
    },
    {
     "data": {
      "image/png": "[encoded data removed]",
      "text/plain": [
       "<Figure size 432x288 with 1 Axes>"
      ]
     },
     "metadata": {
      "needs_background": "light",
      "tags": []
     },
     "output_type": "display_data"
    }
   ],
   "source": [
    "sns.distplot([7000-x**3 for x in set1], bins = 20, kde = False)"
   ]
  },
  {
   "cell_type": "code",
   "execution_count": null,
   "metadata": {
    "id": "PvYtqqgr-KlM"
   },
   "outputs": [],
   "source": [
    "set3 = list(np.random.uniform(0,1,1000))"
   ]
  },
  {
   "cell_type": "code",
   "execution_count": null,
   "metadata": {
    "colab": {
     "base_uri": "https://localhost:8080/",
     "height": 283
    },
    "id": "1EkL_s7A-KlO",
    "outputId": "041ad889-dfff-4d9c-b450-bef58bf056cd"
   },
   "outputs": [
    {
     "data": {
      "text/plain": [
       "<matplotlib.axes._subplots.AxesSubplot at 0x7faa22866748>"
      ]
     },
     "execution_count": 21,
     "metadata": {
      "tags": []
     },
     "output_type": "execute_result"
    },
    {
     "data": {
      "image/png": "[encoded data removed]",
      "text/plain": [
       "<Figure size 432x288 with 1 Axes>"
      ]
     },
     "metadata": {
      "needs_background": "light",
      "tags": []
     },
     "output_type": "display_data"
    }
   ],
   "source": [
    "sns.distplot(set3, bins = 20, kde = False)"
   ]
  },
  {
   "cell_type": "code",
   "execution_count": null,
   "metadata": {
    "colab": {
     "base_uri": "https://localhost:8080/",
     "height": 283
    },
    "id": "CYIFBA5N-KlQ",
    "outputId": "3c0c2b22-c3de-4e4d-b8cd-48fc48742a35"
   },
   "outputs": [
    {
     "data": {
      "text/plain": [
       "<matplotlib.axes._subplots.AxesSubplot at 0x7faa22793908>"
      ]
     },
     "execution_count": 22,
     "metadata": {
      "tags": []
     },
     "output_type": "execute_result"
    },
    {
     "data": {
      "image/png": "[encoded data removed]",
      "text/plain": [
       "<Figure size 432x288 with 1 Axes>"
      ]
     },
     "metadata": {
      "needs_background": "light",
      "tags": []
     },
     "output_type": "display_data"
    }
   ],
   "source": [
    "sns.boxplot(set1)"
   ]
  },
  {
   "cell_type": "code",
   "execution_count": null,
   "metadata": {
    "colab": {
     "base_uri": "https://localhost:8080/",
     "height": 283
    },
    "id": "fXh0Rb_l-KlR",
    "outputId": "1c4766f4-9756-4c22-e94c-ba1680c0452a"
   },
   "outputs": [
    {
     "data": {
      "text/plain": [
       "<matplotlib.axes._subplots.AxesSubplot at 0x7faa2277a780>"
      ]
     },
     "execution_count": 23,
     "metadata": {
      "tags": []
     },
     "output_type": "execute_result"
    },
    {
     "data": {
      "image/png": "[encoded data removed]",
      "text/plain": [
       "<Figure size 432x288 with 1 Axes>"
      ]
     },
     "metadata": {
      "needs_background": "light",
      "tags": []
     },
     "output_type": "display_data"
    }
   ],
   "source": [
    "sns.boxplot(setfull)"
   ]
  },
  {
   "cell_type": "code",
   "execution_count": null,
   "metadata": {
    "colab": {
     "base_uri": "https://localhost:8080/",
     "height": 283
    },
    "id": "YA4Pd7Je-KlT",
    "outputId": "8877c6a0-baad-4450-9846-df538cf071fb"
   },
   "outputs": [
    {
     "data": {
      "text/plain": [
       "<matplotlib.axes._subplots.AxesSubplot at 0x7faa22745be0>"
      ]
     },
     "execution_count": 24,
     "metadata": {
      "tags": []
     },
     "output_type": "execute_result"
    },
    {
     "data": {
      "image/png": "[encoded data removed]",
      "text/plain": [
       "<Figure size 432x288 with 1 Axes>"
      ]
     },
     "metadata": {
      "needs_background": "light",
      "tags": []
     },
     "output_type": "display_data"
    }
   ],
   "source": [
    "sns.boxplot([x**3 for x in set1])"
   ]
  },
  {
   "cell_type": "code",
   "execution_count": null,
   "metadata": {
    "colab": {
     "base_uri": "https://localhost:8080/",
     "height": 283
    },
    "id": "BtxaqzwT-KlV",
    "outputId": "7a19c860-d6a6-4c9a-e8b8-b6aeecf7f8d0"
   },
   "outputs": [
    {
     "data": {
      "text/plain": [
       "<matplotlib.axes._subplots.AxesSubplot at 0x7faa22654550>"
      ]
     },
     "execution_count": 25,
     "metadata": {
      "tags": []
     },
     "output_type": "execute_result"
    },
    {
     "data": {
      "image/png": "[encoded data removed]",
      "text/plain": [
       "<Figure size 432x288 with 1 Axes>"
      ]
     },
     "metadata": {
      "needs_background": "light",
      "tags": []
     },
     "output_type": "display_data"
    }
   ],
   "source": [
    "sns.boxplot([7000-x**3 for x in set1])"
   ]
  },
  {
   "cell_type": "code",
   "execution_count": null,
   "metadata": {
    "id": "QiNh1yyR-KlX"
   },
   "outputs": [],
   "source": [
    "set3 = list(np.random.uniform(0,1,1000))"
   ]
  },
  {
   "cell_type": "code",
   "execution_count": null,
   "metadata": {
    "colab": {
     "base_uri": "https://localhost:8080/",
     "height": 283
    },
    "id": "iyyr-kEI-KlY",
    "outputId": "7f96fa33-8b93-4326-8784-ca4907b9633a"
   },
   "outputs": [
    {
     "data": {
      "text/plain": [
       "<matplotlib.axes._subplots.AxesSubplot at 0x7faa2263f470>"
      ]
     },
     "execution_count": 27,
     "metadata": {
      "tags": []
     },
     "output_type": "execute_result"
    },
    {
     "data": {
      "image/png": "[encoded data removed]",
      "text/plain": [
       "<Figure size 432x288 with 1 Axes>"
      ]
     },
     "metadata": {
      "needs_background": "light",
      "tags": []
     },
     "output_type": "display_data"
    }
   ],
   "source": [
    "sns.boxplot(set3)"
   ]
  },
  {
   "cell_type": "markdown",
   "metadata": {
    "id": "kihok6I2-Klb"
   },
   "source": [
    "detail about graphical summary already discussed in the previous study"
   ]
  },
  {
   "cell_type": "code",
   "execution_count": null,
   "metadata": {
    "id": "4Yqg2tuc-Klb"
   },
   "outputs": [],
   "source": [
    "tips = sns.load_dataset('tips')"
   ]
  },
  {
   "cell_type": "code",
   "execution_count": null,
   "metadata": {
    "colab": {
     "base_uri": "https://localhost:8080/",
     "height": 300
    },
    "id": "Y74At8Jc-Kld",
    "outputId": "f4f8fd9d-23f9-440a-9626-f23d570d278b",
    "scrolled": true
   },
   "outputs": [
    {
     "data": {
      "text/plain": [
       "<matplotlib.axes._subplots.AxesSubplot at 0x7faa22fe01d0>"
      ]
     },
     "execution_count": 29,
     "metadata": {
      "tags": []
     },
     "output_type": "execute_result"
    },
    {
     "data": {
      "image/png": "[encoded data removed]",
      "text/plain": [
       "<Figure size 432x288 with 1 Axes>"
      ]
     },
     "metadata": {
      "needs_background": "light",
      "tags": []
     },
     "output_type": "display_data"
    }
   ],
   "source": [
    "sns.distplot(tips['total_bill'])"
   ]
  },
  {
   "cell_type": "code",
   "execution_count": null,
   "metadata": {
    "colab": {
     "base_uri": "https://localhost:8080/",
     "height": 300
    },
    "id": "qc5kePul-Kle",
    "outputId": "0c6ef884-6d68-4bae-c9ff-31b5d5ccda41"
   },
   "outputs": [
    {
     "data": {
      "text/plain": [
       "<matplotlib.axes._subplots.AxesSubplot at 0x7faa2264ccf8>"
      ]
     },
     "execution_count": 30,
     "metadata": {
      "tags": []
     },
     "output_type": "execute_result"
    },
    {
     "data": {
      "image/png": "[encoded data removed]",
      "text/plain": [
       "<Figure size 432x288 with 1 Axes>"
      ]
     },
     "metadata": {
      "needs_background": "light",
      "tags": []
     },
     "output_type": "display_data"
    }
   ],
   "source": [
    "sns.distplot(tips['total_bill'], bins = 30)"
   ]
  },
  {
   "cell_type": "code",
   "execution_count": null,
   "metadata": {
    "colab": {
     "base_uri": "https://localhost:8080/",
     "height": 298
    },
    "id": "nI3qtQiV-Klg",
    "outputId": "4675334f-e4b3-4725-b939-acb57b286835"
   },
   "outputs": [
    {
     "data": {
      "text/plain": [
       "<matplotlib.axes._subplots.AxesSubplot at 0x7faa22516da0>"
      ]
     },
     "execution_count": 31,
     "metadata": {
      "tags": []
     },
     "output_type": "execute_result"
    },
    {
     "data": {
      "image/png": "[encoded data removed]",
      "text/plain": [
       "<Figure size 432x288 with 1 Axes>"
      ]
     },
     "metadata": {
      "needs_background": "light",
      "tags": []
     },
     "output_type": "display_data"
    }
   ],
   "source": [
    "sns.boxplot(tips['total_bill'])"
   ]
  },
  {
   "cell_type": "code",
   "execution_count": null,
   "metadata": {
    "colab": {
     "base_uri": "https://localhost:8080/",
     "height": 297
    },
    "id": "_D6a11Xv-Kli",
    "outputId": "f1f45a54-dd4f-48a8-ebbd-858a43680e62"
   },
   "outputs": [
    {
     "data": {
      "text/plain": [
       "<matplotlib.axes._subplots.AxesSubplot at 0x7faa228e09e8>"
      ]
     },
     "execution_count": 32,
     "metadata": {
      "tags": []
     },
     "output_type": "execute_result"
    },
    {
     "data": {
      "image/png": "[encoded data removed]",
      "text/plain": [
       "<Figure size 432x288 with 1 Axes>"
      ]
     },
     "metadata": {
      "needs_background": "light",
      "tags": []
     },
     "output_type": "display_data"
    }
   ],
   "source": [
    "sns.countplot(x = 'day', data = tips)"
   ]
  },
  {
   "cell_type": "code",
   "execution_count": null,
   "metadata": {
    "colab": {
     "base_uri": "https://localhost:8080/",
     "height": 297
    },
    "id": "ly50MRDZ-Klk",
    "outputId": "a8c696da-5434-40c8-9b75-a6c89edefe7f"
   },
   "outputs": [
    {
     "data": {
      "text/plain": [
       "<matplotlib.axes._subplots.AxesSubplot at 0x7faa22780e48>"
      ]
     },
     "execution_count": 33,
     "metadata": {
      "tags": []
     },
     "output_type": "execute_result"
    },
    {
     "data": {
      "image/png": "[encoded data removed]",
      "text/plain": [
       "<Figure size 432x288 with 1 Axes>"
      ]
     },
     "metadata": {
      "needs_background": "light",
      "tags": []
     },
     "output_type": "display_data"
    }
   ],
   "source": [
    "sns.barplot(x = 'day', y = 'tip', data = tips)"
   ]
  },
  {
   "cell_type": "code",
   "execution_count": null,
   "metadata": {
    "id": "i9yO09My-Klm"
   },
   "outputs": [],
   "source": [
    "tips['tip bin'] = pd.cut(tips['tip'], bins=6)"
   ]
  },
  {
   "cell_type": "code",
   "execution_count": null,
   "metadata": {
    "colab": {
     "base_uri": "https://localhost:8080/",
     "height": 141
    },
    "id": "ZaK3kPpY-Klo",
    "outputId": "e60a3ee7-4733-4d52-e309-12221935bb4a"
   },
   "outputs": [
    {
     "data": {
      "text/plain": [
       "(0.991, 2.5]    108\n",
       "(2.5, 4.0]       95\n",
       "(4.0, 5.5]       29\n",
       "(5.5, 7.0]        9\n",
       "(7.0, 8.5]        1\n",
       "(8.5, 10.0]       2\n",
       "Name: tip bin, dtype: int64"
      ]
     },
     "execution_count": 35,
     "metadata": {
      "tags": []
     },
     "output_type": "execute_result"
    }
   ],
   "source": [
    "tips['tip bin'].value_counts().sort_index()"
   ]
  },
  {
   "cell_type": "code",
   "execution_count": null,
   "metadata": {
    "colab": {
     "base_uri": "https://localhost:8080/",
     "height": 252
    },
    "id": "qs6tHW8g-Klp",
    "outputId": "53644ced-0451-48eb-8a1d-049528034e05"
   },
   "outputs": [
    {
     "data": {
      "text/html": [
       "<div>\n",
       "<style scoped>\n",
       "    .dataframe tbody tr th:only-of-type {\n",
       "        vertical-align: middle;\n",
       "    }\n",
       "\n",
       "    .dataframe tbody tr th {\n",
       "        vertical-align: top;\n",
       "    }\n",
       "\n",
       "    .dataframe thead th {\n",
       "        text-align: right;\n",
       "    }\n",
       "</style>\n",
       "<table border=\"1\" class=\"dataframe\">\n",
       "  <thead>\n",
       "    <tr style=\"text-align: right;\">\n",
       "      <th>col_0</th>\n",
       "      <th>count</th>\n",
       "    </tr>\n",
       "    <tr>\n",
       "      <th>tip bin</th>\n",
       "      <th></th>\n",
       "    </tr>\n",
       "  </thead>\n",
       "  <tbody>\n",
       "    <tr>\n",
       "      <th>(0.991, 2.5]</th>\n",
       "      <td>108</td>\n",
       "    </tr>\n",
       "    <tr>\n",
       "      <th>(2.5, 4.0]</th>\n",
       "      <td>95</td>\n",
       "    </tr>\n",
       "    <tr>\n",
       "      <th>(4.0, 5.5]</th>\n",
       "      <td>29</td>\n",
       "    </tr>\n",
       "    <tr>\n",
       "      <th>(5.5, 7.0]</th>\n",
       "      <td>9</td>\n",
       "    </tr>\n",
       "    <tr>\n",
       "      <th>(7.0, 8.5]</th>\n",
       "      <td>1</td>\n",
       "    </tr>\n",
       "    <tr>\n",
       "      <th>(8.5, 10.0]</th>\n",
       "      <td>2</td>\n",
       "    </tr>\n",
       "  </tbody>\n",
       "</table>\n",
       "</div>"
      ],
      "text/plain": [
       "col_0         count\n",
       "tip bin            \n",
       "(0.991, 2.5]    108\n",
       "(2.5, 4.0]       95\n",
       "(4.0, 5.5]       29\n",
       "(5.5, 7.0]        9\n",
       "(7.0, 8.5]        1\n",
       "(8.5, 10.0]       2"
      ]
     },
     "execution_count": 36,
     "metadata": {
      "tags": []
     },
     "output_type": "execute_result"
    }
   ],
   "source": [
    "pd.crosstab(tips['tip bin'], columns = 'count')"
   ]
  },
  {
   "cell_type": "code",
   "execution_count": null,
   "metadata": {
    "colab": {
     "base_uri": "https://localhost:8080/",
     "height": 297
    },
    "id": "TGPiUpVh-Klr",
    "outputId": "9321929d-39d4-4386-9b5c-4905a58cce85"
   },
   "outputs": [
    {
     "data": {
      "text/plain": [
       "<matplotlib.axes._subplots.AxesSubplot at 0x7faa223685f8>"
      ]
     },
     "execution_count": 37,
     "metadata": {
      "tags": []
     },
     "output_type": "execute_result"
    },
    {
     "data": {
      "image/png": "[encoded data removed]",
      "text/plain": [
       "<Figure size 432x288 with 1 Axes>"
      ]
     },
     "metadata": {
      "needs_background": "light",
      "tags": []
     },
     "output_type": "display_data"
    }
   ],
   "source": [
    "sns.distplot(tips['tip'], bins = 6, kde =False)"
   ]
  },
  {
   "cell_type": "markdown",
   "metadata": {
    "id": "E-3oXbJq-Kls"
   },
   "source": [
    "# Inferential Statistics"
   ]
  },
  {
   "cell_type": "markdown",
   "metadata": {
    "id": "Glg7ECfR-Klt"
   },
   "source": [
    "1. T test single population mean\n",
    "1. T test independence double population mean\n",
    "    1. equal variance\n",
    "    1. non equal variance\n",
    "1. T test paired \n",
    "1. F test for more than two population mean\n",
    "1. Proportion Test"
   ]
  },
  {
   "cell_type": "markdown",
   "metadata": {
    "id": "rIP6ZTOA-Klt"
   },
   "source": [
    "## One Sample T-Test"
   ]
  },
  {
   "cell_type": "code",
   "execution_count": null,
   "metadata": {
    "id": "eoJIW886-Klt"
   },
   "outputs": [],
   "source": [
    "from scipy.stats import ttest_1samp\n",
    "import numpy as np\n",
    "ages = np.round(np.random.normal(30,4,40))"
   ]
  },
  {
   "cell_type": "code",
   "execution_count": null,
   "metadata": {
    "id": "_IcsdFU7-Klv"
   },
   "outputs": [],
   "source": [
    "df = pd.DataFrame({'ages':ages})"
   ]
  },
  {
   "cell_type": "code",
   "execution_count": null,
   "metadata": {
    "colab": {
     "base_uri": "https://localhost:8080/",
     "height": 194
    },
    "id": "vfB48S0Z-Klx",
    "outputId": "0cabee8d-5d39-4d0b-d8f6-490138ba9ba7"
   },
   "outputs": [
    {
     "data": {
      "text/html": [
       "<div>\n",
       "<style scoped>\n",
       "    .dataframe tbody tr th:only-of-type {\n",
       "        vertical-align: middle;\n",
       "    }\n",
       "\n",
       "    .dataframe tbody tr th {\n",
       "        vertical-align: top;\n",
       "    }\n",
       "\n",
       "    .dataframe thead th {\n",
       "        text-align: right;\n",
       "    }\n",
       "</style>\n",
       "<table border=\"1\" class=\"dataframe\">\n",
       "  <thead>\n",
       "    <tr style=\"text-align: right;\">\n",
       "      <th></th>\n",
       "      <th>ages</th>\n",
       "    </tr>\n",
       "  </thead>\n",
       "  <tbody>\n",
       "    <tr>\n",
       "      <th>0</th>\n",
       "      <td>29.0</td>\n",
       "    </tr>\n",
       "    <tr>\n",
       "      <th>1</th>\n",
       "      <td>28.0</td>\n",
       "    </tr>\n",
       "    <tr>\n",
       "      <th>2</th>\n",
       "      <td>35.0</td>\n",
       "    </tr>\n",
       "    <tr>\n",
       "      <th>3</th>\n",
       "      <td>29.0</td>\n",
       "    </tr>\n",
       "    <tr>\n",
       "      <th>4</th>\n",
       "      <td>21.0</td>\n",
       "    </tr>\n",
       "  </tbody>\n",
       "</table>\n",
       "</div>"
      ],
      "text/plain": [
       "   ages\n",
       "0  29.0\n",
       "1  28.0\n",
       "2  35.0\n",
       "3  29.0\n",
       "4  21.0"
      ]
     },
     "execution_count": 40,
     "metadata": {
      "tags": []
     },
     "output_type": "execute_result"
    }
   ],
   "source": [
    "df.head()"
   ]
  },
  {
   "cell_type": "code",
   "execution_count": null,
   "metadata": {
    "colab": {
     "base_uri": "https://localhost:8080/",
     "height": 177
    },
    "id": "AXphIue1-Klz",
    "outputId": "24a0cd5a-2a1e-417b-dd91-7760bcd32454"
   },
   "outputs": [
    {
     "data": {
      "text/plain": [
       "count    40.000000\n",
       "mean     29.900000\n",
       "std       3.593441\n",
       "min      21.000000\n",
       "25%      28.000000\n",
       "50%      29.500000\n",
       "75%      32.250000\n",
       "max      36.000000\n",
       "Name: ages, dtype: float64"
      ]
     },
     "execution_count": 41,
     "metadata": {
      "tags": []
     },
     "output_type": "execute_result"
    }
   ],
   "source": [
    "df['ages'].describe()"
   ]
  },
  {
   "cell_type": "code",
   "execution_count": null,
   "metadata": {
    "colab": {
     "base_uri": "https://localhost:8080/",
     "height": 297
    },
    "id": "DSbdXuXL-Kl3",
    "outputId": "ff8b27f7-e1a4-43c1-c9d3-00e8f7b8209a"
   },
   "outputs": [
    {
     "data": {
      "text/plain": [
       "<matplotlib.axes._subplots.AxesSubplot at 0x7faa222dddd8>"
      ]
     },
     "execution_count": 42,
     "metadata": {
      "tags": []
     },
     "output_type": "execute_result"
    },
    {
     "data": {
      "image/png": "[encoded data removed]",
      "text/plain": [
       "<Figure size 432x288 with 1 Axes>"
      ]
     },
     "metadata": {
      "needs_background": "light",
      "tags": []
     },
     "output_type": "display_data"
    }
   ],
   "source": [
    "sns.distplot(df['ages'])"
   ]
  },
  {
   "cell_type": "code",
   "execution_count": null,
   "metadata": {
    "colab": {
     "base_uri": "https://localhost:8080/",
     "height": 297
    },
    "id": "SQdfcWxn-Kl5",
    "outputId": "43e8a273-3256-4f2e-f92f-aab63f01f9cc"
   },
   "outputs": [
    {
     "data": {
      "text/plain": [
       "<matplotlib.axes._subplots.AxesSubplot at 0x7faa22264ac8>"
      ]
     },
     "execution_count": 43,
     "metadata": {
      "tags": []
     },
     "output_type": "execute_result"
    },
    {
     "data": {
      "image/png": "[encoded data removed]",
      "text/plain": [
       "<Figure size 432x288 with 1 Axes>"
      ]
     },
     "metadata": {
      "needs_background": "light",
      "tags": []
     },
     "output_type": "display_data"
    }
   ],
   "source": [
    "sns.boxplot(df['ages'])"
   ]
  },
  {
   "cell_type": "markdown",
   "metadata": {
    "id": "6OD3Hmxu-Kl7"
   },
   "source": [
    "Ho : Age Mean Population = 27 vs Ha : Age Mean Population > 27"
   ]
  },
  {
   "cell_type": "code",
   "execution_count": null,
   "metadata": {
    "colab": {
     "base_uri": "https://localhost:8080/",
     "height": 35
    },
    "id": "tpygKNeq-Kl7",
    "outputId": "5488649e-ca25-47e2-eb91-08ca5a87e52b"
   },
   "outputs": [
    {
     "name": "stdout",
     "output_type": "stream",
     "text": [
      "p-value 4.506694228969573e-06\n"
     ]
    }
   ],
   "source": [
    "tset, pval = ttest_1samp(df['ages'], 27)\n",
    "print('p-value',pval/2)"
   ]
  },
  {
   "cell_type": "markdown",
   "metadata": {
    "id": "EmX5r8Bv-Kl-"
   },
   "source": [
    "The P-value is lower than our significant level 0.05, it means we have enough evidence to reject the Null Hypothesis. So, Mean population Age is higher than 27 with signicant level 5%. "
   ]
  },
  {
   "cell_type": "markdown",
   "metadata": {
    "id": "s6rH2SnM-Kl-"
   },
   "source": [
    "## Two Sample Independent T-Test"
   ]
  },
  {
   "cell_type": "markdown",
   "metadata": {
    "id": "MbCGYElh-Kl-"
   },
   "source": [
    "Let's create the dataset"
   ]
  },
  {
   "cell_type": "code",
   "execution_count": null,
   "metadata": {
    "ExecuteTime": {
     "end_time": "2019-08-21T03:17:24.818364Z",
     "start_time": "2019-08-21T03:17:24.808426Z"
    },
    "id": "f3o7ay-l-Kl_"
   },
   "outputs": [],
   "source": [
    "hat = pd.concat([pd.Series(data = ['Yes', 'No', 'Yes', 'Yes', 'No', 'No', 'No','Yes','Yes', 'No','Yes','Yes','No','Yes','No','Yes','No','No','No','Yes'],name = 'Wearing Hat'),\n",
    "                pd.Series(data = [70,85,80,45,80,70,90,70,55,80,75,60,70,85,80,85,55,75,65,70], name ='Score')],axis = 1)"
   ]
  },
  {
   "cell_type": "code",
   "execution_count": null,
   "metadata": {
    "colab": {
     "base_uri": "https://localhost:8080/",
     "height": 634
    },
    "id": "zq4feeEt-KmA",
    "outputId": "b2bb42e4-516e-4bb4-bada-376f428ccfef"
   },
   "outputs": [
    {
     "data": {
      "text/html": [
       "<div>\n",
       "<style scoped>\n",
       "    .dataframe tbody tr th:only-of-type {\n",
       "        vertical-align: middle;\n",
       "    }\n",
       "\n",
       "    .dataframe tbody tr th {\n",
       "        vertical-align: top;\n",
       "    }\n",
       "\n",
       "    .dataframe thead th {\n",
       "        text-align: right;\n",
       "    }\n",
       "</style>\n",
       "<table border=\"1\" class=\"dataframe\">\n",
       "  <thead>\n",
       "    <tr style=\"text-align: right;\">\n",
       "      <th></th>\n",
       "      <th>Wearing Hat</th>\n",
       "      <th>Score</th>\n",
       "    </tr>\n",
       "  </thead>\n",
       "  <tbody>\n",
       "    <tr>\n",
       "      <th>0</th>\n",
       "      <td>Yes</td>\n",
       "      <td>70</td>\n",
       "    </tr>\n",
       "    <tr>\n",
       "      <th>1</th>\n",
       "      <td>No</td>\n",
       "      <td>85</td>\n",
       "    </tr>\n",
       "    <tr>\n",
       "      <th>2</th>\n",
       "      <td>Yes</td>\n",
       "      <td>80</td>\n",
       "    </tr>\n",
       "    <tr>\n",
       "      <th>3</th>\n",
       "      <td>Yes</td>\n",
       "      <td>45</td>\n",
       "    </tr>\n",
       "    <tr>\n",
       "      <th>4</th>\n",
       "      <td>No</td>\n",
       "      <td>80</td>\n",
       "    </tr>\n",
       "    <tr>\n",
       "      <th>5</th>\n",
       "      <td>No</td>\n",
       "      <td>70</td>\n",
       "    </tr>\n",
       "    <tr>\n",
       "      <th>6</th>\n",
       "      <td>No</td>\n",
       "      <td>90</td>\n",
       "    </tr>\n",
       "    <tr>\n",
       "      <th>7</th>\n",
       "      <td>Yes</td>\n",
       "      <td>70</td>\n",
       "    </tr>\n",
       "    <tr>\n",
       "      <th>8</th>\n",
       "      <td>Yes</td>\n",
       "      <td>55</td>\n",
       "    </tr>\n",
       "    <tr>\n",
       "      <th>9</th>\n",
       "      <td>No</td>\n",
       "      <td>80</td>\n",
       "    </tr>\n",
       "    <tr>\n",
       "      <th>10</th>\n",
       "      <td>Yes</td>\n",
       "      <td>75</td>\n",
       "    </tr>\n",
       "    <tr>\n",
       "      <th>11</th>\n",
       "      <td>Yes</td>\n",
       "      <td>60</td>\n",
       "    </tr>\n",
       "    <tr>\n",
       "      <th>12</th>\n",
       "      <td>No</td>\n",
       "      <td>70</td>\n",
       "    </tr>\n",
       "    <tr>\n",
       "      <th>13</th>\n",
       "      <td>Yes</td>\n",
       "      <td>85</td>\n",
       "    </tr>\n",
       "    <tr>\n",
       "      <th>14</th>\n",
       "      <td>No</td>\n",
       "      <td>80</td>\n",
       "    </tr>\n",
       "    <tr>\n",
       "      <th>15</th>\n",
       "      <td>Yes</td>\n",
       "      <td>85</td>\n",
       "    </tr>\n",
       "    <tr>\n",
       "      <th>16</th>\n",
       "      <td>No</td>\n",
       "      <td>55</td>\n",
       "    </tr>\n",
       "    <tr>\n",
       "      <th>17</th>\n",
       "      <td>No</td>\n",
       "      <td>75</td>\n",
       "    </tr>\n",
       "    <tr>\n",
       "      <th>18</th>\n",
       "      <td>No</td>\n",
       "      <td>65</td>\n",
       "    </tr>\n",
       "    <tr>\n",
       "      <th>19</th>\n",
       "      <td>Yes</td>\n",
       "      <td>70</td>\n",
       "    </tr>\n",
       "  </tbody>\n",
       "</table>\n",
       "</div>"
      ],
      "text/plain": [
       "   Wearing Hat  Score\n",
       "0          Yes     70\n",
       "1           No     85\n",
       "2          Yes     80\n",
       "3          Yes     45\n",
       "4           No     80\n",
       "5           No     70\n",
       "6           No     90\n",
       "7          Yes     70\n",
       "8          Yes     55\n",
       "9           No     80\n",
       "10         Yes     75\n",
       "11         Yes     60\n",
       "12          No     70\n",
       "13         Yes     85\n",
       "14          No     80\n",
       "15         Yes     85\n",
       "16          No     55\n",
       "17          No     75\n",
       "18          No     65\n",
       "19         Yes     70"
      ]
     },
     "execution_count": 46,
     "metadata": {
      "tags": []
     },
     "output_type": "execute_result"
    }
   ],
   "source": [
    "hat"
   ]
  },
  {
   "cell_type": "code",
   "execution_count": null,
   "metadata": {
    "ExecuteTime": {
     "end_time": "2019-08-21T03:17:33.208836Z",
     "start_time": "2019-08-21T03:17:31.235622Z"
    },
    "colab": {
     "base_uri": "https://localhost:8080/",
     "height": 297
    },
    "id": "zYmx7sNX-KmC",
    "outputId": "4e2f3db0-aa97-45b0-8e59-60f9c4cd0930"
   },
   "outputs": [
    {
     "data": {
      "text/plain": [
       "Text(0, 0.5, 'Frequency')"
      ]
     },
     "execution_count": 47,
     "metadata": {
      "tags": []
     },
     "output_type": "execute_result"
    },
    {
     "data": {
      "image/png": "[encoded data removed]",
      "text/plain": [
       "<Figure size 432x288 with 1 Axes>"
      ]
     },
     "metadata": {
      "tags": []
     },
     "output_type": "display_data"
    }
   ],
   "source": [
    "sns.set_style('darkgrid')\n",
    "sns.distplot(hat[hat['Wearing Hat'] == 'Yes']['Score'], color = 'red', label = 'Wearing Hat')\n",
    "sns.distplot(hat[hat['Wearing Hat'] == 'No']['Score'], color = 'green', label ='Not Wearing Hat')\n",
    "plt.legend()\n",
    "plt.ylabel('Frequency')"
   ]
  },
  {
   "cell_type": "markdown",
   "metadata": {
    "id": "JV3ecQIY-KmE"
   },
   "source": [
    "The distribution is seems to follow the Normal Distribution, let's try use the Independent T-Test from the Scipy"
   ]
  },
  {
   "cell_type": "code",
   "execution_count": null,
   "metadata": {
    "colab": {
     "base_uri": "https://localhost:8080/",
     "height": 297
    },
    "id": "j7tafWwX-KmE",
    "outputId": "89832ed0-d8f5-4016-c995-a5032f025941"
   },
   "outputs": [
    {
     "data": {
      "text/plain": [
       "<matplotlib.axes._subplots.AxesSubplot at 0x7faa221a6438>"
      ]
     },
     "execution_count": 48,
     "metadata": {
      "tags": []
     },
     "output_type": "execute_result"
    },
    {
     "data": {
      "image/png": "[encoded data removed]",
      "text/plain": [
       "<Figure size 432x288 with 1 Axes>"
      ]
     },
     "metadata": {
      "tags": []
     },
     "output_type": "display_data"
    }
   ],
   "source": [
    "sns.boxplot(x = 'Wearing Hat', y = 'Score', data = hat)"
   ]
  },
  {
   "cell_type": "markdown",
   "metadata": {
    "id": "Le4hrlmW-KmG"
   },
   "source": [
    "Ho : Mean Popolation of Score not wearing hat = Mean Popolation of Score wearing hat \n",
    "<br>\n",
    "Ha : Mean Popolation of Score not wearing hat > Mean Popolation of Score wearing hat"
   ]
  },
  {
   "cell_type": "markdown",
   "metadata": {
    "id": "J8QYDGEm-KmG"
   },
   "source": [
    "non equal variance assumption"
   ]
  },
  {
   "cell_type": "code",
   "execution_count": null,
   "metadata": {
    "ExecuteTime": {
     "end_time": "2019-08-21T03:17:40.817552Z",
     "start_time": "2019-08-21T03:17:40.809571Z"
    },
    "colab": {
     "base_uri": "https://localhost:8080/",
     "height": 52
    },
    "id": "ibx5X35f-KmG",
    "outputId": "8c13b37a-d255-43bb-95e8-f74a0a92e190"
   },
   "outputs": [
    {
     "name": "stdout",
     "output_type": "stream",
     "text": [
      "T-Statistic: 1.0493389512356741\n",
      "P-Value: 0.1543203279173745\n"
     ]
    }
   ],
   "source": [
    "from scipy.stats import ttest_ind\n",
    "result = list(ttest_ind(\n",
    "    hat[hat['Wearing Hat'] == 'No']['Score'], \n",
    "    hat[hat['Wearing Hat'] == 'Yes']['Score'],\n",
    "    equal_var = False\n",
    "))\n",
    "print('T-Statistic:', result[0])\n",
    "print('P-Value:', result[1]/2)"
   ]
  },
  {
   "cell_type": "markdown",
   "metadata": {
    "id": "KaAnX2kG-KmI"
   },
   "source": [
    "equal variance assumption"
   ]
  },
  {
   "cell_type": "code",
   "execution_count": null,
   "metadata": {
    "colab": {
     "base_uri": "https://localhost:8080/",
     "height": 52
    },
    "id": "j3q7TMXI-KmI",
    "outputId": "efc0466a-4a6f-4587-d1d1-298685bfc0a4"
   },
   "outputs": [
    {
     "name": "stdout",
     "output_type": "stream",
     "text": [
      "T-Statistic: 1.049338951235674\n",
      "P-Value: 0.15395387283575152\n"
     ]
    }
   ],
   "source": [
    "from scipy.stats import ttest_ind\n",
    "result = list(ttest_ind(\n",
    "    hat[hat['Wearing Hat'] == 'No']['Score'], \n",
    "    hat[hat['Wearing Hat'] == 'Yes']['Score'],\n",
    "    equal_var = True\n",
    "))\n",
    "print('T-Statistic:', result[0])\n",
    "print('P-Value:', result[1]/2)"
   ]
  },
  {
   "cell_type": "markdown",
   "metadata": {
    "id": "beSBqCok-KmJ"
   },
   "source": [
    "The P-value is higher than our significant level 0.05, it means we don't have enough evidence to reject the Null Hypothesis. So, Mean Popolation of Score not wearing hat are still aproximately equal to Mean Popolation of Score wearing hat."
   ]
  },
  {
   "cell_type": "markdown",
   "metadata": {
    "id": "nTLy1OzC-KmK"
   },
   "source": [
    "## T-Test Paired"
   ]
  },
  {
   "cell_type": "markdown",
   "metadata": {
    "id": "tjPokmRb-KmK"
   },
   "source": [
    "reaction time on driving skill before and while using cell phone"
   ]
  },
  {
   "cell_type": "code",
   "execution_count": null,
   "metadata": {
    "id": "TLFTCDQX-KmL"
   },
   "outputs": [],
   "source": [
    "with_cell_phone = [604,556,540,522,469,544,513,470,556,531,599,537,619,536,554,467]\n",
    "without_cell_phone = [636,623,615,672,601,600,542,554,543,520,609,559,595,565,573,554]\n",
    "\n",
    "df_paired = pd.DataFrame({\n",
    "    'no':without_cell_phone,\n",
    "    'yes':with_cell_phone\n",
    "})"
   ]
  },
  {
   "cell_type": "code",
   "execution_count": null,
   "metadata": {
    "id": "KzWL_KEP-KmN"
   },
   "outputs": [],
   "source": [
    "df_paired['diff'] = df_paired['yes'] - df_paired['no']"
   ]
  },
  {
   "cell_type": "code",
   "execution_count": null,
   "metadata": {
    "colab": {
     "base_uri": "https://localhost:8080/",
     "height": 340
    },
    "id": "pl-ZbwQ7-KmO",
    "outputId": "5acd39b3-bf3d-45df-a6c2-40981d0887e4"
   },
   "outputs": [
    {
     "data": {
      "text/html": [
       "<div>\n",
       "<style scoped>\n",
       "    .dataframe tbody tr th:only-of-type {\n",
       "        vertical-align: middle;\n",
       "    }\n",
       "\n",
       "    .dataframe tbody tr th {\n",
       "        vertical-align: top;\n",
       "    }\n",
       "\n",
       "    .dataframe thead th {\n",
       "        text-align: right;\n",
       "    }\n",
       "</style>\n",
       "<table border=\"1\" class=\"dataframe\">\n",
       "  <thead>\n",
       "    <tr style=\"text-align: right;\">\n",
       "      <th></th>\n",
       "      <th>no</th>\n",
       "      <th>yes</th>\n",
       "      <th>diff</th>\n",
       "    </tr>\n",
       "  </thead>\n",
       "  <tbody>\n",
       "    <tr>\n",
       "      <th>0</th>\n",
       "      <td>636</td>\n",
       "      <td>604</td>\n",
       "      <td>-32</td>\n",
       "    </tr>\n",
       "    <tr>\n",
       "      <th>1</th>\n",
       "      <td>623</td>\n",
       "      <td>556</td>\n",
       "      <td>-67</td>\n",
       "    </tr>\n",
       "    <tr>\n",
       "      <th>2</th>\n",
       "      <td>615</td>\n",
       "      <td>540</td>\n",
       "      <td>-75</td>\n",
       "    </tr>\n",
       "    <tr>\n",
       "      <th>3</th>\n",
       "      <td>672</td>\n",
       "      <td>522</td>\n",
       "      <td>-150</td>\n",
       "    </tr>\n",
       "    <tr>\n",
       "      <th>4</th>\n",
       "      <td>601</td>\n",
       "      <td>469</td>\n",
       "      <td>-132</td>\n",
       "    </tr>\n",
       "    <tr>\n",
       "      <th>5</th>\n",
       "      <td>600</td>\n",
       "      <td>544</td>\n",
       "      <td>-56</td>\n",
       "    </tr>\n",
       "    <tr>\n",
       "      <th>6</th>\n",
       "      <td>542</td>\n",
       "      <td>513</td>\n",
       "      <td>-29</td>\n",
       "    </tr>\n",
       "    <tr>\n",
       "      <th>7</th>\n",
       "      <td>554</td>\n",
       "      <td>470</td>\n",
       "      <td>-84</td>\n",
       "    </tr>\n",
       "    <tr>\n",
       "      <th>8</th>\n",
       "      <td>543</td>\n",
       "      <td>556</td>\n",
       "      <td>13</td>\n",
       "    </tr>\n",
       "    <tr>\n",
       "      <th>9</th>\n",
       "      <td>520</td>\n",
       "      <td>531</td>\n",
       "      <td>11</td>\n",
       "    </tr>\n",
       "  </tbody>\n",
       "</table>\n",
       "</div>"
      ],
      "text/plain": [
       "    no  yes  diff\n",
       "0  636  604   -32\n",
       "1  623  556   -67\n",
       "2  615  540   -75\n",
       "3  672  522  -150\n",
       "4  601  469  -132\n",
       "5  600  544   -56\n",
       "6  542  513   -29\n",
       "7  554  470   -84\n",
       "8  543  556    13\n",
       "9  520  531    11"
      ]
     },
     "execution_count": 53,
     "metadata": {
      "tags": []
     },
     "output_type": "execute_result"
    }
   ],
   "source": [
    "df_paired.head(10)"
   ]
  },
  {
   "cell_type": "code",
   "execution_count": null,
   "metadata": {
    "colab": {
     "base_uri": "https://localhost:8080/",
     "height": 177
    },
    "id": "F2kGs9Kq-KmR",
    "outputId": "a20191cc-34dc-44e5-b400-34716287d6e6"
   },
   "outputs": [
    {
     "data": {
      "text/plain": [
       "count     16.000000\n",
       "mean     -46.500000\n",
       "std       50.146452\n",
       "min     -150.000000\n",
       "25%      -77.250000\n",
       "50%      -30.500000\n",
       "75%      -16.750000\n",
       "max       24.000000\n",
       "Name: diff, dtype: float64"
      ]
     },
     "execution_count": 54,
     "metadata": {
      "tags": []
     },
     "output_type": "execute_result"
    }
   ],
   "source": [
    "df_paired['diff'].describe()"
   ]
  },
  {
   "cell_type": "code",
   "execution_count": null,
   "metadata": {
    "colab": {
     "base_uri": "https://localhost:8080/",
     "height": 297
    },
    "id": "72Ie3u5q-KmT",
    "outputId": "e91e65f0-25fd-4d51-afd3-6b2583be3bda"
   },
   "outputs": [
    {
     "data": {
      "text/plain": [
       "<matplotlib.axes._subplots.AxesSubplot at 0x7faa220e59b0>"
      ]
     },
     "execution_count": 55,
     "metadata": {
      "tags": []
     },
     "output_type": "execute_result"
    },
    {
     "data": {
      "image/png": "[encoded data removed]",
      "text/plain": [
       "<Figure size 432x288 with 1 Axes>"
      ]
     },
     "metadata": {
      "tags": []
     },
     "output_type": "display_data"
    }
   ],
   "source": [
    "sns.boxplot(df_paired['diff'])"
   ]
  },
  {
   "cell_type": "markdown",
   "metadata": {
    "id": "bqPZAp-E-KmU"
   },
   "source": [
    "Ho : Mean Population of difference (yes-no) = 0\n",
    "<br>\n",
    "Ha : Mean Population of difference (yes-no) < 0"
   ]
  },
  {
   "cell_type": "code",
   "execution_count": null,
   "metadata": {
    "colab": {
     "base_uri": "https://localhost:8080/",
     "height": 52
    },
    "id": "rKo0T-2Q-KmU",
    "outputId": "090e497b-8512-4266-b909-0ac2d5204b7c"
   },
   "outputs": [
    {
     "name": "stdout",
     "output_type": "stream",
     "text": [
      "0.0010497189034628326\n",
      "-3.7091357792693707\n"
     ]
    }
   ],
   "source": [
    "tset, pval = ttest_1samp(df_paired['diff'], 0)\n",
    "print(pval/2)\n",
    "print(tset)"
   ]
  },
  {
   "cell_type": "markdown",
   "metadata": {
    "id": "7sp0JC_T-KmW"
   },
   "source": [
    "The P-value is lower than our significant level 0.05, it means we have enough evidence to reject the Null Hypothesis. So, reaction time on driving skill after using cell phone are lower than before using cell phone "
   ]
  },
  {
   "cell_type": "markdown",
   "metadata": {
    "id": "NnNiay66-KmW"
   },
   "source": [
    "## One-Way ANOVA\n",
    "Let's create the dataset"
   ]
  },
  {
   "cell_type": "code",
   "execution_count": null,
   "metadata": {
    "ExecuteTime": {
     "end_time": "2019-08-21T03:33:42.963397Z",
     "start_time": "2019-08-21T03:33:42.959438Z"
    },
    "id": "f9qaYW48-KmX"
   },
   "outputs": [],
   "source": [
    "transport = []\n",
    "method = ['Walking ', 'Public ', 'Private ']\n",
    "for i in method:\n",
    "    transport.extend((i*10).split())"
   ]
  },
  {
   "cell_type": "code",
   "execution_count": null,
   "metadata": {
    "ExecuteTime": {
     "end_time": "2019-08-21T03:43:05.346483Z",
     "start_time": "2019-08-21T03:43:05.336513Z"
    },
    "colab": {
     "base_uri": "https://localhost:8080/",
     "height": 194
    },
    "id": "1yjHLkqr-KmY",
    "outputId": "e5a42a4b-cd62-4d9d-b7b0-e6d9ed8fb2c6"
   },
   "outputs": [
    {
     "data": {
      "text/html": [
       "<div>\n",
       "<style scoped>\n",
       "    .dataframe tbody tr th:only-of-type {\n",
       "        vertical-align: middle;\n",
       "    }\n",
       "\n",
       "    .dataframe tbody tr th {\n",
       "        vertical-align: top;\n",
       "    }\n",
       "\n",
       "    .dataframe thead th {\n",
       "        text-align: right;\n",
       "    }\n",
       "</style>\n",
       "<table border=\"1\" class=\"dataframe\">\n",
       "  <thead>\n",
       "    <tr style=\"text-align: right;\">\n",
       "      <th></th>\n",
       "      <th>Transportation</th>\n",
       "      <th>Study Hour</th>\n",
       "    </tr>\n",
       "  </thead>\n",
       "  <tbody>\n",
       "    <tr>\n",
       "      <th>2</th>\n",
       "      <td>Walking</td>\n",
       "      <td>5</td>\n",
       "    </tr>\n",
       "    <tr>\n",
       "      <th>1</th>\n",
       "      <td>Walking</td>\n",
       "      <td>4</td>\n",
       "    </tr>\n",
       "    <tr>\n",
       "      <th>9</th>\n",
       "      <td>Walking</td>\n",
       "      <td>5</td>\n",
       "    </tr>\n",
       "    <tr>\n",
       "      <th>24</th>\n",
       "      <td>Private</td>\n",
       "      <td>6</td>\n",
       "    </tr>\n",
       "    <tr>\n",
       "      <th>13</th>\n",
       "      <td>Public</td>\n",
       "      <td>6</td>\n",
       "    </tr>\n",
       "  </tbody>\n",
       "</table>\n",
       "</div>"
      ],
      "text/plain": [
       "   Transportation  Study Hour\n",
       "2         Walking           5\n",
       "1         Walking           4\n",
       "9         Walking           5\n",
       "24        Private           6\n",
       "13         Public           6"
      ]
     },
     "execution_count": 58,
     "metadata": {
      "tags": []
     },
     "output_type": "execute_result"
    }
   ],
   "source": [
    "transportdf = pd.concat([pd.Series(transport, name = 'Transportation'), \n",
    "                     pd.Series([5,4,5,6,5,3,2,4,5,5,7,7,5,6,4,6,5,5,6,7,5,4,5,6,6,5,5,5,7,7], name = 'Study Hour')], axis =1)\n",
    "transportdf.sample(5)"
   ]
  },
  {
   "cell_type": "code",
   "execution_count": null,
   "metadata": {
    "ExecuteTime": {
     "end_time": "2019-08-21T03:48:23.438036Z",
     "start_time": "2019-08-21T03:48:23.281457Z"
    },
    "colab": {
     "base_uri": "https://localhost:8080/",
     "height": 300
    },
    "id": "Ejmfbhkd-Kma",
    "outputId": "734f39d5-ff25-4753-cd25-9766a161dde5"
   },
   "outputs": [
    {
     "data": {
      "text/plain": [
       "Text(0, 0.5, 'Frequency')"
      ]
     },
     "execution_count": 59,
     "metadata": {
      "tags": []
     },
     "output_type": "execute_result"
    },
    {
     "data": {
      "image/png": "[encoded data removed]",
      "text/plain": [
       "<Figure size 432x288 with 1 Axes>"
      ]
     },
     "metadata": {
      "tags": []
     },
     "output_type": "display_data"
    }
   ],
   "source": [
    "sns.distplot(transportdf[transportdf['Transportation'] == 'Walking']['Study Hour'], color = 'red', label = 'Walking')\n",
    "sns.distplot(transportdf[transportdf['Transportation'] == 'Public']['Study Hour'], color = 'green', label = 'Public')\n",
    "sns.distplot(transportdf[transportdf['Transportation'] == 'Private']['Study Hour'], color = 'blue', label = 'Private')\n",
    "plt.legend()\n",
    "plt.ylabel('Frequency')"
   ]
  },
  {
   "cell_type": "code",
   "execution_count": null,
   "metadata": {
    "colab": {
     "base_uri": "https://localhost:8080/",
     "height": 297
    },
    "id": "tbHx-0X3-Kmb",
    "outputId": "73348f95-bcbd-4542-c7e0-4068bdbd0d11"
   },
   "outputs": [
    {
     "data": {
      "text/plain": [
       "<matplotlib.axes._subplots.AxesSubplot at 0x7faa20e17358>"
      ]
     },
     "execution_count": 60,
     "metadata": {
      "tags": []
     },
     "output_type": "execute_result"
    },
    {
     "data": {
      "image/png": "[encoded data removed]",
      "text/plain": [
       "<Figure size 432x288 with 1 Axes>"
      ]
     },
     "metadata": {
      "tags": []
     },
     "output_type": "display_data"
    }
   ],
   "source": [
    "sns.set_palette(['red','green','blue'])\n",
    "sns.boxplot(x = 'Transportation', y = 'Study Hour', data = transportdf)"
   ]
  },
  {
   "cell_type": "code",
   "execution_count": null,
   "metadata": {
    "ExecuteTime": {
     "end_time": "2019-08-21T06:45:38.026509Z",
     "start_time": "2019-08-21T06:45:38.019537Z"
    },
    "colab": {
     "base_uri": "https://localhost:8080/",
     "height": 70
    },
    "id": "7MlO4p4r-Kmc",
    "outputId": "76b72bc0-8062-459d-ff21-79b5912929e8"
   },
   "outputs": [
    {
     "name": "stdout",
     "output_type": "stream",
     "text": [
      "Mean of Study Hour Group Walking: 4.4\n",
      "Mean of Study Hour Group Public: 5.8\n",
      "Mean of Study Hour Group Private: 5.5\n"
     ]
    }
   ],
   "source": [
    "for i in transportdf['Transportation'].unique():\n",
    "    print('Mean of Study Hour Group {}: {}'.format(i,transportdf[transportdf['Transportation'] == i]['Study Hour'].mean()))"
   ]
  },
  {
   "cell_type": "code",
   "execution_count": null,
   "metadata": {
    "ExecuteTime": {
     "end_time": "2019-08-21T06:45:17.743977Z",
     "start_time": "2019-08-21T06:45:17.739990Z"
    },
    "colab": {
     "base_uri": "https://localhost:8080/",
     "height": 35
    },
    "id": "KZOw-ZYH-Kme",
    "outputId": "9079a477-720d-4c5d-bc2b-1375f9e9d9ea"
   },
   "outputs": [
    {
     "name": "stdout",
     "output_type": "stream",
     "text": [
      "Total Study Hour Mean:  5.233333333333333\n"
     ]
    }
   ],
   "source": [
    "print('Total Study Hour Mean: ', transportdf['Study Hour'].mean())"
   ]
  },
  {
   "cell_type": "code",
   "execution_count": null,
   "metadata": {
    "ExecuteTime": {
     "end_time": "2019-08-21T06:49:43.333809Z",
     "start_time": "2019-08-21T06:49:43.310869Z"
    },
    "id": "sZbCdvIC-Kmf"
   },
   "outputs": [],
   "source": [
    "from math import pow\n",
    "total = 0\n",
    "for i, j in zip(transportdf['Transportation'], transportdf['Study Hour']):\n",
    "    total += (pow(((transportdf[transportdf['Transportation'] == i]['Study Hour'].mean()) - j), 2))"
   ]
  },
  {
   "cell_type": "code",
   "execution_count": null,
   "metadata": {
    "ExecuteTime": {
     "end_time": "2019-08-21T06:51:39.427883Z",
     "start_time": "2019-08-21T06:51:39.422900Z"
    },
    "colab": {
     "base_uri": "https://localhost:8080/",
     "height": 35
    },
    "id": "rPqQ1rx8-Kmh",
    "outputId": "a499f2c7-edea-4822-932b-81cfd22f2a65"
   },
   "outputs": [
    {
     "name": "stdout",
     "output_type": "stream",
     "text": [
      "MSwithin:  30.500000000000004\n"
     ]
    }
   ],
   "source": [
    "print('MSwithin: ',total)"
   ]
  },
  {
   "cell_type": "code",
   "execution_count": null,
   "metadata": {
    "ExecuteTime": {
     "end_time": "2019-08-21T06:58:46.375385Z",
     "start_time": "2019-08-21T06:58:46.366443Z"
    },
    "colab": {
     "base_uri": "https://localhost:8080/",
     "height": 35
    },
    "id": "AjAbU1yw-Kmi",
    "outputId": "e2d49c56-d30a-4ffb-82f4-d82824ab7519"
   },
   "outputs": [
    {
     "data": {
      "text/plain": [
       "F_onewayResult(statistic=4.809836065573772, pvalue=0.0163405142361861)"
      ]
     },
     "execution_count": 65,
     "metadata": {
      "tags": []
     },
     "output_type": "execute_result"
    }
   ],
   "source": [
    "#Importing One-Way ANOVA from Scipy. One-Way ANOVA is called F one-way as well because the test follow the F- Distribution\n",
    "from scipy.stats import f_oneway\n",
    "f_oneway(transportdf[transportdf['Transportation'] == 'Walking']['Study Hour'], \n",
    "        transportdf[transportdf['Transportation'] == 'Public']['Study Hour'],\n",
    "        transportdf[transportdf['Transportation'] == 'Private']['Study Hour'])"
   ]
  },
  {
   "cell_type": "markdown",
   "metadata": {
    "id": "u3h6pX9G-Kml"
   },
   "source": [
    "The P-value is lower than our significant level 0.05, it means wehave enough evidence to reject the Null Hypothesis. So,at least one pair of the population are not equal"
   ]
  },
  {
   "cell_type": "markdown",
   "metadata": {
    "id": "tRmnpNkyI5Cl"
   },
   "source": [
    "## Use Case : A/B Testing numerical measurements"
   ]
  },
  {
   "cell_type": "markdown",
   "metadata": {
    "id": "UPbGxYF6I_0t"
   },
   "source": [
    "A financial tech company 'X' want to test whether their new app design help people to increase the amount of many that they save (saving rate). Savings rate is the percentage of each user’s monthly paycheck that he or she saves\n",
    "1. Six months ago, our client randomly selected 1,000 newly signed up users and assigned 500 of them to the current design and 500 to the new design.\n",
    "1. The control group went on to use the current app.\n",
    "1. All users started with a 0% savings rate.\n",
    "The 1,000 users represent just a small portion of the app’s total users.\n"
   ]
  },
  {
   "cell_type": "code",
   "execution_count": null,
   "metadata": {
    "id": "Q8nv9nryJQKv"
   },
   "outputs": [],
   "source": [
    "y_A = np.random.normal(12,5,100)\n",
    "y_B = np.random.normal(15,5,100)"
   ]
  },
  {
   "cell_type": "code",
   "execution_count": null,
   "metadata": {
    "id": "YYjA99SOJQTq"
   },
   "outputs": [],
   "source": [
    "df_old = pd.DataFrame({\n",
    "    'design':'old design',\n",
    "    'saving rate':y_A\n",
    "})\n",
    "\n",
    "df_new = pd.DataFrame({\n",
    "    'design':'new design',\n",
    "    'saving rate':y_B\n",
    "})\n",
    "\n",
    "df_ab_numerical = df_old.append(df_new)"
   ]
  },
  {
   "cell_type": "code",
   "execution_count": null,
   "metadata": {
    "colab": {
     "base_uri": "https://localhost:8080/"
    },
    "id": "NyTrlG0dJQH2",
    "outputId": "60fd663f-b262-4578-9357-6ca8e35acb4b"
   },
   "outputs": [
    {
     "data": {
      "text/html": [
       "<div>\n",
       "<style scoped>\n",
       "    .dataframe tbody tr th:only-of-type {\n",
       "        vertical-align: middle;\n",
       "    }\n",
       "\n",
       "    .dataframe tbody tr th {\n",
       "        vertical-align: top;\n",
       "    }\n",
       "\n",
       "    .dataframe thead th {\n",
       "        text-align: right;\n",
       "    }\n",
       "</style>\n",
       "<table border=\"1\" class=\"dataframe\">\n",
       "  <thead>\n",
       "    <tr style=\"text-align: right;\">\n",
       "      <th></th>\n",
       "      <th>design</th>\n",
       "      <th>saving rate</th>\n",
       "    </tr>\n",
       "  </thead>\n",
       "  <tbody>\n",
       "    <tr>\n",
       "      <th>0</th>\n",
       "      <td>old design</td>\n",
       "      <td>18.803190</td>\n",
       "    </tr>\n",
       "    <tr>\n",
       "      <th>1</th>\n",
       "      <td>old design</td>\n",
       "      <td>13.493319</td>\n",
       "    </tr>\n",
       "    <tr>\n",
       "      <th>2</th>\n",
       "      <td>old design</td>\n",
       "      <td>2.199624</td>\n",
       "    </tr>\n",
       "    <tr>\n",
       "      <th>3</th>\n",
       "      <td>old design</td>\n",
       "      <td>22.167692</td>\n",
       "    </tr>\n",
       "    <tr>\n",
       "      <th>4</th>\n",
       "      <td>old design</td>\n",
       "      <td>9.791322</td>\n",
       "    </tr>\n",
       "    <tr>\n",
       "      <th>...</th>\n",
       "      <td>...</td>\n",
       "      <td>...</td>\n",
       "    </tr>\n",
       "    <tr>\n",
       "      <th>95</th>\n",
       "      <td>new design</td>\n",
       "      <td>19.754726</td>\n",
       "    </tr>\n",
       "    <tr>\n",
       "      <th>96</th>\n",
       "      <td>new design</td>\n",
       "      <td>8.268810</td>\n",
       "    </tr>\n",
       "    <tr>\n",
       "      <th>97</th>\n",
       "      <td>new design</td>\n",
       "      <td>4.006430</td>\n",
       "    </tr>\n",
       "    <tr>\n",
       "      <th>98</th>\n",
       "      <td>new design</td>\n",
       "      <td>13.374338</td>\n",
       "    </tr>\n",
       "    <tr>\n",
       "      <th>99</th>\n",
       "      <td>new design</td>\n",
       "      <td>15.531737</td>\n",
       "    </tr>\n",
       "  </tbody>\n",
       "</table>\n",
       "<p>200 rows × 2 columns</p>\n",
       "</div>"
      ],
      "text/plain": [
       "        design  saving rate\n",
       "0   old design    18.803190\n",
       "1   old design    13.493319\n",
       "2   old design     2.199624\n",
       "3   old design    22.167692\n",
       "4   old design     9.791322\n",
       "..         ...          ...\n",
       "95  new design    19.754726\n",
       "96  new design     8.268810\n",
       "97  new design     4.006430\n",
       "98  new design    13.374338\n",
       "99  new design    15.531737\n",
       "\n",
       "[200 rows x 2 columns]"
      ]
     },
     "execution_count": 68,
     "metadata": {
      "tags": []
     },
     "output_type": "execute_result"
    }
   ],
   "source": [
    "df_ab_numerical"
   ]
  },
  {
   "cell_type": "code",
   "execution_count": null,
   "metadata": {
    "colab": {
     "base_uri": "https://localhost:8080/"
    },
    "id": "Ja6qWX0MJQE1",
    "outputId": "86befcca-1318-4519-99a8-abe5695a3fe6"
   },
   "outputs": [
    {
     "data": {
      "text/plain": [
       "Text(0, 0.5, 'Frequency')"
      ]
     },
     "execution_count": 69,
     "metadata": {
      "tags": []
     },
     "output_type": "execute_result"
    },
    {
     "data": {
      "image/png": "[encoded data removed]",
      "text/plain": [
       "<Figure size 432x288 with 1 Axes>"
      ]
     },
     "metadata": {
      "tags": []
     },
     "output_type": "display_data"
    }
   ],
   "source": [
    "sns.set_style('darkgrid')\n",
    "sns.distplot(df_ab_numerical[df_ab_numerical['design'] == 'new design']['saving rate'],bins = 30, color = 'red', label = 'New Design')\n",
    "sns.distplot(df_ab_numerical[df_ab_numerical['design'] == 'old design']['saving rate'],bins = 30, color = 'green', label ='Old Design')\n",
    "plt.legend()\n",
    "plt.ylabel('Frequency')"
   ]
  },
  {
   "cell_type": "code",
   "execution_count": null,
   "metadata": {
    "colab": {
     "base_uri": "https://localhost:8080/"
    },
    "id": "mgic5Py4KpeM",
    "outputId": "89a83b48-1559-46f6-949a-68ee5bb0b941"
   },
   "outputs": [
    {
     "data": {
      "text/plain": [
       "<matplotlib.axes._subplots.AxesSubplot at 0x7faa20d44358>"
      ]
     },
     "execution_count": 70,
     "metadata": {
      "tags": []
     },
     "output_type": "execute_result"
    },
    {
     "data": {
      "image/png": "[encoded data removed]",
      "text/plain": [
       "<Figure size 432x288 with 1 Axes>"
      ]
     },
     "metadata": {
      "tags": []
     },
     "output_type": "display_data"
    }
   ],
   "source": [
    "sns.boxplot(x = 'design', y = 'saving rate', data = df_ab_numerical)"
   ]
  },
  {
   "cell_type": "code",
   "execution_count": null,
   "metadata": {
    "id": "Xe7VPJ4HL26b"
   },
   "outputs": [],
   "source": [
    "by_design = df_ab_numerical.groupby('design')"
   ]
  },
  {
   "cell_type": "code",
   "execution_count": null,
   "metadata": {
    "colab": {
     "base_uri": "https://localhost:8080/"
    },
    "id": "6b43zk8OMZl8",
    "outputId": "c1ee10fd-7c9d-4e94-9476-abdc609ddad1"
   },
   "outputs": [
    {
     "data": {
      "text/html": [
       "<div>\n",
       "<style scoped>\n",
       "    .dataframe tbody tr th:only-of-type {\n",
       "        vertical-align: middle;\n",
       "    }\n",
       "\n",
       "    .dataframe tbody tr th {\n",
       "        vertical-align: top;\n",
       "    }\n",
       "\n",
       "    .dataframe thead tr th {\n",
       "        text-align: left;\n",
       "    }\n",
       "\n",
       "    .dataframe thead tr:last-of-type th {\n",
       "        text-align: right;\n",
       "    }\n",
       "</style>\n",
       "<table border=\"1\" class=\"dataframe\">\n",
       "  <thead>\n",
       "    <tr>\n",
       "      <th></th>\n",
       "      <th colspan=\"8\" halign=\"left\">saving rate</th>\n",
       "    </tr>\n",
       "    <tr>\n",
       "      <th></th>\n",
       "      <th>count</th>\n",
       "      <th>mean</th>\n",
       "      <th>std</th>\n",
       "      <th>min</th>\n",
       "      <th>25%</th>\n",
       "      <th>50%</th>\n",
       "      <th>75%</th>\n",
       "      <th>max</th>\n",
       "    </tr>\n",
       "    <tr>\n",
       "      <th>design</th>\n",
       "      <th></th>\n",
       "      <th></th>\n",
       "      <th></th>\n",
       "      <th></th>\n",
       "      <th></th>\n",
       "      <th></th>\n",
       "      <th></th>\n",
       "      <th></th>\n",
       "    </tr>\n",
       "  </thead>\n",
       "  <tbody>\n",
       "    <tr>\n",
       "      <th>new design</th>\n",
       "      <td>100.0</td>\n",
       "      <td>14.788662</td>\n",
       "      <td>4.208848</td>\n",
       "      <td>4.006430</td>\n",
       "      <td>12.668652</td>\n",
       "      <td>14.663937</td>\n",
       "      <td>17.220682</td>\n",
       "      <td>24.178263</td>\n",
       "    </tr>\n",
       "    <tr>\n",
       "      <th>old design</th>\n",
       "      <td>100.0</td>\n",
       "      <td>12.018717</td>\n",
       "      <td>4.889591</td>\n",
       "      <td>-1.913556</td>\n",
       "      <td>8.925705</td>\n",
       "      <td>12.080561</td>\n",
       "      <td>14.883125</td>\n",
       "      <td>24.204220</td>\n",
       "    </tr>\n",
       "  </tbody>\n",
       "</table>\n",
       "</div>"
      ],
      "text/plain": [
       "           saving rate                       ...                                 \n",
       "                 count       mean       std  ...        50%        75%        max\n",
       "design                                       ...                                 \n",
       "new design       100.0  14.788662  4.208848  ...  14.663937  17.220682  24.178263\n",
       "old design       100.0  12.018717  4.889591  ...  12.080561  14.883125  24.204220\n",
       "\n",
       "[2 rows x 8 columns]"
      ]
     },
     "execution_count": 72,
     "metadata": {
      "tags": []
     },
     "output_type": "execute_result"
    }
   ],
   "source": [
    "by_design.describe()"
   ]
  },
  {
   "cell_type": "markdown",
   "metadata": {
    "id": "uXGCoA0yNbwZ"
   },
   "source": [
    "H0 : X financial tech company's clients who recieved new layout will have the same saving rate mean than clients that recieved old layout\n",
    "<br>\n",
    "H1 : X financial tech company's clients who recieved new layout will have higher saving rate mean than clients that recieved old layout"
   ]
  },
  {
   "cell_type": "code",
   "execution_count": null,
   "metadata": {
    "colab": {
     "base_uri": "https://localhost:8080/"
    },
    "id": "spL9PotQLEBX",
    "outputId": "40af5a67-8df5-4d04-a83d-ba4e4081faee"
   },
   "outputs": [
    {
     "name": "stdout",
     "output_type": "stream",
     "text": [
      "T-Statistic: -4.293456186459287\n",
      "P-Value: 2.7527475044692865e-05\n"
     ]
    }
   ],
   "source": [
    "from scipy.stats import ttest_ind\n",
    "result = list(ttest_ind(\n",
    "    df_ab_numerical[df_ab_numerical['design'] == 'old design']['saving rate'], \n",
    "    df_ab_numerical[df_ab_numerical['design'] == 'new design']['saving rate'],\n",
    "    equal_var = True\n",
    "))\n",
    "print('T-Statistic:', result[0])\n",
    "print('P-Value:', result[1])"
   ]
  },
  {
   "cell_type": "markdown",
   "metadata": {
    "id": "wb5wCzCcO5_M"
   },
   "source": [
    "The P-value is lower than our significant level 0.05, it means we have enough evidence to reject the Null Hypothesis. So, X financial tech company's clients who recieved new layout will have higher saving rate mean than clients that recieved old layout"
   ]
  },
  {
   "cell_type": "markdown",
   "metadata": {
    "id": "8zmvD6azM0sY"
   },
   "source": [
    "## Use Case : A/B Testing numerical measurements more than two groups"
   ]
  },
  {
   "cell_type": "markdown",
   "metadata": {
    "id": "etBkmo5XPjb0"
   },
   "source": [
    "A financial tech company want to test whether their new two app design help people to increase the amount of money that they save (saving rate). Savings rate is the percentage of each user’s monthly paycheck that he or she saves\n",
    "1. Six months ago, our client randomly selected 1,500 newly signed up users and assigned 500 of them to the current design and each 500 to the new design (design 1 and design 2).\n",
    "1. The control group went on to use the current app.\n",
    "1. All users started with a 0% savings rate.\n",
    "The 1,500 users represent just a small portion of the app’s total users.\n"
   ]
  },
  {
   "cell_type": "code",
   "execution_count": null,
   "metadata": {
    "id": "ivnt2cNLQ1P4"
   },
   "outputs": [],
   "source": [
    "y_A = np.random.normal(12,5,100)\n",
    "y_B1 = np.random.normal(15,5,100)\n",
    "y_B2 = np.random.normal(16,5,100)"
   ]
  },
  {
   "cell_type": "code",
   "execution_count": null,
   "metadata": {
    "id": "C3OCT2w8Q_Bx"
   },
   "outputs": [],
   "source": [
    "df_old = pd.DataFrame({\n",
    "    'design':'old design',\n",
    "    'saving rate':y_A\n",
    "})\n",
    "\n",
    "df_new1 = pd.DataFrame({\n",
    "    'design':'new design1',\n",
    "    'saving rate':y_B1\n",
    "})\n",
    "\n",
    "df_new2 = pd.DataFrame({\n",
    "    'design':'new design2',\n",
    "    'saving rate':y_B2\n",
    "})\n",
    "\n",
    "df_ab2_numerical = df_old.append(df_new1)\n",
    "df_ab2_numerical = df_ab2_numerical.append(df_new2)"
   ]
  },
  {
   "cell_type": "code",
   "execution_count": null,
   "metadata": {
    "colab": {
     "base_uri": "https://localhost:8080/"
    },
    "id": "PwCptnI3Rtaq",
    "outputId": "801e5655-3775-4672-b00e-d66541ddd281"
   },
   "outputs": [
    {
     "data": {
      "text/html": [
       "<div>\n",
       "<style scoped>\n",
       "    .dataframe tbody tr th:only-of-type {\n",
       "        vertical-align: middle;\n",
       "    }\n",
       "\n",
       "    .dataframe tbody tr th {\n",
       "        vertical-align: top;\n",
       "    }\n",
       "\n",
       "    .dataframe thead th {\n",
       "        text-align: right;\n",
       "    }\n",
       "</style>\n",
       "<table border=\"1\" class=\"dataframe\">\n",
       "  <thead>\n",
       "    <tr style=\"text-align: right;\">\n",
       "      <th></th>\n",
       "      <th>design</th>\n",
       "      <th>saving rate</th>\n",
       "    </tr>\n",
       "  </thead>\n",
       "  <tbody>\n",
       "    <tr>\n",
       "      <th>0</th>\n",
       "      <td>old design</td>\n",
       "      <td>6.898530</td>\n",
       "    </tr>\n",
       "    <tr>\n",
       "      <th>1</th>\n",
       "      <td>old design</td>\n",
       "      <td>15.223479</td>\n",
       "    </tr>\n",
       "    <tr>\n",
       "      <th>2</th>\n",
       "      <td>old design</td>\n",
       "      <td>7.646823</td>\n",
       "    </tr>\n",
       "    <tr>\n",
       "      <th>3</th>\n",
       "      <td>old design</td>\n",
       "      <td>23.517408</td>\n",
       "    </tr>\n",
       "    <tr>\n",
       "      <th>4</th>\n",
       "      <td>old design</td>\n",
       "      <td>15.213357</td>\n",
       "    </tr>\n",
       "    <tr>\n",
       "      <th>...</th>\n",
       "      <td>...</td>\n",
       "      <td>...</td>\n",
       "    </tr>\n",
       "    <tr>\n",
       "      <th>95</th>\n",
       "      <td>new design2</td>\n",
       "      <td>14.475969</td>\n",
       "    </tr>\n",
       "    <tr>\n",
       "      <th>96</th>\n",
       "      <td>new design2</td>\n",
       "      <td>13.071633</td>\n",
       "    </tr>\n",
       "    <tr>\n",
       "      <th>97</th>\n",
       "      <td>new design2</td>\n",
       "      <td>21.914600</td>\n",
       "    </tr>\n",
       "    <tr>\n",
       "      <th>98</th>\n",
       "      <td>new design2</td>\n",
       "      <td>23.840111</td>\n",
       "    </tr>\n",
       "    <tr>\n",
       "      <th>99</th>\n",
       "      <td>new design2</td>\n",
       "      <td>23.358755</td>\n",
       "    </tr>\n",
       "  </tbody>\n",
       "</table>\n",
       "<p>300 rows × 2 columns</p>\n",
       "</div>"
      ],
      "text/plain": [
       "         design  saving rate\n",
       "0    old design     6.898530\n",
       "1    old design    15.223479\n",
       "2    old design     7.646823\n",
       "3    old design    23.517408\n",
       "4    old design    15.213357\n",
       "..          ...          ...\n",
       "95  new design2    14.475969\n",
       "96  new design2    13.071633\n",
       "97  new design2    21.914600\n",
       "98  new design2    23.840111\n",
       "99  new design2    23.358755\n",
       "\n",
       "[300 rows x 2 columns]"
      ]
     },
     "execution_count": 76,
     "metadata": {
      "tags": []
     },
     "output_type": "execute_result"
    }
   ],
   "source": [
    "df_ab2_numerical"
   ]
  },
  {
   "cell_type": "code",
   "execution_count": null,
   "metadata": {
    "colab": {
     "base_uri": "https://localhost:8080/"
    },
    "id": "KsPyqWFpRRW6",
    "outputId": "2516c3de-aa6b-49be-d516-1bbe6de6e2e5"
   },
   "outputs": [
    {
     "data": {
      "text/plain": [
       "Text(0, 0.5, 'Frequency')"
      ]
     },
     "execution_count": 77,
     "metadata": {
      "tags": []
     },
     "output_type": "execute_result"
    },
    {
     "data": {
      "image/png": "[encoded data removed]",
      "text/plain": [
       "<Figure size 432x288 with 1 Axes>"
      ]
     },
     "metadata": {
      "tags": []
     },
     "output_type": "display_data"
    }
   ],
   "source": [
    "sns.set_style('darkgrid')\n",
    "sns.distplot(df_ab2_numerical[df_ab2_numerical['design'] == 'old design']['saving rate'],bins = 30, color = 'blue', label ='Old Design')\n",
    "sns.distplot(df_ab2_numerical[df_ab2_numerical['design'] == 'new design1']['saving rate'],bins = 30, color = 'red', label = 'New Design1')\n",
    "sns.distplot(df_ab2_numerical[df_ab2_numerical['design'] == 'new design2']['saving rate'],bins = 30, color = 'green', label = 'New Design2')\n",
    "plt.legend()\n",
    "plt.ylabel('Frequency')"
   ]
  },
  {
   "cell_type": "code",
   "execution_count": null,
   "metadata": {
    "colab": {
     "base_uri": "https://localhost:8080/"
    },
    "id": "5YZcSxcsRRap",
    "outputId": "232b6e6a-8847-4a1d-9803-721a9ee8a3fe"
   },
   "outputs": [
    {
     "data": {
      "text/plain": [
       "<matplotlib.axes._subplots.AxesSubplot at 0x7faa20c86eb8>"
      ]
     },
     "execution_count": 78,
     "metadata": {
      "tags": []
     },
     "output_type": "execute_result"
    },
    {
     "data": {
      "image/png": "[encoded data removed]",
      "text/plain": [
       "<Figure size 432x288 with 1 Axes>"
      ]
     },
     "metadata": {
      "tags": []
     },
     "output_type": "display_data"
    }
   ],
   "source": [
    "sns.boxplot(x = 'design', y = 'saving rate', data = df_ab2_numerical)"
   ]
  },
  {
   "cell_type": "code",
   "execution_count": null,
   "metadata": {
    "id": "Wga8uWIERRiO"
   },
   "outputs": [],
   "source": [
    "by_design2 = df_ab2_numerical.groupby('design')"
   ]
  },
  {
   "cell_type": "code",
   "execution_count": null,
   "metadata": {
    "colab": {
     "base_uri": "https://localhost:8080/"
    },
    "id": "9PE-d_5TSVEc",
    "outputId": "94b31f0b-7438-487c-d170-fd8a3735ccee"
   },
   "outputs": [
    {
     "data": {
      "text/html": [
       "<div>\n",
       "<style scoped>\n",
       "    .dataframe tbody tr th:only-of-type {\n",
       "        vertical-align: middle;\n",
       "    }\n",
       "\n",
       "    .dataframe tbody tr th {\n",
       "        vertical-align: top;\n",
       "    }\n",
       "\n",
       "    .dataframe thead tr th {\n",
       "        text-align: left;\n",
       "    }\n",
       "\n",
       "    .dataframe thead tr:last-of-type th {\n",
       "        text-align: right;\n",
       "    }\n",
       "</style>\n",
       "<table border=\"1\" class=\"dataframe\">\n",
       "  <thead>\n",
       "    <tr>\n",
       "      <th></th>\n",
       "      <th colspan=\"8\" halign=\"left\">saving rate</th>\n",
       "    </tr>\n",
       "    <tr>\n",
       "      <th></th>\n",
       "      <th>count</th>\n",
       "      <th>mean</th>\n",
       "      <th>std</th>\n",
       "      <th>min</th>\n",
       "      <th>25%</th>\n",
       "      <th>50%</th>\n",
       "      <th>75%</th>\n",
       "      <th>max</th>\n",
       "    </tr>\n",
       "    <tr>\n",
       "      <th>design</th>\n",
       "      <th></th>\n",
       "      <th></th>\n",
       "      <th></th>\n",
       "      <th></th>\n",
       "      <th></th>\n",
       "      <th></th>\n",
       "      <th></th>\n",
       "      <th></th>\n",
       "    </tr>\n",
       "  </thead>\n",
       "  <tbody>\n",
       "    <tr>\n",
       "      <th>new design1</th>\n",
       "      <td>100.0</td>\n",
       "      <td>15.537416</td>\n",
       "      <td>5.327458</td>\n",
       "      <td>2.383767</td>\n",
       "      <td>12.011472</td>\n",
       "      <td>15.853471</td>\n",
       "      <td>18.198506</td>\n",
       "      <td>30.377950</td>\n",
       "    </tr>\n",
       "    <tr>\n",
       "      <th>new design2</th>\n",
       "      <td>100.0</td>\n",
       "      <td>16.183901</td>\n",
       "      <td>5.134709</td>\n",
       "      <td>5.558172</td>\n",
       "      <td>13.062319</td>\n",
       "      <td>15.378509</td>\n",
       "      <td>18.908151</td>\n",
       "      <td>27.928795</td>\n",
       "    </tr>\n",
       "    <tr>\n",
       "      <th>old design</th>\n",
       "      <td>100.0</td>\n",
       "      <td>12.061995</td>\n",
       "      <td>5.408779</td>\n",
       "      <td>2.780340</td>\n",
       "      <td>7.669876</td>\n",
       "      <td>12.290092</td>\n",
       "      <td>15.498927</td>\n",
       "      <td>25.498719</td>\n",
       "    </tr>\n",
       "  </tbody>\n",
       "</table>\n",
       "</div>"
      ],
      "text/plain": [
       "            saving rate                       ...                                 \n",
       "                  count       mean       std  ...        50%        75%        max\n",
       "design                                        ...                                 \n",
       "new design1       100.0  15.537416  5.327458  ...  15.853471  18.198506  30.377950\n",
       "new design2       100.0  16.183901  5.134709  ...  15.378509  18.908151  27.928795\n",
       "old design        100.0  12.061995  5.408779  ...  12.290092  15.498927  25.498719\n",
       "\n",
       "[3 rows x 8 columns]"
      ]
     },
     "execution_count": 80,
     "metadata": {
      "tags": []
     },
     "output_type": "execute_result"
    }
   ],
   "source": [
    "by_design2.describe()"
   ]
  },
  {
   "cell_type": "markdown",
   "metadata": {
    "id": "F2i4SCSnSkl5"
   },
   "source": [
    "H0 : There is no difference in saving rate mean of users that assign to each design\n",
    "<br>\n",
    "H1 : At least there is one pair of saving rate mean (of users that assign to each design) is different."
   ]
  },
  {
   "cell_type": "code",
   "execution_count": null,
   "metadata": {
    "colab": {
     "base_uri": "https://localhost:8080/"
    },
    "id": "he3x4Qc-Sj4v",
    "outputId": "f7ac0b5f-fca9-4784-a7c7-08cd7b720d47"
   },
   "outputs": [
    {
     "data": {
      "text/plain": [
       "F_onewayResult(statistic=17.551145444332896, pvalue=6.243955737011911e-08)"
      ]
     },
     "execution_count": 81,
     "metadata": {
      "tags": []
     },
     "output_type": "execute_result"
    }
   ],
   "source": [
    "f_oneway(df_ab2_numerical[df_ab2_numerical['design'] == 'old design']['saving rate'], \n",
    "        df_ab2_numerical[df_ab2_numerical['design'] == 'new design1']['saving rate'],\n",
    "        df_ab2_numerical[df_ab2_numerical['design'] == 'new design2']['saving rate'])"
   ]
  },
  {
   "cell_type": "markdown",
   "metadata": {
    "id": "3n3QqDpuTjn6"
   },
   "source": [
    "The P-value is lower than our significant level 0.05, it means we have enough evidence to reject the Null Hypothesis. So, At least there is one pair of saving rate mean (of users that assign to each design) is different."
   ]
  },
  {
   "cell_type": "markdown",
   "metadata": {
    "id": "suKndNIW-1z3"
   },
   "source": [
    "## Proportion one population"
   ]
  },
  {
   "cell_type": "markdown",
   "metadata": {
    "id": "L-kfSSsiW_oR"
   },
   "source": [
    "An newly launched online store want to test whether their conversion rate is greater than 50% or not. So they gathered 1000 visitor data randomly and observed whether they are buying or not. As a Data Scientist you are asked to perform a hypothesis testing whether their conversion rate is greater than 50%?"
   ]
  },
  {
   "cell_type": "code",
   "execution_count": null,
   "metadata": {
    "id": "_PUELMXw-qX-"
   },
   "outputs": [],
   "source": [
    "from statsmodels.stats.proportion import proportions_ztest\n",
    "import pandas as pd\n",
    "import numpy as np"
   ]
  },
  {
   "cell_type": "code",
   "execution_count": null,
   "metadata": {
    "id": "1EI7QWLBAKgv"
   },
   "outputs": [],
   "source": [
    "visitor_data = np.array(['buying','buying','no buying','buying','no buying','buying','no buying','buying','buying','no buying','buying','buying','buying','no buying','no buying','no buying'])\n",
    "visitor_data_encoded = np.where(visitor_data == 'buying',1,0)"
   ]
  },
  {
   "cell_type": "code",
   "execution_count": null,
   "metadata": {
    "colab": {
     "base_uri": "https://localhost:8080/"
    },
    "id": "SImPcvwZAhIJ",
    "outputId": "772584fd-6d92-4897-f1cd-0404aba9770d"
   },
   "outputs": [
    {
     "name": "stdout",
     "output_type": "stream",
     "text": [
      "the succes rate or conversion rate is 0.5625\n"
     ]
    }
   ],
   "source": [
    "n_succes = np.sum(visitor_data_encoded) \n",
    "n = len(visitor_data_encoded)\n",
    "success_rate = n_succes/n\n",
    "print('the succes rate or conversion rate is',success_rate)"
   ]
  },
  {
   "cell_type": "markdown",
   "metadata": {
    "id": "gjBU_qWUBUtA"
   },
   "source": [
    "Ho : p = 0.5\n",
    "<br>\n",
    "Ha : p > 0.5 (is the conversion rate is higher than 50%)"
   ]
  },
  {
   "cell_type": "code",
   "execution_count": null,
   "metadata": {
    "id": "79liwvKs-qbH"
   },
   "outputs": [],
   "source": [
    "z_stat, p_value = proportions_ztest(n_succes, n, 0.5)"
   ]
  },
  {
   "cell_type": "code",
   "execution_count": null,
   "metadata": {
    "colab": {
     "base_uri": "https://localhost:8080/"
    },
    "id": "YR_XqsA_-qdt",
    "outputId": "d79e48c7-018c-4c64-a631-45a1f91023f9"
   },
   "outputs": [
    {
     "name": "stdout",
     "output_type": "stream",
     "text": [
      "p-value 0.6142946646634824\n"
     ]
    }
   ],
   "source": [
    "print('p-value',p_value)"
   ]
  },
  {
   "cell_type": "markdown",
   "metadata": {
    "id": "zQVAyJ7ICA1u"
   },
   "source": [
    "p-value is greater than 0.05, with significant level 5% there is not enouhg evidence that the conversion rate is greater than 50%. "
   ]
  },
  {
   "cell_type": "markdown",
   "metadata": {
    "id": "6uHzhfgtCT9W"
   },
   "source": [
    "## Proportion Two Population : Use Case A/B testing categorical measurement"
   ]
  },
  {
   "cell_type": "markdown",
   "metadata": {
    "id": "IBgkrVIlXJdK"
   },
   "source": [
    "A few months later the online store launched a new web design. They randomly assign visitor to layout A or layout B and 1000 for each design. You are asked again to perform hypothesis testing whether the conversion rate is increasing or not ?"
   ]
  },
  {
   "cell_type": "code",
   "execution_count": null,
   "metadata": {
    "id": "d18bQUSYFwM1"
   },
   "outputs": [],
   "source": [
    "visitor_data_before = np.random.binomial(1, 0.5, 1000)\n",
    "visitor_data_after = np.random.binomial(1, 0.7, 1000)\n",
    "visitor_data_before = np.where(visitor_data_before == 1, 'buying','no buying')\n",
    "visitor_data_after = np.where(visitor_data_after == 1,'buying','no buying')"
   ]
  },
  {
   "cell_type": "code",
   "execution_count": null,
   "metadata": {
    "id": "ayYXxFjxGbPE"
   },
   "outputs": [],
   "source": [
    "df_before = pd.DataFrame({\n",
    "    'layout':'old layout',\n",
    "    'conversion': visitor_data_before\n",
    "})\n",
    "\n",
    "df_after = pd.DataFrame({\n",
    "    'layout':'new layout',\n",
    "    'conversion': visitor_data_after    \n",
    "})"
   ]
  },
  {
   "cell_type": "code",
   "execution_count": null,
   "metadata": {
    "colab": {
     "base_uri": "https://localhost:8080/"
    },
    "id": "ssLXsDZdHYcX",
    "outputId": "2e1ff01e-d65a-45bc-b437-0f1cc09435f5"
   },
   "outputs": [
    {
     "data": {
      "text/html": [
       "<div>\n",
       "<style scoped>\n",
       "    .dataframe tbody tr th:only-of-type {\n",
       "        vertical-align: middle;\n",
       "    }\n",
       "\n",
       "    .dataframe tbody tr th {\n",
       "        vertical-align: top;\n",
       "    }\n",
       "\n",
       "    .dataframe thead th {\n",
       "        text-align: right;\n",
       "    }\n",
       "</style>\n",
       "<table border=\"1\" class=\"dataframe\">\n",
       "  <thead>\n",
       "    <tr style=\"text-align: right;\">\n",
       "      <th></th>\n",
       "      <th>layout</th>\n",
       "      <th>conversion</th>\n",
       "    </tr>\n",
       "  </thead>\n",
       "  <tbody>\n",
       "    <tr>\n",
       "      <th>0</th>\n",
       "      <td>old layout</td>\n",
       "      <td>buying</td>\n",
       "    </tr>\n",
       "    <tr>\n",
       "      <th>1</th>\n",
       "      <td>old layout</td>\n",
       "      <td>buying</td>\n",
       "    </tr>\n",
       "    <tr>\n",
       "      <th>2</th>\n",
       "      <td>old layout</td>\n",
       "      <td>buying</td>\n",
       "    </tr>\n",
       "    <tr>\n",
       "      <th>3</th>\n",
       "      <td>old layout</td>\n",
       "      <td>buying</td>\n",
       "    </tr>\n",
       "    <tr>\n",
       "      <th>4</th>\n",
       "      <td>old layout</td>\n",
       "      <td>buying</td>\n",
       "    </tr>\n",
       "    <tr>\n",
       "      <th>...</th>\n",
       "      <td>...</td>\n",
       "      <td>...</td>\n",
       "    </tr>\n",
       "    <tr>\n",
       "      <th>995</th>\n",
       "      <td>new layout</td>\n",
       "      <td>buying</td>\n",
       "    </tr>\n",
       "    <tr>\n",
       "      <th>996</th>\n",
       "      <td>new layout</td>\n",
       "      <td>no buying</td>\n",
       "    </tr>\n",
       "    <tr>\n",
       "      <th>997</th>\n",
       "      <td>new layout</td>\n",
       "      <td>buying</td>\n",
       "    </tr>\n",
       "    <tr>\n",
       "      <th>998</th>\n",
       "      <td>new layout</td>\n",
       "      <td>buying</td>\n",
       "    </tr>\n",
       "    <tr>\n",
       "      <th>999</th>\n",
       "      <td>new layout</td>\n",
       "      <td>buying</td>\n",
       "    </tr>\n",
       "  </tbody>\n",
       "</table>\n",
       "<p>2000 rows × 2 columns</p>\n",
       "</div>"
      ],
      "text/plain": [
       "         layout conversion\n",
       "0    old layout     buying\n",
       "1    old layout     buying\n",
       "2    old layout     buying\n",
       "3    old layout     buying\n",
       "4    old layout     buying\n",
       "..          ...        ...\n",
       "995  new layout     buying\n",
       "996  new layout  no buying\n",
       "997  new layout     buying\n",
       "998  new layout     buying\n",
       "999  new layout     buying\n",
       "\n",
       "[2000 rows x 2 columns]"
      ]
     },
     "execution_count": 89,
     "metadata": {
      "tags": []
     },
     "output_type": "execute_result"
    }
   ],
   "source": [
    "df_full = df_before.append(df_after)\n",
    "df_full"
   ]
  },
  {
   "cell_type": "code",
   "execution_count": null,
   "metadata": {
    "colab": {
     "base_uri": "https://localhost:8080/"
    },
    "id": "575-4Q9RWa8d",
    "outputId": "1034e1f4-3f14-49c1-d84d-4150f50276e9"
   },
   "outputs": [
    {
     "data": {
      "text/html": [
       "<div>\n",
       "<style scoped>\n",
       "    .dataframe tbody tr th:only-of-type {\n",
       "        vertical-align: middle;\n",
       "    }\n",
       "\n",
       "    .dataframe tbody tr th {\n",
       "        vertical-align: top;\n",
       "    }\n",
       "\n",
       "    .dataframe thead th {\n",
       "        text-align: right;\n",
       "    }\n",
       "</style>\n",
       "<table border=\"1\" class=\"dataframe\">\n",
       "  <thead>\n",
       "    <tr style=\"text-align: right;\">\n",
       "      <th>conversion</th>\n",
       "      <th>buying</th>\n",
       "      <th>no buying</th>\n",
       "    </tr>\n",
       "    <tr>\n",
       "      <th>layout</th>\n",
       "      <th></th>\n",
       "      <th></th>\n",
       "    </tr>\n",
       "  </thead>\n",
       "  <tbody>\n",
       "    <tr>\n",
       "      <th>new layout</th>\n",
       "      <td>699</td>\n",
       "      <td>301</td>\n",
       "    </tr>\n",
       "    <tr>\n",
       "      <th>old layout</th>\n",
       "      <td>500</td>\n",
       "      <td>500</td>\n",
       "    </tr>\n",
       "  </tbody>\n",
       "</table>\n",
       "</div>"
      ],
      "text/plain": [
       "conversion  buying  no buying\n",
       "layout                       \n",
       "new layout     699        301\n",
       "old layout     500        500"
      ]
     },
     "execution_count": 90,
     "metadata": {
      "tags": []
     },
     "output_type": "execute_result"
    }
   ],
   "source": [
    "pd.crosstab(df_full['layout'], df_full['conversion'])"
   ]
  },
  {
   "cell_type": "code",
   "execution_count": null,
   "metadata": {
    "colab": {
     "base_uri": "https://localhost:8080/"
    },
    "id": "jfsVMat2WkgN",
    "outputId": "50bf2df9-ac53-41e1-ee06-8a11e2f9a4eb"
   },
   "outputs": [
    {
     "data": {
      "text/html": [
       "<div>\n",
       "<style scoped>\n",
       "    .dataframe tbody tr th:only-of-type {\n",
       "        vertical-align: middle;\n",
       "    }\n",
       "\n",
       "    .dataframe tbody tr th {\n",
       "        vertical-align: top;\n",
       "    }\n",
       "\n",
       "    .dataframe thead th {\n",
       "        text-align: right;\n",
       "    }\n",
       "</style>\n",
       "<table border=\"1\" class=\"dataframe\">\n",
       "  <thead>\n",
       "    <tr style=\"text-align: right;\">\n",
       "      <th>conversion</th>\n",
       "      <th>buying</th>\n",
       "      <th>no buying</th>\n",
       "    </tr>\n",
       "    <tr>\n",
       "      <th>layout</th>\n",
       "      <th></th>\n",
       "      <th></th>\n",
       "    </tr>\n",
       "  </thead>\n",
       "  <tbody>\n",
       "    <tr>\n",
       "      <th>new layout</th>\n",
       "      <td>0.699</td>\n",
       "      <td>0.301</td>\n",
       "    </tr>\n",
       "    <tr>\n",
       "      <th>old layout</th>\n",
       "      <td>0.500</td>\n",
       "      <td>0.500</td>\n",
       "    </tr>\n",
       "  </tbody>\n",
       "</table>\n",
       "</div>"
      ],
      "text/plain": [
       "conversion  buying  no buying\n",
       "layout                       \n",
       "new layout   0.699      0.301\n",
       "old layout   0.500      0.500"
      ]
     },
     "execution_count": 91,
     "metadata": {
      "tags": []
     },
     "output_type": "execute_result"
    }
   ],
   "source": [
    "pd.crosstab(df_full['layout'], df_full['conversion'], normalize = 0)"
   ]
  },
  {
   "cell_type": "code",
   "execution_count": null,
   "metadata": {
    "colab": {
     "base_uri": "https://localhost:8080/"
    },
    "id": "OqGbnDWmWout",
    "outputId": "ceeed986-0e0c-4d28-fd1f-3aa74d634cf9"
   },
   "outputs": [
    {
     "data": {
      "text/plain": [
       "<matplotlib.axes._subplots.AxesSubplot at 0x7faa20933048>"
      ]
     },
     "execution_count": 92,
     "metadata": {
      "tags": []
     },
     "output_type": "execute_result"
    },
    {
     "data": {
      "image/png": "[encoded data removed]",
      "text/plain": [
       "<Figure size 432x288 with 1 Axes>"
      ]
     },
     "metadata": {
      "tags": []
     },
     "output_type": "display_data"
    }
   ],
   "source": [
    "pd.crosstab(df_full['layout'], df_full['conversion'], normalize = 0).plot(kind='bar')"
   ]
  },
  {
   "cell_type": "code",
   "execution_count": null,
   "metadata": {
    "colab": {
     "base_uri": "https://localhost:8080/"
    },
    "id": "CGL1sSn1CWyX",
    "outputId": "a878ea42-a2e1-4533-e9fd-012d70be59c6"
   },
   "outputs": [
    {
     "name": "stdout",
     "output_type": "stream",
     "text": [
      "the conversion rate before change the web layout is 0.5\n"
     ]
    }
   ],
   "source": [
    "n_succes_before = len(df_full[(df_full['layout']=='old layout')&(df_full['conversion']=='buying')]) \n",
    "n_before = len(df_full[(df_full['layout']=='old layout')])\n",
    "success_rate_before = n_succes_before/n_before\n",
    "print('the conversion rate before change the web layout is',success_rate_before)"
   ]
  },
  {
   "cell_type": "code",
   "execution_count": null,
   "metadata": {
    "colab": {
     "base_uri": "https://localhost:8080/"
    },
    "id": "Vzm19qr2CW1b",
    "outputId": "8eb24aca-e971-453e-a9ce-8a4e1e3727dc"
   },
   "outputs": [
    {
     "name": "stdout",
     "output_type": "stream",
     "text": [
      "the conversion rate after change the web layout is 0.699\n"
     ]
    }
   ],
   "source": [
    "n_succes_after = len(df_full[(df_full['layout']=='new layout')&(df_full['conversion']=='buying')])\n",
    "n_after = len(df_full[(df_full['layout']=='new layout')])\n",
    "success_rate_after = n_succes_after/n_after\n",
    "print('the conversion rate after change the web layout is',success_rate_after)"
   ]
  },
  {
   "cell_type": "markdown",
   "metadata": {
    "id": "wWidjzffDXUA"
   },
   "source": [
    "Ho : p-after = p-before\n",
    "<br>\n",
    "Ha : p-after > p-before (the conversion rate after change the web layout is increasing)\n",
    "<br>\n",
    "or\n",
    "<br>\n",
    "Ho: Amazon.com visitors that receive Layout B will not have higher end-of-visit conversion rates compares to visitors that receive Layout A​\n",
    "​<br>\n",
    "Ha: Amazon.com visitors that receive Layout B will have higher end-of-visit conversion rates compared to visitors that receive layout A​\n"
   ]
  },
  {
   "cell_type": "code",
   "execution_count": null,
   "metadata": {
    "id": "ApkKY6XtDWmA"
   },
   "outputs": [],
   "source": [
    "count = np.array([n_succes_before,n_succes_after])\n",
    "n_obs = np.array([n_before,n_after])"
   ]
  },
  {
   "cell_type": "code",
   "execution_count": null,
   "metadata": {
    "id": "VLExCnF2DWvH"
   },
   "outputs": [],
   "source": [
    "z_stat, p_value = proportions_ztest(count, n_obs)"
   ]
  },
  {
   "cell_type": "code",
   "execution_count": null,
   "metadata": {
    "colab": {
     "base_uri": "https://localhost:8080/"
    },
    "id": "CfjpITFnExhH",
    "outputId": "b9844729-9d8c-4ea7-b876-610004a4487f"
   },
   "outputs": [
    {
     "name": "stdout",
     "output_type": "stream",
     "text": [
      "0.00000\n"
     ]
    }
   ],
   "source": [
    "print('{0:0.5f}'.format(p_value))"
   ]
  },
  {
   "cell_type": "markdown",
   "metadata": {
    "id": "m4_IvGYtJEOp"
   },
   "source": [
    "p-value is lower than 0.05, with significant level 5% there is enough evidence that Amazon.com visitors that receive Layout B will have higher end-of-visit conversion rates compared to visitors that receive layout A​\n"
   ]
  },
  {
   "cell_type": "markdown",
   "metadata": {
    "id": "UoN92M-uRxRK"
   },
   "source": [
    "## Manual Calculation one sample T-Test for mean"
   ]
  },
  {
   "cell_type": "code",
   "execution_count": null,
   "metadata": {
    "id": "XHu6aBENXJXE"
   },
   "outputs": [],
   "source": [
    "from scipy import stats"
   ]
  },
  {
   "cell_type": "code",
   "execution_count": null,
   "metadata": {
    "id": "1gmMg2wSRyAS"
   },
   "outputs": [],
   "source": [
    "age = [27, 26, 27, 29, 23, 30, 23, 31, 29, 31, 30, 23, 34, 24, 24, 25, 30,\n",
    "       26, 28, 32]"
   ]
  },
  {
   "cell_type": "markdown",
   "metadata": {
    "id": "z05T34yfUfAf"
   },
   "source": [
    "\\begin{align}\n",
    "H_o : \\mu = 26\n",
    "\\end{align}\n",
    "\\begin{align}\n",
    "H_a : \\mu > 26 \\textrm{  or  } H_a : \\mu < 30 \\textrm{  or  } H_a : \\mu \\neq 26 \n",
    "\\end{align}"
   ]
  },
  {
   "cell_type": "code",
   "execution_count": null,
   "metadata": {
    "colab": {
     "base_uri": "https://localhost:8080/",
     "height": 70
    },
    "id": "15co2DygSlcw",
    "outputId": "cea6dd3f-e4d5-4b38-c8b6-7d4b129cef8f"
   },
   "outputs": [
    {
     "name": "stdout",
     "output_type": "stream",
     "text": [
      "rata-rata contoh 27.6\n",
      "standar deviasi contoh 3.299122690400554\n",
      "banyaknya contoh 20\n"
     ]
    }
   ],
   "source": [
    "x_bar = np.mean(age)\n",
    "s = np.std(age, ddof = 1)\n",
    "n = len(age)\n",
    "mu = 26\n",
    "\n",
    "print(\"rata-rata contoh\",x_bar)\n",
    "print(\"standar deviasi contoh\",s)\n",
    "print(\"banyaknya contoh\",n)"
   ]
  },
  {
   "cell_type": "markdown",
   "metadata": {
    "id": "mEaiyOB_828u"
   },
   "source": [
    "\\begin{align}\n",
    "T = \\frac{\\bar{x} - \\mu}{s/\\sqrt{n}}\n",
    "\\end{align}"
   ]
  },
  {
   "cell_type": "code",
   "execution_count": null,
   "metadata": {
    "colab": {
     "base_uri": "https://localhost:8080/",
     "height": 35
    },
    "id": "w_xE3iHd9HzM",
    "outputId": "cde00263-f0de-432a-a5b2-73b998cf8a37"
   },
   "outputs": [
    {
     "name": "stdout",
     "output_type": "stream",
     "text": [
      "2.168884942902981\n"
     ]
    }
   ],
   "source": [
    "T = (x_bar - mu)/(s/np.sqrt(n))\n",
    "print(T)"
   ]
  },
  {
   "cell_type": "markdown",
   "metadata": {
    "id": "Q0tHwo1SX246"
   },
   "source": [
    "### 1. rejection region if the alternate hypothesis"
   ]
  },
  {
   "cell_type": "markdown",
   "metadata": {
    "id": "pa4p2HTwYA9h"
   },
   "source": [
    "\\begin{align}\n",
    "H_a : \\mu > 26\n",
    "\\end{align}\n",
    "\n",
    "the rejection region will be:\n",
    "\n",
    "\\begin{align}\n",
    "T > T_\\alpha,db = n-1\n",
    "\\end{align}\n",
    "\n",
    "\\begin{align}\n",
    "T_\\alpha,db = n-1 \\textrm{ is value of T when the probability is } \\alpha \\textrm{ and will be used as critical value}\n",
    "\\end{align}\n",
    " "
   ]
  },
  {
   "cell_type": "code",
   "execution_count": null,
   "metadata": {
    "colab": {
     "base_uri": "https://localhost:8080/"
    },
    "id": "uq6hCADOYiJR",
    "outputId": "1ee272c0-5f6d-46fe-c247-4fd4d8544edb"
   },
   "outputs": [
    {
     "name": "stdout",
     "output_type": "stream",
     "text": [
      "critical value 1.729132811521367\n"
     ]
    }
   ],
   "source": [
    "alpha = 0.05\n",
    "T_alfa_db = stats.t.ppf(1-alpha,n-1)\n",
    "print('critical value',T_alfa_db)"
   ]
  },
  {
   "cell_type": "markdown",
   "metadata": {
    "id": "W4WwS4ZTasP7"
   },
   "source": [
    "T statistics is greater than the critical value(reject Ho)\n",
    "\\begin{align}\n",
    "T = 2.168 > T_\\alpha,db = n-1 = 1.729\n",
    "\\end{align}"
   ]
  },
  {
   "cell_type": "markdown",
   "metadata": {
    "id": "SiyfUpOhXyGB"
   },
   "source": [
    "rejection region using p-value (reject Ho)"
   ]
  },
  {
   "cell_type": "code",
   "execution_count": null,
   "metadata": {
    "id": "ZfMb7l5UnA77"
   },
   "outputs": [],
   "source": [
    "x_axis = [i/10 for i in range(-35,36)]\n",
    "y_axis = [stats.t.pdf(i,n-1) for i in x_axis]"
   ]
  },
  {
   "cell_type": "code",
   "execution_count": null,
   "metadata": {
    "colab": {
     "base_uri": "https://localhost:8080/"
    },
    "id": "BbrOOCkPnij9",
    "outputId": "448c5eda-b357-4528-9ee3-c4d005650f77"
   },
   "outputs": [
    {
     "data": {
      "text/plain": [
       "[<matplotlib.lines.Line2D at 0x7faa20865898>]"
      ]
     },
     "execution_count": 104,
     "metadata": {
      "tags": []
     },
     "output_type": "execute_result"
    },
    {
     "data": {
      "image/png": "[encoded data removed]",
      "text/plain": [
       "<Figure size 432x288 with 1 Axes>"
      ]
     },
     "metadata": {
      "tags": []
     },
     "output_type": "display_data"
    }
   ],
   "source": [
    "plt.plot(x_axis,y_axis)"
   ]
  },
  {
   "cell_type": "code",
   "execution_count": null,
   "metadata": {
    "colab": {
     "base_uri": "https://localhost:8080/"
    },
    "id": "O_fV7ZXRSlkQ",
    "outputId": "a31c24f7-a2f0-4b74-d2e5-94042b6be40a"
   },
   "outputs": [
    {
     "name": "stdout",
     "output_type": "stream",
     "text": [
      "p-value = P(T>2.168) =  0.021494127565753255\n"
     ]
    }
   ],
   "source": [
    "print('p-value = P(T>2.168) = ',stats.t.sf(T,n-1))"
   ]
  },
  {
   "cell_type": "markdown",
   "metadata": {
    "id": "bS9HR4b2ivzD"
   },
   "source": [
    "rejection region using p-value scipy (reject Ho)"
   ]
  },
  {
   "cell_type": "code",
   "execution_count": null,
   "metadata": {
    "id": "zCXWT5yNjPsh"
   },
   "outputs": [],
   "source": [
    "tstat, p_value = ttest_1samp(age,26) "
   ]
  },
  {
   "cell_type": "code",
   "execution_count": null,
   "metadata": {
    "colab": {
     "base_uri": "https://localhost:8080/"
    },
    "id": "ky1SMItViwAP",
    "outputId": "9eb608f3-e6e2-452f-a949-daca5645386c"
   },
   "outputs": [
    {
     "name": "stdout",
     "output_type": "stream",
     "text": [
      "t statistics 2.168884942902981\n",
      "t statistics 0.021494127565753255\n"
     ]
    }
   ],
   "source": [
    "print('t statistics',tstat)\n",
    "print('t statistics',p_value/2) # divided by 2 because only one sidedd"
   ]
  },
  {
   "cell_type": "markdown",
   "metadata": {
    "id": "5rNMWkHssoUx"
   },
   "source": [
    "with significant level 5%, we have enough evidence that age mean of population is greater than 26"
   ]
  },
  {
   "cell_type": "markdown",
   "metadata": {
    "id": "5DfmJQIhYoxC"
   },
   "source": [
    "![alt text](https://lh4.googleusercontent.com/dH_I0v2ho0IGauXHkoPRDXSsvSbdOodk3y_m1Lbr_qmXyrT-FosXZUB32cr-xP7QIwO_gI8Zy-D3rznFqj9Igg2SmH9HE2JQCTdAHUEW)"
   ]
  },
  {
   "cell_type": "markdown",
   "metadata": {
    "id": "4xGtjIs-cAgR"
   },
   "source": [
    "### 2. rejection region if the alternate hypothesis"
   ]
  },
  {
   "cell_type": "markdown",
   "metadata": {
    "id": "X5LW1-N7cAgU"
   },
   "source": [
    "\\begin{align}\n",
    "H_a : \\mu < 26\n",
    "\\end{align}\n",
    "\n",
    "the rejection region will be:\n",
    "\n",
    "\\begin{align}\n",
    "T < -T_\\alpha,db = n-1\n",
    "\\end{align}\n",
    "\n",
    "\\begin{align}\n",
    "T_\\alpha,db = n-1 \\textrm{ is value of T when the probability is } \\alpha \\textrm{ and will be used as critical value}\n",
    "\\end{align}\n",
    " "
   ]
  },
  {
   "cell_type": "code",
   "execution_count": null,
   "metadata": {
    "colab": {
     "base_uri": "https://localhost:8080/"
    },
    "id": "AUWqI58vcAgV",
    "outputId": "7398f35b-8bea-42c4-c8b2-9f9115e68ba1"
   },
   "outputs": [
    {
     "name": "stdout",
     "output_type": "stream",
     "text": [
      "critical value -1.729132811521367\n"
     ]
    }
   ],
   "source": [
    "alpha = 0.05\n",
    "T_alfa_db = stats.t.ppf(1-alpha,n-1)\n",
    "print('critical value',-T_alfa_db)"
   ]
  },
  {
   "cell_type": "markdown",
   "metadata": {
    "id": "bDdGzQZucAgd"
   },
   "source": [
    "T statistics is greater than the critical value (don't reject Ho):\n",
    "\\begin{align}\n",
    "T = 2.168 > -T_\\alpha,db = n-1 = -1.729\n",
    "\\end{align}"
   ]
  },
  {
   "cell_type": "markdown",
   "metadata": {
    "id": "egBPhKn6fAjK"
   },
   "source": [
    "rejection region using p-value"
   ]
  },
  {
   "cell_type": "code",
   "execution_count": null,
   "metadata": {
    "colab": {
     "base_uri": "https://localhost:8080/"
    },
    "id": "dK3L3n5OfAjN",
    "outputId": "39caf1a9-6d37-40f3-ef8a-d70d02b279da"
   },
   "outputs": [
    {
     "name": "stdout",
     "output_type": "stream",
     "text": [
      "p-value 0.9785058724342468\n"
     ]
    }
   ],
   "source": [
    "print('p-value',stats.t.sf(-T,n-1))"
   ]
  },
  {
   "cell_type": "markdown",
   "metadata": {
    "id": "vmnar2qXvt5Z"
   },
   "source": [
    "hyphotesis testing using of one sample ttest for mean in scipy is not supported when: \n",
    "1. this cases : mean sample is greater (27.6) than hypotetical mean (26) and the alternate is less than ($H_a : \\mu < 26$)\n",
    "2. mean sample is less than hypotetical mean and the alternate is greater than"
   ]
  },
  {
   "cell_type": "markdown",
   "metadata": {
    "id": "sZaoJxpffqPB"
   },
   "source": [
    "### 3. rejection region if the alternate hypothesis"
   ]
  },
  {
   "cell_type": "markdown",
   "metadata": {
    "id": "i9UTmJbpf2ht"
   },
   "source": [
    "\\begin{align}\n",
    "H_a : \\mu \\neq 26\n",
    "\\end{align}\n",
    "\n",
    "the rejection region will be:\n",
    "\n",
    "\\begin{align}\n",
    "T < -T_\\alpha/2,db = n-1 \\textrm{ or } T > T_\\alpha/2,db = n-1\n",
    "\\end{align}\n",
    "\n",
    "\\begin{align}\n",
    "T_\\alpha,db = n-1 \\textrm{ is value of T when the probability is } \\alpha \\textrm{ and will be used as critical value}\n",
    "\\end{align}\n",
    " "
   ]
  },
  {
   "cell_type": "code",
   "execution_count": null,
   "metadata": {
    "colab": {
     "base_uri": "https://localhost:8080/"
    },
    "id": "28EEpWiLgwKS",
    "outputId": "180a1261-3dc4-403e-bfe5-dc4b2893b6ef"
   },
   "outputs": [
    {
     "name": "stdout",
     "output_type": "stream",
     "text": [
      "critical value left -2.093024054408263\n",
      "or\n",
      "critical value right 2.093024054408263\n"
     ]
    }
   ],
   "source": [
    "alpha = 0.05\n",
    "T_alfa2_db = stats.t.ppf(1-alpha/2,n-1)\n",
    "print('critical value left',-T_alfa2_db)\n",
    "print('or')\n",
    "print('critical value right',T_alfa2_db)"
   ]
  },
  {
   "cell_type": "markdown",
   "metadata": {
    "id": "jqxtMDcYhb7x"
   },
   "source": [
    "T statistics is greater than the critical value (reject Ho):\n",
    "\\begin{align}\n",
    "T = 2.168 > T_\\alpha/2,db = n-1 = 2.093\n",
    "\\end{align}"
   ]
  },
  {
   "cell_type": "markdown",
   "metadata": {
    "id": "RIaNiZQDiSZj"
   },
   "source": [
    "rejection region using p-value (reject Ho)"
   ]
  },
  {
   "cell_type": "code",
   "execution_count": null,
   "metadata": {
    "colab": {
     "base_uri": "https://localhost:8080/"
    },
    "id": "PkDLktu2iSZm",
    "outputId": "ab912eb0-79e2-4906-9254-5a73e419a225"
   },
   "outputs": [
    {
     "name": "stdout",
     "output_type": "stream",
     "text": [
      "p-value 0.04298825513150651\n"
     ]
    }
   ],
   "source": [
    "print('p-value',stats.t.sf(abs(T),n-1)*2)"
   ]
  },
  {
   "cell_type": "markdown",
   "metadata": {
    "id": "rorRZudWse2q"
   },
   "source": [
    "rejection region using p-value scipy (reject Ho)"
   ]
  },
  {
   "cell_type": "code",
   "execution_count": null,
   "metadata": {
    "id": "CV0THzcNse2s"
   },
   "outputs": [],
   "source": [
    "tstat, p_value = ttest_1samp(age,26) "
   ]
  },
  {
   "cell_type": "code",
   "execution_count": null,
   "metadata": {
    "colab": {
     "base_uri": "https://localhost:8080/"
    },
    "id": "ikzWFm4Nse2x",
    "outputId": "6ccec221-45c8-47bf-f2aa-8aac33bdc956"
   },
   "outputs": [
    {
     "name": "stdout",
     "output_type": "stream",
     "text": [
      "t statistics 2.168884942902981\n",
      "t statistics 0.04298825513150651\n"
     ]
    }
   ],
   "source": [
    "print('t statistics',tstat)\n",
    "print('t statistics',p_value) "
   ]
  },
  {
   "cell_type": "markdown",
   "metadata": {
    "id": "C4p3-6EOs5Lh"
   },
   "source": [
    "with significant level 5%, we have enough evidence that age mean of population is not equal to 26"
   ]
  },
  {
   "cell_type": "markdown",
   "metadata": {
    "id": "LrYNS9le1EXi"
   },
   "source": [
    "## Manual Calculation one way Anova"
   ]
  },
  {
   "cell_type": "code",
   "execution_count": null,
   "metadata": {
    "ExecuteTime": {
     "end_time": "2019-08-21T03:33:42.963397Z",
     "start_time": "2019-08-21T03:33:42.959438Z"
    },
    "id": "OfXIEvGu6DfS"
   },
   "outputs": [],
   "source": [
    "transport = []\n",
    "method = ['Walking ', 'Public ', 'Private ']\n",
    "for i in method:\n",
    "    transport.extend((i*10).split())"
   ]
  },
  {
   "cell_type": "code",
   "execution_count": null,
   "metadata": {
    "ExecuteTime": {
     "end_time": "2019-08-21T03:43:05.346483Z",
     "start_time": "2019-08-21T03:43:05.336513Z"
    },
    "colab": {
     "base_uri": "https://localhost:8080/",
     "height": 194
    },
    "id": "OgrpwqTo6DfU",
    "outputId": "6260d060-80b8-42e5-a5a5-03a1ae493713"
   },
   "outputs": [
    {
     "data": {
      "text/html": [
       "<div>\n",
       "<style scoped>\n",
       "    .dataframe tbody tr th:only-of-type {\n",
       "        vertical-align: middle;\n",
       "    }\n",
       "\n",
       "    .dataframe tbody tr th {\n",
       "        vertical-align: top;\n",
       "    }\n",
       "\n",
       "    .dataframe thead th {\n",
       "        text-align: right;\n",
       "    }\n",
       "</style>\n",
       "<table border=\"1\" class=\"dataframe\">\n",
       "  <thead>\n",
       "    <tr style=\"text-align: right;\">\n",
       "      <th></th>\n",
       "      <th>Transportation</th>\n",
       "      <th>Study Hour</th>\n",
       "    </tr>\n",
       "  </thead>\n",
       "  <tbody>\n",
       "    <tr>\n",
       "      <th>14</th>\n",
       "      <td>Public</td>\n",
       "      <td>4</td>\n",
       "    </tr>\n",
       "    <tr>\n",
       "      <th>17</th>\n",
       "      <td>Public</td>\n",
       "      <td>5</td>\n",
       "    </tr>\n",
       "    <tr>\n",
       "      <th>18</th>\n",
       "      <td>Public</td>\n",
       "      <td>6</td>\n",
       "    </tr>\n",
       "    <tr>\n",
       "      <th>12</th>\n",
       "      <td>Public</td>\n",
       "      <td>5</td>\n",
       "    </tr>\n",
       "    <tr>\n",
       "      <th>27</th>\n",
       "      <td>Private</td>\n",
       "      <td>5</td>\n",
       "    </tr>\n",
       "  </tbody>\n",
       "</table>\n",
       "</div>"
      ],
      "text/plain": [
       "   Transportation  Study Hour\n",
       "14         Public           4\n",
       "17         Public           5\n",
       "18         Public           6\n",
       "12         Public           5\n",
       "27        Private           5"
      ]
     },
     "execution_count": 115,
     "metadata": {
      "tags": []
     },
     "output_type": "execute_result"
    }
   ],
   "source": [
    "transportdf = pd.concat([pd.Series(transport, name = 'Transportation'), \n",
    "                     pd.Series([5,4,5,6,5,3,2,4,5,5,7,7,5,6,4,6,5,5,6,7,5,4,5,6,6,5,5,5,7,7], name = 'Study Hour')], axis =1)\n",
    "transportdf.sample(5)"
   ]
  },
  {
   "cell_type": "code",
   "execution_count": null,
   "metadata": {
    "colab": {
     "base_uri": "https://localhost:8080/",
     "height": 927
    },
    "id": "YQyp5uCk6Hto",
    "outputId": "f1ae0e5e-e236-488f-8a82-15e73cf91a5f"
   },
   "outputs": [
    {
     "data": {
      "text/html": [
       "<div>\n",
       "<style scoped>\n",
       "    .dataframe tbody tr th:only-of-type {\n",
       "        vertical-align: middle;\n",
       "    }\n",
       "\n",
       "    .dataframe tbody tr th {\n",
       "        vertical-align: top;\n",
       "    }\n",
       "\n",
       "    .dataframe thead th {\n",
       "        text-align: right;\n",
       "    }\n",
       "</style>\n",
       "<table border=\"1\" class=\"dataframe\">\n",
       "  <thead>\n",
       "    <tr style=\"text-align: right;\">\n",
       "      <th></th>\n",
       "      <th>Transportation</th>\n",
       "      <th>Study Hour</th>\n",
       "    </tr>\n",
       "  </thead>\n",
       "  <tbody>\n",
       "    <tr>\n",
       "      <th>0</th>\n",
       "      <td>Walking</td>\n",
       "      <td>5</td>\n",
       "    </tr>\n",
       "    <tr>\n",
       "      <th>1</th>\n",
       "      <td>Walking</td>\n",
       "      <td>4</td>\n",
       "    </tr>\n",
       "    <tr>\n",
       "      <th>2</th>\n",
       "      <td>Walking</td>\n",
       "      <td>5</td>\n",
       "    </tr>\n",
       "    <tr>\n",
       "      <th>3</th>\n",
       "      <td>Walking</td>\n",
       "      <td>6</td>\n",
       "    </tr>\n",
       "    <tr>\n",
       "      <th>4</th>\n",
       "      <td>Walking</td>\n",
       "      <td>5</td>\n",
       "    </tr>\n",
       "    <tr>\n",
       "      <th>5</th>\n",
       "      <td>Walking</td>\n",
       "      <td>3</td>\n",
       "    </tr>\n",
       "    <tr>\n",
       "      <th>6</th>\n",
       "      <td>Walking</td>\n",
       "      <td>2</td>\n",
       "    </tr>\n",
       "    <tr>\n",
       "      <th>7</th>\n",
       "      <td>Walking</td>\n",
       "      <td>4</td>\n",
       "    </tr>\n",
       "    <tr>\n",
       "      <th>8</th>\n",
       "      <td>Walking</td>\n",
       "      <td>5</td>\n",
       "    </tr>\n",
       "    <tr>\n",
       "      <th>9</th>\n",
       "      <td>Walking</td>\n",
       "      <td>5</td>\n",
       "    </tr>\n",
       "    <tr>\n",
       "      <th>10</th>\n",
       "      <td>Public</td>\n",
       "      <td>7</td>\n",
       "    </tr>\n",
       "    <tr>\n",
       "      <th>11</th>\n",
       "      <td>Public</td>\n",
       "      <td>7</td>\n",
       "    </tr>\n",
       "    <tr>\n",
       "      <th>12</th>\n",
       "      <td>Public</td>\n",
       "      <td>5</td>\n",
       "    </tr>\n",
       "    <tr>\n",
       "      <th>13</th>\n",
       "      <td>Public</td>\n",
       "      <td>6</td>\n",
       "    </tr>\n",
       "    <tr>\n",
       "      <th>14</th>\n",
       "      <td>Public</td>\n",
       "      <td>4</td>\n",
       "    </tr>\n",
       "    <tr>\n",
       "      <th>15</th>\n",
       "      <td>Public</td>\n",
       "      <td>6</td>\n",
       "    </tr>\n",
       "    <tr>\n",
       "      <th>16</th>\n",
       "      <td>Public</td>\n",
       "      <td>5</td>\n",
       "    </tr>\n",
       "    <tr>\n",
       "      <th>17</th>\n",
       "      <td>Public</td>\n",
       "      <td>5</td>\n",
       "    </tr>\n",
       "    <tr>\n",
       "      <th>18</th>\n",
       "      <td>Public</td>\n",
       "      <td>6</td>\n",
       "    </tr>\n",
       "    <tr>\n",
       "      <th>19</th>\n",
       "      <td>Public</td>\n",
       "      <td>7</td>\n",
       "    </tr>\n",
       "    <tr>\n",
       "      <th>20</th>\n",
       "      <td>Private</td>\n",
       "      <td>5</td>\n",
       "    </tr>\n",
       "    <tr>\n",
       "      <th>21</th>\n",
       "      <td>Private</td>\n",
       "      <td>4</td>\n",
       "    </tr>\n",
       "    <tr>\n",
       "      <th>22</th>\n",
       "      <td>Private</td>\n",
       "      <td>5</td>\n",
       "    </tr>\n",
       "    <tr>\n",
       "      <th>23</th>\n",
       "      <td>Private</td>\n",
       "      <td>6</td>\n",
       "    </tr>\n",
       "    <tr>\n",
       "      <th>24</th>\n",
       "      <td>Private</td>\n",
       "      <td>6</td>\n",
       "    </tr>\n",
       "    <tr>\n",
       "      <th>25</th>\n",
       "      <td>Private</td>\n",
       "      <td>5</td>\n",
       "    </tr>\n",
       "    <tr>\n",
       "      <th>26</th>\n",
       "      <td>Private</td>\n",
       "      <td>5</td>\n",
       "    </tr>\n",
       "    <tr>\n",
       "      <th>27</th>\n",
       "      <td>Private</td>\n",
       "      <td>5</td>\n",
       "    </tr>\n",
       "    <tr>\n",
       "      <th>28</th>\n",
       "      <td>Private</td>\n",
       "      <td>7</td>\n",
       "    </tr>\n",
       "    <tr>\n",
       "      <th>29</th>\n",
       "      <td>Private</td>\n",
       "      <td>7</td>\n",
       "    </tr>\n",
       "  </tbody>\n",
       "</table>\n",
       "</div>"
      ],
      "text/plain": [
       "   Transportation  Study Hour\n",
       "0         Walking           5\n",
       "1         Walking           4\n",
       "2         Walking           5\n",
       "3         Walking           6\n",
       "4         Walking           5\n",
       "5         Walking           3\n",
       "6         Walking           2\n",
       "7         Walking           4\n",
       "8         Walking           5\n",
       "9         Walking           5\n",
       "10         Public           7\n",
       "11         Public           7\n",
       "12         Public           5\n",
       "13         Public           6\n",
       "14         Public           4\n",
       "15         Public           6\n",
       "16         Public           5\n",
       "17         Public           5\n",
       "18         Public           6\n",
       "19         Public           7\n",
       "20        Private           5\n",
       "21        Private           4\n",
       "22        Private           5\n",
       "23        Private           6\n",
       "24        Private           6\n",
       "25        Private           5\n",
       "26        Private           5\n",
       "27        Private           5\n",
       "28        Private           7\n",
       "29        Private           7"
      ]
     },
     "execution_count": 116,
     "metadata": {
      "tags": []
     },
     "output_type": "execute_result"
    }
   ],
   "source": [
    "transportdf"
   ]
  },
  {
   "cell_type": "code",
   "execution_count": null,
   "metadata": {
    "colab": {
     "base_uri": "https://localhost:8080/",
     "height": 164
    },
    "id": "uUIAQIZh6Hws",
    "outputId": "5b0b0c71-534d-4caf-d589-5417955e531a"
   },
   "outputs": [
    {
     "data": {
      "text/html": [
       "<div>\n",
       "<style scoped>\n",
       "    .dataframe tbody tr th:only-of-type {\n",
       "        vertical-align: middle;\n",
       "    }\n",
       "\n",
       "    .dataframe tbody tr th {\n",
       "        vertical-align: top;\n",
       "    }\n",
       "\n",
       "    .dataframe thead th {\n",
       "        text-align: right;\n",
       "    }\n",
       "</style>\n",
       "<table border=\"1\" class=\"dataframe\">\n",
       "  <thead>\n",
       "    <tr style=\"text-align: right;\">\n",
       "      <th></th>\n",
       "      <th>Study Hour</th>\n",
       "    </tr>\n",
       "    <tr>\n",
       "      <th>Transportation</th>\n",
       "      <th></th>\n",
       "    </tr>\n",
       "  </thead>\n",
       "  <tbody>\n",
       "    <tr>\n",
       "      <th>Private</th>\n",
       "      <td>5.5</td>\n",
       "    </tr>\n",
       "    <tr>\n",
       "      <th>Public</th>\n",
       "      <td>5.8</td>\n",
       "    </tr>\n",
       "    <tr>\n",
       "      <th>Walking</th>\n",
       "      <td>4.4</td>\n",
       "    </tr>\n",
       "  </tbody>\n",
       "</table>\n",
       "</div>"
      ],
      "text/plain": [
       "                Study Hour\n",
       "Transportation            \n",
       "Private                5.5\n",
       "Public                 5.8\n",
       "Walking                4.4"
      ]
     },
     "execution_count": 117,
     "metadata": {
      "tags": []
     },
     "output_type": "execute_result"
    }
   ],
   "source": [
    "transportdf.pivot_table(index = 'Transportation', aggfunc='mean')"
   ]
  },
  {
   "cell_type": "code",
   "execution_count": null,
   "metadata": {
    "colab": {
     "base_uri": "https://localhost:8080/",
     "height": 35
    },
    "id": "H1o6OkHEXJKX",
    "outputId": "6fe66373-b603-4274-ac27-76d1d744827c"
   },
   "outputs": [
    {
     "data": {
      "text/plain": [
       "5.233333333333333"
      ]
     },
     "execution_count": 118,
     "metadata": {
      "tags": []
     },
     "output_type": "execute_result"
    }
   ],
   "source": [
    "transportdf['Study Hour'].mean()"
   ]
  },
  {
   "cell_type": "code",
   "execution_count": null,
   "metadata": {
    "colab": {
     "base_uri": "https://localhost:8080/",
     "height": 88
    },
    "id": "A4s0CxULV3qb",
    "outputId": "dfc2540a-036c-445e-a5e6-d0654ecaf877"
   },
   "outputs": [
    {
     "data": {
      "text/plain": [
       "Public     10\n",
       "Private    10\n",
       "Walking    10\n",
       "Name: Transportation, dtype: int64"
      ]
     },
     "execution_count": 119,
     "metadata": {
      "tags": []
     },
     "output_type": "execute_result"
    }
   ],
   "source": [
    "transportdf['Transportation'].value_counts()"
   ]
  },
  {
   "cell_type": "markdown",
   "metadata": {
    "id": "SbyIeXg88jni"
   },
   "source": [
    "### MSBeetween"
   ]
  },
  {
   "cell_type": "markdown",
   "metadata": {
    "id": "8KMvJUvaT8Ii"
   },
   "source": [
    "\\begin{align}\n",
    "SS_{between} = \\sum_{j=1}^{k} n_j (\\bar{x}_{.j}-\\bar{x})^2 = n_1 (\\bar{x}_{.1}-\\bar{x})^2 + n_2 (\\bar{x}_{.2}-\\bar{x})^2 + n_3 (\\bar{x}_{.3}-\\bar{x})^2 \n",
    "\\end{align}"
   ]
  },
  {
   "cell_type": "markdown",
   "metadata": {
    "id": "3ScbK-Ikaixj"
   },
   "source": [
    "\\begin{align}\n",
    "MS_{between} = \\frac{SS_{between}} {k-1}\n",
    "\\end{align}"
   ]
  },
  {
   "cell_type": "markdown",
   "metadata": {
    "id": "AhByZ0q-WNiQ"
   },
   "source": [
    "\\begin{gather*}\n",
    "n_1, n_2, n_3 = 10 \\\\\n",
    "\\bar{x}_{.1}, \\bar{x}_{.2}, \\bar{x}_{.3} = 5.4, 5.8, 4.4 \\\\\n",
    "\\bar{x} = 5.2333333.. \\\\\n",
    "k =3 \n",
    "\\end{gather*}\n"
   ]
  },
  {
   "cell_type": "markdown",
   "metadata": {
    "id": "jEoC6s_hXYZA"
   },
   "source": [
    "\\begin{equation}\n",
    "\\begin{split}\n",
    "SS_{between} & = 10 (5.4-5.23333)^2 + 10 (5.8-5.23333)^2 + 10 (4.4-5.23333)^2 \\\\\n",
    "             & = 6.889 + 3.249 + 0.729 \\\\\n",
    "             & = 10.876\n",
    "\\end{split}\n",
    "\\end{equation}"
   ]
  },
  {
   "cell_type": "markdown",
   "metadata": {
    "id": "uKRBROSXaWmG"
   },
   "source": [
    "\\begin{align}\n",
    "MS_{between} = \\frac{10.876} {2} = 5.4335\n",
    "\\end{align}"
   ]
  },
  {
   "cell_type": "code",
   "execution_count": null,
   "metadata": {
    "id": "3sfQ1fiMU6s4"
   },
   "outputs": [],
   "source": [
    "x_1 = transportdf[transportdf['Transportation']=='Public']['Study Hour'].mean()\n",
    "x_2 = transportdf[transportdf['Transportation']=='Private']['Study Hour'].mean()\n",
    "x_3 = transportdf[transportdf['Transportation']=='Walking']['Study Hour'].mean()\n",
    "n1,n2,n3 = 10,10,10\n",
    "x_bar = transportdf['Study Hour'].mean()\n",
    "k = 3"
   ]
  },
  {
   "cell_type": "code",
   "execution_count": null,
   "metadata": {
    "id": "9SPU5tUtaseE"
   },
   "outputs": [],
   "source": [
    "SS_between = n1*(x_1-x_bar)**2 + n2*(x_2-x_bar)**2 + n3*(x_3-x_bar)**2"
   ]
  },
  {
   "cell_type": "code",
   "execution_count": null,
   "metadata": {
    "id": "SfgpHNGUU60b"
   },
   "outputs": [],
   "source": [
    "MS_between = SS_between/(k-1)"
   ]
  },
  {
   "cell_type": "code",
   "execution_count": null,
   "metadata": {
    "colab": {
     "base_uri": "https://localhost:8080/",
     "height": 35
    },
    "id": "2iqPfAZ-bt5l",
    "outputId": "52d43d46-a107-44bd-b365-daf0f9ffc03d"
   },
   "outputs": [
    {
     "data": {
      "text/plain": [
       "5.433333333333329"
      ]
     },
     "execution_count": 123,
     "metadata": {
      "tags": []
     },
     "output_type": "execute_result"
    }
   ],
   "source": [
    "MS_between"
   ]
  },
  {
   "cell_type": "markdown",
   "metadata": {
    "id": "AKO5NsPV8mJ7"
   },
   "source": [
    "### MSWithin"
   ]
  },
  {
   "cell_type": "code",
   "execution_count": null,
   "metadata": {
    "colab": {
     "base_uri": "https://localhost:8080/",
     "height": 927
    },
    "id": "I_bDEVzney7-",
    "outputId": "575b95a9-b0d4-40f0-fbd3-84d7dd33c3ef"
   },
   "outputs": [
    {
     "data": {
      "text/html": [
       "<div>\n",
       "<style scoped>\n",
       "    .dataframe tbody tr th:only-of-type {\n",
       "        vertical-align: middle;\n",
       "    }\n",
       "\n",
       "    .dataframe tbody tr th {\n",
       "        vertical-align: top;\n",
       "    }\n",
       "\n",
       "    .dataframe thead th {\n",
       "        text-align: right;\n",
       "    }\n",
       "</style>\n",
       "<table border=\"1\" class=\"dataframe\">\n",
       "  <thead>\n",
       "    <tr style=\"text-align: right;\">\n",
       "      <th></th>\n",
       "      <th>Transportation</th>\n",
       "      <th>Study Hour</th>\n",
       "    </tr>\n",
       "  </thead>\n",
       "  <tbody>\n",
       "    <tr>\n",
       "      <th>0</th>\n",
       "      <td>Walking</td>\n",
       "      <td>5</td>\n",
       "    </tr>\n",
       "    <tr>\n",
       "      <th>1</th>\n",
       "      <td>Walking</td>\n",
       "      <td>4</td>\n",
       "    </tr>\n",
       "    <tr>\n",
       "      <th>2</th>\n",
       "      <td>Walking</td>\n",
       "      <td>5</td>\n",
       "    </tr>\n",
       "    <tr>\n",
       "      <th>3</th>\n",
       "      <td>Walking</td>\n",
       "      <td>6</td>\n",
       "    </tr>\n",
       "    <tr>\n",
       "      <th>4</th>\n",
       "      <td>Walking</td>\n",
       "      <td>5</td>\n",
       "    </tr>\n",
       "    <tr>\n",
       "      <th>5</th>\n",
       "      <td>Walking</td>\n",
       "      <td>3</td>\n",
       "    </tr>\n",
       "    <tr>\n",
       "      <th>6</th>\n",
       "      <td>Walking</td>\n",
       "      <td>2</td>\n",
       "    </tr>\n",
       "    <tr>\n",
       "      <th>7</th>\n",
       "      <td>Walking</td>\n",
       "      <td>4</td>\n",
       "    </tr>\n",
       "    <tr>\n",
       "      <th>8</th>\n",
       "      <td>Walking</td>\n",
       "      <td>5</td>\n",
       "    </tr>\n",
       "    <tr>\n",
       "      <th>9</th>\n",
       "      <td>Walking</td>\n",
       "      <td>5</td>\n",
       "    </tr>\n",
       "    <tr>\n",
       "      <th>10</th>\n",
       "      <td>Public</td>\n",
       "      <td>7</td>\n",
       "    </tr>\n",
       "    <tr>\n",
       "      <th>11</th>\n",
       "      <td>Public</td>\n",
       "      <td>7</td>\n",
       "    </tr>\n",
       "    <tr>\n",
       "      <th>12</th>\n",
       "      <td>Public</td>\n",
       "      <td>5</td>\n",
       "    </tr>\n",
       "    <tr>\n",
       "      <th>13</th>\n",
       "      <td>Public</td>\n",
       "      <td>6</td>\n",
       "    </tr>\n",
       "    <tr>\n",
       "      <th>14</th>\n",
       "      <td>Public</td>\n",
       "      <td>4</td>\n",
       "    </tr>\n",
       "    <tr>\n",
       "      <th>15</th>\n",
       "      <td>Public</td>\n",
       "      <td>6</td>\n",
       "    </tr>\n",
       "    <tr>\n",
       "      <th>16</th>\n",
       "      <td>Public</td>\n",
       "      <td>5</td>\n",
       "    </tr>\n",
       "    <tr>\n",
       "      <th>17</th>\n",
       "      <td>Public</td>\n",
       "      <td>5</td>\n",
       "    </tr>\n",
       "    <tr>\n",
       "      <th>18</th>\n",
       "      <td>Public</td>\n",
       "      <td>6</td>\n",
       "    </tr>\n",
       "    <tr>\n",
       "      <th>19</th>\n",
       "      <td>Public</td>\n",
       "      <td>7</td>\n",
       "    </tr>\n",
       "    <tr>\n",
       "      <th>20</th>\n",
       "      <td>Private</td>\n",
       "      <td>5</td>\n",
       "    </tr>\n",
       "    <tr>\n",
       "      <th>21</th>\n",
       "      <td>Private</td>\n",
       "      <td>4</td>\n",
       "    </tr>\n",
       "    <tr>\n",
       "      <th>22</th>\n",
       "      <td>Private</td>\n",
       "      <td>5</td>\n",
       "    </tr>\n",
       "    <tr>\n",
       "      <th>23</th>\n",
       "      <td>Private</td>\n",
       "      <td>6</td>\n",
       "    </tr>\n",
       "    <tr>\n",
       "      <th>24</th>\n",
       "      <td>Private</td>\n",
       "      <td>6</td>\n",
       "    </tr>\n",
       "    <tr>\n",
       "      <th>25</th>\n",
       "      <td>Private</td>\n",
       "      <td>5</td>\n",
       "    </tr>\n",
       "    <tr>\n",
       "      <th>26</th>\n",
       "      <td>Private</td>\n",
       "      <td>5</td>\n",
       "    </tr>\n",
       "    <tr>\n",
       "      <th>27</th>\n",
       "      <td>Private</td>\n",
       "      <td>5</td>\n",
       "    </tr>\n",
       "    <tr>\n",
       "      <th>28</th>\n",
       "      <td>Private</td>\n",
       "      <td>7</td>\n",
       "    </tr>\n",
       "    <tr>\n",
       "      <th>29</th>\n",
       "      <td>Private</td>\n",
       "      <td>7</td>\n",
       "    </tr>\n",
       "  </tbody>\n",
       "</table>\n",
       "</div>"
      ],
      "text/plain": [
       "   Transportation  Study Hour\n",
       "0         Walking           5\n",
       "1         Walking           4\n",
       "2         Walking           5\n",
       "3         Walking           6\n",
       "4         Walking           5\n",
       "5         Walking           3\n",
       "6         Walking           2\n",
       "7         Walking           4\n",
       "8         Walking           5\n",
       "9         Walking           5\n",
       "10         Public           7\n",
       "11         Public           7\n",
       "12         Public           5\n",
       "13         Public           6\n",
       "14         Public           4\n",
       "15         Public           6\n",
       "16         Public           5\n",
       "17         Public           5\n",
       "18         Public           6\n",
       "19         Public           7\n",
       "20        Private           5\n",
       "21        Private           4\n",
       "22        Private           5\n",
       "23        Private           6\n",
       "24        Private           6\n",
       "25        Private           5\n",
       "26        Private           5\n",
       "27        Private           5\n",
       "28        Private           7\n",
       "29        Private           7"
      ]
     },
     "execution_count": 124,
     "metadata": {
      "tags": []
     },
     "output_type": "execute_result"
    }
   ],
   "source": [
    "transportdf"
   ]
  },
  {
   "cell_type": "code",
   "execution_count": null,
   "metadata": {
    "colab": {
     "base_uri": "https://localhost:8080/",
     "height": 164
    },
    "id": "w-tWK1NVe3pW",
    "outputId": "01e5c891-8dac-455f-9444-a6a370a6d0d6"
   },
   "outputs": [
    {
     "data": {
      "text/html": [
       "<div>\n",
       "<style scoped>\n",
       "    .dataframe tbody tr th:only-of-type {\n",
       "        vertical-align: middle;\n",
       "    }\n",
       "\n",
       "    .dataframe tbody tr th {\n",
       "        vertical-align: top;\n",
       "    }\n",
       "\n",
       "    .dataframe thead th {\n",
       "        text-align: right;\n",
       "    }\n",
       "</style>\n",
       "<table border=\"1\" class=\"dataframe\">\n",
       "  <thead>\n",
       "    <tr style=\"text-align: right;\">\n",
       "      <th></th>\n",
       "      <th>Study Hour</th>\n",
       "    </tr>\n",
       "    <tr>\n",
       "      <th>Transportation</th>\n",
       "      <th></th>\n",
       "    </tr>\n",
       "  </thead>\n",
       "  <tbody>\n",
       "    <tr>\n",
       "      <th>Private</th>\n",
       "      <td>5.5</td>\n",
       "    </tr>\n",
       "    <tr>\n",
       "      <th>Public</th>\n",
       "      <td>5.8</td>\n",
       "    </tr>\n",
       "    <tr>\n",
       "      <th>Walking</th>\n",
       "      <td>4.4</td>\n",
       "    </tr>\n",
       "  </tbody>\n",
       "</table>\n",
       "</div>"
      ],
      "text/plain": [
       "                Study Hour\n",
       "Transportation            \n",
       "Private                5.5\n",
       "Public                 5.8\n",
       "Walking                4.4"
      ]
     },
     "execution_count": 125,
     "metadata": {
      "tags": []
     },
     "output_type": "execute_result"
    }
   ],
   "source": [
    "transportdf.pivot_table(index = 'Transportation', aggfunc='mean')"
   ]
  },
  {
   "cell_type": "markdown",
   "metadata": {
    "id": "2Vg6yIprciyv"
   },
   "source": [
    "\\begin{align}\n",
    "SS_{within} = \\sum_{i=1}^{n_1} (x_{i1}-\\bar{x}_{.1})^2 + \\sum_{i=1}^{n_2} (x_{i1}-\\bar{x}_{.2})^2 + \\sum_{i=1}^{n_3} (x_{i1}-\\bar{x}_{.3})^2\n",
    "\\end{align}"
   ]
  },
  {
   "cell_type": "markdown",
   "metadata": {
    "id": "FijS0FFKdMlA"
   },
   "source": [
    "\\begin{align}\n",
    "MS_{within} = \\frac{SS_{within}}{((n_1-1) + (n_2-1) + (n_3-1))}\n",
    "\\end{align}"
   ]
  },
  {
   "cell_type": "markdown",
   "metadata": {
    "id": "2_Dn26sGeAK8"
   },
   "source": [
    "\\begin{equation}\n",
    "\\begin{split}\n",
    "SS_{within} & =  (5-5.5)^2 + ... + (7-5.5)^2 + (7-5.8)^2 + ... + (7-5.8)^2 + (5-4.4)^2 + ... + (5-4.4)^2\\\\\n",
    "             & = 9.6 + 8.5 + 12.39 \\\\\n",
    "             & = 30.5\n",
    "\\end{split}\n",
    "\\end{equation}"
   ]
  },
  {
   "cell_type": "markdown",
   "metadata": {
    "id": "EaW30fjdhPCo"
   },
   "source": [
    "\\begin{align}\n",
    "MS_{within} = \\frac{30.5}{27} = 1.1296\n",
    "\\end{align}"
   ]
  },
  {
   "cell_type": "code",
   "execution_count": null,
   "metadata": {
    "colab": {
     "base_uri": "https://localhost:8080/",
     "height": 35
    },
    "id": "fU786C3M6H81",
    "outputId": "f2191915-fc8f-4bdd-8706-8ff3df9740b7"
   },
   "outputs": [
    {
     "data": {
      "text/plain": [
       "30.5"
      ]
     },
     "execution_count": 126,
     "metadata": {
      "tags": []
     },
     "output_type": "execute_result"
    }
   ],
   "source": [
    "SS_within = sum([(i-transportdf[transportdf['Transportation']=='Public']['Study Hour'].mean())**2 for i in transportdf[transportdf['Transportation']=='Public']['Study Hour']]) + sum([(i-transportdf[transportdf['Transportation']=='Private']['Study Hour'].mean())**2 for i in transportdf[transportdf['Transportation']=='Private']['Study Hour']]) + sum([(i-transportdf[transportdf['Transportation']=='Walking']['Study Hour'].mean())**2 for i in transportdf[transportdf['Transportation']=='Walking']['Study Hour']])\n",
    "SS_within"
   ]
  },
  {
   "cell_type": "code",
   "execution_count": null,
   "metadata": {
    "colab": {
     "base_uri": "https://localhost:8080/",
     "height": 35
    },
    "id": "Tes_7WQxhoSl",
    "outputId": "754e0072-0a03-4d03-dc1a-4f1351ad0685"
   },
   "outputs": [
    {
     "data": {
      "text/plain": [
       "1.1296296296296295"
      ]
     },
     "execution_count": 127,
     "metadata": {
      "tags": []
     },
     "output_type": "execute_result"
    }
   ],
   "source": [
    "MS_within = SS_within/27\n",
    "MS_within"
   ]
  },
  {
   "cell_type": "markdown",
   "metadata": {
    "id": "avzG156gby9L"
   },
   "source": [
    "### F Statistics"
   ]
  },
  {
   "cell_type": "markdown",
   "metadata": {
    "id": "vHyusl4miKeI"
   },
   "source": [
    "\\begin{align}\n",
    "F_{stat} = \\frac {MS_{between}}{MS_{within}}\n",
    "\\end{align}"
   ]
  },
  {
   "cell_type": "code",
   "execution_count": null,
   "metadata": {
    "colab": {
     "base_uri": "https://localhost:8080/"
    },
    "id": "9cgxWckoh6yD",
    "outputId": "9b49fcb1-6b00-4895-d1ec-6c6f98fd42f1"
   },
   "outputs": [
    {
     "data": {
      "text/plain": [
       "4.8098360655737675"
      ]
     },
     "execution_count": 128,
     "metadata": {
      "tags": []
     },
     "output_type": "execute_result"
    }
   ],
   "source": [
    "F_stat = MS_between/MS_within\n",
    "F_stat"
   ]
  },
  {
   "cell_type": "markdown",
   "metadata": {
    "id": "G86zzjznkiit"
   },
   "source": [
    "### Rejection Region"
   ]
  },
  {
   "cell_type": "markdown",
   "metadata": {
    "id": "BunP6ALGkmO5"
   },
   "source": [
    "\\begin{align}\n",
    "F_{stat} > F_{\\alpha,db_1,db_2}\n",
    "\\end{align}"
   ]
  },
  {
   "cell_type": "markdown",
   "metadata": {
    "id": "X9Sw-dgUifBA"
   },
   "source": [
    "Critical Value (reject Ho)"
   ]
  },
  {
   "cell_type": "markdown",
   "metadata": {
    "id": "cn92_15liuf5"
   },
   "source": [
    "\\begin{gather}\n",
    "F_{\\alpha,db_1,db_2} \\\\\n",
    "alpha = 0.05 \\\\\n",
    "db_1 = k-1 \\\\\n",
    "db_2 = ((n_1-1) + (n_2-1) + (n_3-1))\n",
    "\\end{gather}"
   ]
  },
  {
   "cell_type": "code",
   "execution_count": null,
   "metadata": {
    "colab": {
     "base_uri": "https://localhost:8080/",
     "height": 35
    },
    "id": "XQuPRMu2h_kI",
    "outputId": "860a9b90-14c0-44d1-a89a-071cca8c8fa5"
   },
   "outputs": [
    {
     "name": "stdout",
     "output_type": "stream",
     "text": [
      "critical value F_alpha 0.05139086243879718\n"
     ]
    }
   ],
   "source": [
    "print(\"critical value F_alpha\",stats.f.ppf(0.05,2,27))"
   ]
  },
  {
   "cell_type": "markdown",
   "metadata": {
    "id": "98E24l4Xlm9o"
   },
   "source": [
    "\\begin{align}\n",
    "F_{stat}  = 4.80983 > F_{\\alpha,db_1,db_2} = 0.0513\n",
    "\\end{align}"
   ]
  },
  {
   "cell_type": "markdown",
   "metadata": {
    "id": "8BxcHS9Cjxq8"
   },
   "source": [
    "p-value (reject Ho)"
   ]
  },
  {
   "cell_type": "code",
   "execution_count": null,
   "metadata": {
    "colab": {
     "base_uri": "https://localhost:8080/",
     "height": 35
    },
    "id": "0HZrdo90j4qX",
    "outputId": "a9d1a253-7d58-4d74-cf47-17d7c84c5df6"
   },
   "outputs": [
    {
     "name": "stdout",
     "output_type": "stream",
     "text": [
      "p-value 0.01634051423618613\n"
     ]
    }
   ],
   "source": [
    "print('p-value',stats.f.sf(F_stat,2,27))"
   ]
  },
  {
   "cell_type": "markdown",
   "metadata": {
    "id": "Pvz_mALSk2X8"
   },
   "source": [
    "ANOVA scipy (reject Ho)"
   ]
  },
  {
   "cell_type": "code",
   "execution_count": null,
   "metadata": {
    "colab": {
     "base_uri": "https://localhost:8080/",
     "height": 35
    },
    "id": "CXAH6SltlWWy",
    "outputId": "f3c5518a-e0d9-4ad4-c7a9-3f9d58691129"
   },
   "outputs": [
    {
     "data": {
      "text/plain": [
       "F_onewayResult(statistic=4.809836065573772, pvalue=0.0163405142361861)"
      ]
     },
     "execution_count": 131,
     "metadata": {
      "tags": []
     },
     "output_type": "execute_result"
    }
   ],
   "source": [
    "#Importing One-Way ANOVA from Scipy. One-Way ANOVA is called F one-way as well because the test follow the F- Distribution\n",
    "from scipy.stats import f_oneway\n",
    "f_oneway(transportdf[transportdf['Transportation'] == 'Walking']['Study Hour'], \n",
    "        transportdf[transportdf['Transportation'] == 'Public']['Study Hour'],\n",
    "        transportdf[transportdf['Transportation'] == 'Private']['Study Hour'])"
   ]
  },
  {
   "cell_type": "markdown",
   "metadata": {
    "id": "Y0UlOX9YcWQ-"
   },
   "source": [
    "# Non-Parametric Statistics"
   ]
  },
  {
   "cell_type": "markdown",
   "metadata": {
    "id": "ybrF7QMWcs1H"
   },
   "source": [
    "## Mann Whitney"
   ]
  },
  {
   "cell_type": "code",
   "execution_count": null,
   "metadata": {
    "ExecuteTime": {
     "end_time": "2019-08-21T03:17:24.818364Z",
     "start_time": "2019-08-21T03:17:24.808426Z"
    },
    "id": "R3PTZdH1dYjX"
   },
   "outputs": [],
   "source": [
    "hat = pd.concat([pd.Series(data = ['Yes', 'No', 'Yes', 'Yes', 'No', 'No', 'No','Yes','Yes', 'No','Yes','Yes','No','Yes','No','Yes','No','No','No','Yes'],name = 'Wearing Hat'),\n",
    "                pd.Series(data = [70,85,80,45,80,70,90,70,55,80,75,60,70,85,80,85,55,75,65,70], name ='Score')],axis = 1)"
   ]
  },
  {
   "cell_type": "code",
   "execution_count": null,
   "metadata": {
    "colab": {
     "base_uri": "https://localhost:8080/",
     "height": 634
    },
    "id": "uHKSv3TidYjd",
    "outputId": "eb9d6b24-8f8b-4616-b407-8f49d9062f48"
   },
   "outputs": [
    {
     "data": {
      "text/html": [
       "<div>\n",
       "<style scoped>\n",
       "    .dataframe tbody tr th:only-of-type {\n",
       "        vertical-align: middle;\n",
       "    }\n",
       "\n",
       "    .dataframe tbody tr th {\n",
       "        vertical-align: top;\n",
       "    }\n",
       "\n",
       "    .dataframe thead th {\n",
       "        text-align: right;\n",
       "    }\n",
       "</style>\n",
       "<table border=\"1\" class=\"dataframe\">\n",
       "  <thead>\n",
       "    <tr style=\"text-align: right;\">\n",
       "      <th></th>\n",
       "      <th>Wearing Hat</th>\n",
       "      <th>Score</th>\n",
       "    </tr>\n",
       "  </thead>\n",
       "  <tbody>\n",
       "    <tr>\n",
       "      <th>0</th>\n",
       "      <td>Yes</td>\n",
       "      <td>70</td>\n",
       "    </tr>\n",
       "    <tr>\n",
       "      <th>1</th>\n",
       "      <td>No</td>\n",
       "      <td>85</td>\n",
       "    </tr>\n",
       "    <tr>\n",
       "      <th>2</th>\n",
       "      <td>Yes</td>\n",
       "      <td>80</td>\n",
       "    </tr>\n",
       "    <tr>\n",
       "      <th>3</th>\n",
       "      <td>Yes</td>\n",
       "      <td>45</td>\n",
       "    </tr>\n",
       "    <tr>\n",
       "      <th>4</th>\n",
       "      <td>No</td>\n",
       "      <td>80</td>\n",
       "    </tr>\n",
       "    <tr>\n",
       "      <th>5</th>\n",
       "      <td>No</td>\n",
       "      <td>70</td>\n",
       "    </tr>\n",
       "    <tr>\n",
       "      <th>6</th>\n",
       "      <td>No</td>\n",
       "      <td>90</td>\n",
       "    </tr>\n",
       "    <tr>\n",
       "      <th>7</th>\n",
       "      <td>Yes</td>\n",
       "      <td>70</td>\n",
       "    </tr>\n",
       "    <tr>\n",
       "      <th>8</th>\n",
       "      <td>Yes</td>\n",
       "      <td>55</td>\n",
       "    </tr>\n",
       "    <tr>\n",
       "      <th>9</th>\n",
       "      <td>No</td>\n",
       "      <td>80</td>\n",
       "    </tr>\n",
       "    <tr>\n",
       "      <th>10</th>\n",
       "      <td>Yes</td>\n",
       "      <td>75</td>\n",
       "    </tr>\n",
       "    <tr>\n",
       "      <th>11</th>\n",
       "      <td>Yes</td>\n",
       "      <td>60</td>\n",
       "    </tr>\n",
       "    <tr>\n",
       "      <th>12</th>\n",
       "      <td>No</td>\n",
       "      <td>70</td>\n",
       "    </tr>\n",
       "    <tr>\n",
       "      <th>13</th>\n",
       "      <td>Yes</td>\n",
       "      <td>85</td>\n",
       "    </tr>\n",
       "    <tr>\n",
       "      <th>14</th>\n",
       "      <td>No</td>\n",
       "      <td>80</td>\n",
       "    </tr>\n",
       "    <tr>\n",
       "      <th>15</th>\n",
       "      <td>Yes</td>\n",
       "      <td>85</td>\n",
       "    </tr>\n",
       "    <tr>\n",
       "      <th>16</th>\n",
       "      <td>No</td>\n",
       "      <td>55</td>\n",
       "    </tr>\n",
       "    <tr>\n",
       "      <th>17</th>\n",
       "      <td>No</td>\n",
       "      <td>75</td>\n",
       "    </tr>\n",
       "    <tr>\n",
       "      <th>18</th>\n",
       "      <td>No</td>\n",
       "      <td>65</td>\n",
       "    </tr>\n",
       "    <tr>\n",
       "      <th>19</th>\n",
       "      <td>Yes</td>\n",
       "      <td>70</td>\n",
       "    </tr>\n",
       "  </tbody>\n",
       "</table>\n",
       "</div>"
      ],
      "text/plain": [
       "   Wearing Hat  Score\n",
       "0          Yes     70\n",
       "1           No     85\n",
       "2          Yes     80\n",
       "3          Yes     45\n",
       "4           No     80\n",
       "5           No     70\n",
       "6           No     90\n",
       "7          Yes     70\n",
       "8          Yes     55\n",
       "9           No     80\n",
       "10         Yes     75\n",
       "11         Yes     60\n",
       "12          No     70\n",
       "13         Yes     85\n",
       "14          No     80\n",
       "15         Yes     85\n",
       "16          No     55\n",
       "17          No     75\n",
       "18          No     65\n",
       "19         Yes     70"
      ]
     },
     "execution_count": 161,
     "metadata": {
      "tags": []
     },
     "output_type": "execute_result"
    }
   ],
   "source": [
    "hat"
   ]
  },
  {
   "cell_type": "code",
   "execution_count": null,
   "metadata": {
    "ExecuteTime": {
     "end_time": "2019-08-21T03:17:33.208836Z",
     "start_time": "2019-08-21T03:17:31.235622Z"
    },
    "colab": {
     "base_uri": "https://localhost:8080/",
     "height": 297
    },
    "id": "OdVXHYwwdYjg",
    "outputId": "51b2cc8c-a91c-45ea-cdde-afd3f69b27de"
   },
   "outputs": [
    {
     "data": {
      "text/plain": [
       "Text(0, 0.5, 'Frequency')"
      ]
     },
     "execution_count": 162,
     "metadata": {
      "tags": []
     },
     "output_type": "execute_result"
    },
    {
     "data": {
      "image/png": "[encoded data removed]",
      "text/plain": [
       "<Figure size 432x288 with 1 Axes>"
      ]
     },
     "metadata": {
      "tags": []
     },
     "output_type": "display_data"
    }
   ],
   "source": [
    "sns.set_style('darkgrid')\n",
    "sns.distplot(hat[hat['Wearing Hat'] == 'Yes']['Score'], color = 'red', label = 'Wearing Hat')\n",
    "sns.distplot(hat[hat['Wearing Hat'] == 'No']['Score'], color = 'green', label ='Not Wearing Hat')\n",
    "plt.legend()\n",
    "plt.ylabel('Frequency')"
   ]
  },
  {
   "cell_type": "markdown",
   "metadata": {
    "id": "Ml8Bg7PudYjj"
   },
   "source": [
    "The distribution is seems to follow the Normal Distribution, let's try use the Independent T-Test from the Scipy"
   ]
  },
  {
   "cell_type": "code",
   "execution_count": null,
   "metadata": {
    "colab": {
     "base_uri": "https://localhost:8080/",
     "height": 297
    },
    "id": "MADoo3fadYjj",
    "outputId": "c063cee2-6d9b-4cec-baf4-ff8e825d032b"
   },
   "outputs": [
    {
     "data": {
      "text/plain": [
       "<matplotlib.axes._subplots.AxesSubplot at 0x7faa20881860>"
      ]
     },
     "execution_count": 163,
     "metadata": {
      "tags": []
     },
     "output_type": "execute_result"
    },
    {
     "data": {
      "image/png": "[encoded data removed]",
      "text/plain": [
       "<Figure size 432x288 with 1 Axes>"
      ]
     },
     "metadata": {
      "tags": []
     },
     "output_type": "display_data"
    }
   ],
   "source": [
    "sns.boxplot(x = 'Wearing Hat', y = 'Score', data = hat)"
   ]
  },
  {
   "cell_type": "markdown",
   "metadata": {
    "id": "Rs9Fa2bKdYjl"
   },
   "source": [
    "Ho : Median Popolation of Score not wearing hat = Median Popolation of Score wearing hat \n",
    "<br>\n",
    "Ha : Median Popolation of Score not wearing hat > Median Popolation of Score wearing hat"
   ]
  },
  {
   "cell_type": "code",
   "execution_count": null,
   "metadata": {
    "ExecuteTime": {
     "end_time": "2019-08-21T03:17:40.817552Z",
     "start_time": "2019-08-21T03:17:40.809571Z"
    },
    "colab": {
     "base_uri": "https://localhost:8080/",
     "height": 52
    },
    "id": "BWyEcdWZdYjn",
    "outputId": "2db5c907-592c-4a17-925f-4a474c14c376"
   },
   "outputs": [
    {
     "name": "stdout",
     "output_type": "stream",
     "text": [
      "U-Statistic: 61.5\n",
      "P-Value: 0.1996116335589066\n"
     ]
    }
   ],
   "source": [
    "from scipy.stats import mannwhitneyu\n",
    "result = list(mannwhitneyu(\n",
    "    hat[hat['Wearing Hat'] == 'No']['Score'], \n",
    "    hat[hat['Wearing Hat'] == 'Yes']['Score'],\n",
    "    alternative = 'greater' # M (no hat) > M (no hat)\n",
    "))\n",
    "print('U-Statistic:', result[0])\n",
    "print('P-Value:', result[1])"
   ]
  },
  {
   "cell_type": "markdown",
   "metadata": {
    "id": "Kd6L-ydBgdgw"
   },
   "source": [
    "The P-value is higher than our significant level 0.05, it means we don't have enough evidence to reject the Null Hypothesis. So, Mean Popolation Median of Score not wearing hat are still aproximately equal to Mean Popolation Median of Score wearing hat."
   ]
  },
  {
   "cell_type": "markdown",
   "metadata": {
    "id": "f9cMpynAcvyE"
   },
   "source": [
    "## Wilcoxon"
   ]
  },
  {
   "cell_type": "markdown",
   "metadata": {
    "id": "wAgJ0qXcfX2r"
   },
   "source": [
    "reaction time on driving skill before and while using cell phone"
   ]
  },
  {
   "cell_type": "code",
   "execution_count": null,
   "metadata": {
    "id": "rOo-ztbcfX2v"
   },
   "outputs": [],
   "source": [
    "with_cell_phone = [604,556,540,522,469,544,513,470,556,531,599,537,619,536,554,467]\n",
    "without_cell_phone = [636,623,615,672,601,600,542,554,543,520,609,559,595,565,573,554]\n",
    "\n",
    "df_paired = pd.DataFrame({\n",
    "    'no':without_cell_phone,\n",
    "    'yes':with_cell_phone\n",
    "})"
   ]
  },
  {
   "cell_type": "code",
   "execution_count": null,
   "metadata": {
    "id": "_I_0kOITfX22"
   },
   "outputs": [],
   "source": [
    "df_paired['diff'] = df_paired['yes'] - df_paired['no']"
   ]
  },
  {
   "cell_type": "code",
   "execution_count": null,
   "metadata": {
    "colab": {
     "base_uri": "https://localhost:8080/",
     "height": 340
    },
    "id": "o1nKAhZVfX27",
    "outputId": "cf125f11-0153-44f8-bc55-b14c7998587e"
   },
   "outputs": [
    {
     "data": {
      "text/html": [
       "<div>\n",
       "<style scoped>\n",
       "    .dataframe tbody tr th:only-of-type {\n",
       "        vertical-align: middle;\n",
       "    }\n",
       "\n",
       "    .dataframe tbody tr th {\n",
       "        vertical-align: top;\n",
       "    }\n",
       "\n",
       "    .dataframe thead th {\n",
       "        text-align: right;\n",
       "    }\n",
       "</style>\n",
       "<table border=\"1\" class=\"dataframe\">\n",
       "  <thead>\n",
       "    <tr style=\"text-align: right;\">\n",
       "      <th></th>\n",
       "      <th>no</th>\n",
       "      <th>yes</th>\n",
       "      <th>diff</th>\n",
       "    </tr>\n",
       "  </thead>\n",
       "  <tbody>\n",
       "    <tr>\n",
       "      <th>0</th>\n",
       "      <td>636</td>\n",
       "      <td>604</td>\n",
       "      <td>-32</td>\n",
       "    </tr>\n",
       "    <tr>\n",
       "      <th>1</th>\n",
       "      <td>623</td>\n",
       "      <td>556</td>\n",
       "      <td>-67</td>\n",
       "    </tr>\n",
       "    <tr>\n",
       "      <th>2</th>\n",
       "      <td>615</td>\n",
       "      <td>540</td>\n",
       "      <td>-75</td>\n",
       "    </tr>\n",
       "    <tr>\n",
       "      <th>3</th>\n",
       "      <td>672</td>\n",
       "      <td>522</td>\n",
       "      <td>-150</td>\n",
       "    </tr>\n",
       "    <tr>\n",
       "      <th>4</th>\n",
       "      <td>601</td>\n",
       "      <td>469</td>\n",
       "      <td>-132</td>\n",
       "    </tr>\n",
       "    <tr>\n",
       "      <th>5</th>\n",
       "      <td>600</td>\n",
       "      <td>544</td>\n",
       "      <td>-56</td>\n",
       "    </tr>\n",
       "    <tr>\n",
       "      <th>6</th>\n",
       "      <td>542</td>\n",
       "      <td>513</td>\n",
       "      <td>-29</td>\n",
       "    </tr>\n",
       "    <tr>\n",
       "      <th>7</th>\n",
       "      <td>554</td>\n",
       "      <td>470</td>\n",
       "      <td>-84</td>\n",
       "    </tr>\n",
       "    <tr>\n",
       "      <th>8</th>\n",
       "      <td>543</td>\n",
       "      <td>556</td>\n",
       "      <td>13</td>\n",
       "    </tr>\n",
       "    <tr>\n",
       "      <th>9</th>\n",
       "      <td>520</td>\n",
       "      <td>531</td>\n",
       "      <td>11</td>\n",
       "    </tr>\n",
       "  </tbody>\n",
       "</table>\n",
       "</div>"
      ],
      "text/plain": [
       "    no  yes  diff\n",
       "0  636  604   -32\n",
       "1  623  556   -67\n",
       "2  615  540   -75\n",
       "3  672  522  -150\n",
       "4  601  469  -132\n",
       "5  600  544   -56\n",
       "6  542  513   -29\n",
       "7  554  470   -84\n",
       "8  543  556    13\n",
       "9  520  531    11"
      ]
     },
     "execution_count": 183,
     "metadata": {
      "tags": []
     },
     "output_type": "execute_result"
    }
   ],
   "source": [
    "df_paired.head(10)"
   ]
  },
  {
   "cell_type": "code",
   "execution_count": null,
   "metadata": {
    "colab": {
     "base_uri": "https://localhost:8080/",
     "height": 177
    },
    "id": "AR8l4XMIfX3B",
    "outputId": "0282faf5-cb05-4757-eb93-954e77b6d0c5"
   },
   "outputs": [
    {
     "data": {
      "text/plain": [
       "count     16.000000\n",
       "mean     -46.500000\n",
       "std       50.146452\n",
       "min     -150.000000\n",
       "25%      -77.250000\n",
       "50%      -30.500000\n",
       "75%      -16.750000\n",
       "max       24.000000\n",
       "Name: diff, dtype: float64"
      ]
     },
     "execution_count": 184,
     "metadata": {
      "tags": []
     },
     "output_type": "execute_result"
    }
   ],
   "source": [
    "df_paired['diff'].describe()"
   ]
  },
  {
   "cell_type": "code",
   "execution_count": null,
   "metadata": {
    "colab": {
     "base_uri": "https://localhost:8080/",
     "height": 297
    },
    "id": "hsisB7ZsfX3G",
    "outputId": "281b8ede-d4dc-4afa-fa79-81cea12a1bbc"
   },
   "outputs": [
    {
     "data": {
      "text/plain": [
       "<matplotlib.axes._subplots.AxesSubplot at 0x7faa201e9048>"
      ]
     },
     "execution_count": 185,
     "metadata": {
      "tags": []
     },
     "output_type": "execute_result"
    },
    {
     "data": {
      "image/png": "[encoded data removed]",
      "text/plain": [
       "<Figure size 432x288 with 1 Axes>"
      ]
     },
     "metadata": {
      "tags": []
     },
     "output_type": "display_data"
    }
   ],
   "source": [
    "sns.boxplot(df_paired['diff'])"
   ]
  },
  {
   "cell_type": "code",
   "execution_count": null,
   "metadata": {
    "colab": {
     "base_uri": "https://localhost:8080/",
     "height": 297
    },
    "id": "nI9EjkTsfm7h",
    "outputId": "207abf0c-1c2c-4732-c6da-30debf15d90e"
   },
   "outputs": [
    {
     "data": {
      "text/plain": [
       "<matplotlib.axes._subplots.AxesSubplot at 0x7faa201e9c18>"
      ]
     },
     "execution_count": 187,
     "metadata": {
      "tags": []
     },
     "output_type": "execute_result"
    },
    {
     "data": {
      "image/png": "[encoded data removed]",
      "text/plain": [
       "<Figure size 432x288 with 1 Axes>"
      ]
     },
     "metadata": {
      "tags": []
     },
     "output_type": "display_data"
    }
   ],
   "source": [
    "sns.distplot(df_paired['diff'])"
   ]
  },
  {
   "cell_type": "markdown",
   "metadata": {
    "id": "SUIlMCsAfX3K"
   },
   "source": [
    "Ho : Median Population of difference (yes-no) = 0\n",
    "<br>\n",
    "Ha : Median Population of difference (yes-no) < 0"
   ]
  },
  {
   "cell_type": "code",
   "execution_count": null,
   "metadata": {
    "id": "TsY1GUEBftk3"
   },
   "outputs": [],
   "source": [
    "from scipy.stats import wilcoxon"
   ]
  },
  {
   "cell_type": "code",
   "execution_count": null,
   "metadata": {
    "colab": {
     "base_uri": "https://localhost:8080/",
     "height": 52
    },
    "id": "UByEfdHwfX3L",
    "outputId": "60450e5b-0216-42ca-857d-3a896b2e1312"
   },
   "outputs": [
    {
     "name": "stdout",
     "output_type": "stream",
     "text": [
      "0.001599741499196222\n",
      "11.0\n"
     ]
    }
   ],
   "source": [
    "sumrank, pval = wilcoxon(df_paired['diff'], alternative = 'less')\n",
    "print(pval)\n",
    "print(sumrank)"
   ]
  },
  {
   "cell_type": "markdown",
   "metadata": {
    "id": "3Z46VoEifX3T"
   },
   "source": [
    "The P-value is lower than our significant level 0.05, it means we have enough evidence to reject the Null Hypothesis. So, reaction time on driving skill after using cell phone are lower than before using cell phone "
   ]
  },
  {
   "cell_type": "markdown",
   "metadata": {
    "id": "eDNEzJV-cv6l"
   },
   "source": [
    "## Kruskal Wallis"
   ]
  },
  {
   "cell_type": "code",
   "execution_count": null,
   "metadata": {
    "ExecuteTime": {
     "end_time": "2019-08-21T03:33:42.963397Z",
     "start_time": "2019-08-21T03:33:42.959438Z"
    },
    "id": "l7EbWP0yeuED"
   },
   "outputs": [],
   "source": [
    "transport = []\n",
    "method = ['Walking ', 'Public ', 'Private ']\n",
    "for i in method:\n",
    "    transport.extend((i*10).split())"
   ]
  },
  {
   "cell_type": "code",
   "execution_count": null,
   "metadata": {
    "ExecuteTime": {
     "end_time": "2019-08-21T03:43:05.346483Z",
     "start_time": "2019-08-21T03:43:05.336513Z"
    },
    "colab": {
     "base_uri": "https://localhost:8080/",
     "height": 194
    },
    "id": "zBL8qt6-euEP",
    "outputId": "b35cc6bb-26e7-4679-f474-624c50b94e83"
   },
   "outputs": [
    {
     "data": {
      "text/html": [
       "<div>\n",
       "<style scoped>\n",
       "    .dataframe tbody tr th:only-of-type {\n",
       "        vertical-align: middle;\n",
       "    }\n",
       "\n",
       "    .dataframe tbody tr th {\n",
       "        vertical-align: top;\n",
       "    }\n",
       "\n",
       "    .dataframe thead th {\n",
       "        text-align: right;\n",
       "    }\n",
       "</style>\n",
       "<table border=\"1\" class=\"dataframe\">\n",
       "  <thead>\n",
       "    <tr style=\"text-align: right;\">\n",
       "      <th></th>\n",
       "      <th>Transportation</th>\n",
       "      <th>Study Hour</th>\n",
       "    </tr>\n",
       "  </thead>\n",
       "  <tbody>\n",
       "    <tr>\n",
       "      <th>26</th>\n",
       "      <td>Private</td>\n",
       "      <td>5</td>\n",
       "    </tr>\n",
       "    <tr>\n",
       "      <th>24</th>\n",
       "      <td>Private</td>\n",
       "      <td>6</td>\n",
       "    </tr>\n",
       "    <tr>\n",
       "      <th>27</th>\n",
       "      <td>Private</td>\n",
       "      <td>5</td>\n",
       "    </tr>\n",
       "    <tr>\n",
       "      <th>16</th>\n",
       "      <td>Public</td>\n",
       "      <td>5</td>\n",
       "    </tr>\n",
       "    <tr>\n",
       "      <th>10</th>\n",
       "      <td>Public</td>\n",
       "      <td>7</td>\n",
       "    </tr>\n",
       "  </tbody>\n",
       "</table>\n",
       "</div>"
      ],
      "text/plain": [
       "   Transportation  Study Hour\n",
       "26        Private           5\n",
       "24        Private           6\n",
       "27        Private           5\n",
       "16         Public           5\n",
       "10         Public           7"
      ]
     },
     "execution_count": 171,
     "metadata": {
      "tags": []
     },
     "output_type": "execute_result"
    }
   ],
   "source": [
    "transportdf = pd.concat([pd.Series(transport, name = 'Transportation'), \n",
    "                     pd.Series([5,4,5,6,5,3,2,4,5,5,7,7,5,6,4,6,5,5,6,7,5,4,5,6,6,5,5,5,7,7], name = 'Study Hour')], axis =1)\n",
    "transportdf.sample(5)"
   ]
  },
  {
   "cell_type": "code",
   "execution_count": null,
   "metadata": {
    "ExecuteTime": {
     "end_time": "2019-08-21T03:48:23.438036Z",
     "start_time": "2019-08-21T03:48:23.281457Z"
    },
    "colab": {
     "base_uri": "https://localhost:8080/",
     "height": 300
    },
    "id": "bXuZaYgKeuET",
    "outputId": "682878d4-449f-4483-b137-b8185b69e136"
   },
   "outputs": [
    {
     "data": {
      "text/plain": [
       "Text(0, 0.5, 'Frequency')"
      ]
     },
     "execution_count": 172,
     "metadata": {
      "tags": []
     },
     "output_type": "execute_result"
    },
    {
     "data": {
      "image/png": "[encoded data removed]",
      "text/plain": [
       "<Figure size 432x288 with 1 Axes>"
      ]
     },
     "metadata": {
      "tags": []
     },
     "output_type": "display_data"
    }
   ],
   "source": [
    "sns.distplot(transportdf[transportdf['Transportation'] == 'Walking']['Study Hour'], color = 'red', label = 'Walking')\n",
    "sns.distplot(transportdf[transportdf['Transportation'] == 'Public']['Study Hour'], color = 'green', label = 'Public')\n",
    "sns.distplot(transportdf[transportdf['Transportation'] == 'Private']['Study Hour'], color = 'blue', label = 'Private')\n",
    "plt.legend()\n",
    "plt.ylabel('Frequency')"
   ]
  },
  {
   "cell_type": "code",
   "execution_count": null,
   "metadata": {
    "colab": {
     "base_uri": "https://localhost:8080/",
     "height": 297
    },
    "id": "Hb0AYaHWeuEV",
    "outputId": "de9cf61c-a417-4866-eef5-44c4e996ad58"
   },
   "outputs": [
    {
     "data": {
      "text/plain": [
       "<matplotlib.axes._subplots.AxesSubplot at 0x7faa202d7208>"
      ]
     },
     "execution_count": 173,
     "metadata": {
      "tags": []
     },
     "output_type": "execute_result"
    },
    {
     "data": {
      "image/png": "[encoded data removed]",
      "text/plain": [
       "<Figure size 432x288 with 1 Axes>"
      ]
     },
     "metadata": {
      "tags": []
     },
     "output_type": "display_data"
    }
   ],
   "source": [
    "sns.set_palette(['red','green','blue'])\n",
    "sns.boxplot(x = 'Transportation', y = 'Study Hour', data = transportdf)"
   ]
  },
  {
   "cell_type": "code",
   "execution_count": null,
   "metadata": {
    "ExecuteTime": {
     "end_time": "2019-08-21T06:45:38.026509Z",
     "start_time": "2019-08-21T06:45:38.019537Z"
    },
    "colab": {
     "base_uri": "https://localhost:8080/",
     "height": 70
    },
    "id": "64JXjldGeuEY",
    "outputId": "933e38c8-0f7d-4db1-dffd-b57d48706588"
   },
   "outputs": [
    {
     "name": "stdout",
     "output_type": "stream",
     "text": [
      "Median of Study Hour Group Walking: 5.0\n",
      "Median of Study Hour Group Public: 6.0\n",
      "Median of Study Hour Group Private: 5.0\n"
     ]
    }
   ],
   "source": [
    "for i in transportdf['Transportation'].unique():\n",
    "    print('Median of Study Hour Group {}: {}'.format(i,transportdf[transportdf['Transportation'] == i]['Study Hour'].median()))"
   ]
  },
  {
   "cell_type": "code",
   "execution_count": null,
   "metadata": {
    "ExecuteTime": {
     "end_time": "2019-08-21T06:45:17.743977Z",
     "start_time": "2019-08-21T06:45:17.739990Z"
    },
    "colab": {
     "base_uri": "https://localhost:8080/",
     "height": 35
    },
    "id": "f9ccYatseuEb",
    "outputId": "14686c8f-48c1-4511-e71e-a1ca2b6d7343"
   },
   "outputs": [
    {
     "name": "stdout",
     "output_type": "stream",
     "text": [
      "Total Study Hour Mean:  5.0\n"
     ]
    }
   ],
   "source": [
    "print('Total Study Hour Mean: ', transportdf['Study Hour'].median())"
   ]
  },
  {
   "cell_type": "code",
   "execution_count": null,
   "metadata": {
    "ExecuteTime": {
     "end_time": "2019-08-21T06:58:46.375385Z",
     "start_time": "2019-08-21T06:58:46.366443Z"
    },
    "colab": {
     "base_uri": "https://localhost:8080/",
     "height": 35
    },
    "id": "arT0fI0beuEj",
    "outputId": "93b7d45d-cb7f-4075-fffc-95d82710224f"
   },
   "outputs": [
    {
     "data": {
      "text/plain": [
       "KruskalResult(statistic=7.01891293654697, pvalue=0.029913168775421856)"
      ]
     },
     "execution_count": 178,
     "metadata": {
      "tags": []
     },
     "output_type": "execute_result"
    }
   ],
   "source": [
    "#Importing One-Way ANOVA from Scipy. One-Way ANOVA is called F one-way as well because the test follow the F- Distribution\n",
    "from scipy.stats import kruskal\n",
    "kruskal(transportdf[transportdf['Transportation'] == 'Walking']['Study Hour'], \n",
    "        transportdf[transportdf['Transportation'] == 'Public']['Study Hour'],\n",
    "        transportdf[transportdf['Transportation'] == 'Private']['Study Hour'])"
   ]
  },
  {
   "cell_type": "markdown",
   "metadata": {
    "id": "oJiIud7DeuEm"
   },
   "source": [
    "The P-value is lower than our significant level 0.05, it means we have enough evidence to reject the Null Hypothesis. So,at least one pair of the population median are not equal"
   ]
  },
  {
   "cell_type": "markdown",
   "metadata": {
    "id": "x1rqfOUm-Kml"
   },
   "source": [
    "# Association"
   ]
  },
  {
   "cell_type": "code",
   "execution_count": null,
   "metadata": {
    "colab": {
     "base_uri": "https://localhost:8080/",
     "height": 35
    },
    "id": "tbneymrR5VVF",
    "outputId": "3478b92c-d020-4da7-926d-b3151c26daf1"
   },
   "outputs": [
    {
     "data": {
      "text/plain": [
       "RandomState(MT19937) at 0x7F98C9AB4468"
      ]
     },
     "execution_count": 2,
     "metadata": {
      "tags": []
     },
     "output_type": "execute_result"
    }
   ],
   "source": [
    "np.random.RandomState(10)"
   ]
  },
  {
   "cell_type": "code",
   "execution_count": null,
   "metadata": {
    "colab": {
     "base_uri": "https://localhost:8080/",
     "height": 72
    },
    "id": "T-SDbDno-Kml",
    "outputId": "78b8e898-2963-4e24-a999-7a30e6e00f88"
   },
   "outputs": [
    {
     "name": "stderr",
     "output_type": "stream",
     "text": [
      "/usr/local/lib/python3.6/dist-packages/ipykernel_launcher.py:4: DeprecationWarning: np.asscalar(a) is deprecated since NumPy v1.16, use a.item() instead\n",
      "  after removing the cwd from sys.path.\n"
     ]
    }
   ],
   "source": [
    "x = list(np.random.normal(5,2,100))\n",
    "x = [round(i,2) for i in x]\n",
    "\n",
    "y = [(3 + 3*i + np.asscalar(np.random.normal(0,1.5,1))) for i in x]\n",
    "y = [round(i,2) for i in y]"
   ]
  },
  {
   "cell_type": "code",
   "execution_count": null,
   "metadata": {
    "id": "1z-ULyf9-Kmm"
   },
   "outputs": [],
   "source": [
    "y2 = [i**4 for i in y]"
   ]
  },
  {
   "cell_type": "code",
   "execution_count": null,
   "metadata": {
    "id": "jRT-HfFN-Kmn"
   },
   "outputs": [],
   "source": [
    "df_assotiation = pd.DataFrame({\n",
    "    'x':x,\n",
    "    'y':y,\n",
    "    'y2':y2\n",
    "})"
   ]
  },
  {
   "cell_type": "code",
   "execution_count": null,
   "metadata": {
    "colab": {
     "base_uri": "https://localhost:8080/",
     "height": 340
    },
    "id": "FjnFamvT-Kmq",
    "outputId": "0951581b-e25d-40db-98e4-3d8ef2aeedc2"
   },
   "outputs": [
    {
     "data": {
      "text/html": [
       "<div>\n",
       "<style scoped>\n",
       "    .dataframe tbody tr th:only-of-type {\n",
       "        vertical-align: middle;\n",
       "    }\n",
       "\n",
       "    .dataframe tbody tr th {\n",
       "        vertical-align: top;\n",
       "    }\n",
       "\n",
       "    .dataframe thead th {\n",
       "        text-align: right;\n",
       "    }\n",
       "</style>\n",
       "<table border=\"1\" class=\"dataframe\">\n",
       "  <thead>\n",
       "    <tr style=\"text-align: right;\">\n",
       "      <th></th>\n",
       "      <th>x</th>\n",
       "      <th>y</th>\n",
       "      <th>y2</th>\n",
       "    </tr>\n",
       "  </thead>\n",
       "  <tbody>\n",
       "    <tr>\n",
       "      <th>0</th>\n",
       "      <td>2.92</td>\n",
       "      <td>13.37</td>\n",
       "      <td>31954.029298</td>\n",
       "    </tr>\n",
       "    <tr>\n",
       "      <th>1</th>\n",
       "      <td>3.49</td>\n",
       "      <td>13.78</td>\n",
       "      <td>36057.604455</td>\n",
       "    </tr>\n",
       "    <tr>\n",
       "      <th>2</th>\n",
       "      <td>6.14</td>\n",
       "      <td>18.07</td>\n",
       "      <td>106618.510320</td>\n",
       "    </tr>\n",
       "    <tr>\n",
       "      <th>3</th>\n",
       "      <td>2.45</td>\n",
       "      <td>10.15</td>\n",
       "      <td>10613.635506</td>\n",
       "    </tr>\n",
       "    <tr>\n",
       "      <th>4</th>\n",
       "      <td>3.81</td>\n",
       "      <td>14.06</td>\n",
       "      <td>39078.805709</td>\n",
       "    </tr>\n",
       "    <tr>\n",
       "      <th>5</th>\n",
       "      <td>7.65</td>\n",
       "      <td>28.81</td>\n",
       "      <td>688926.726259</td>\n",
       "    </tr>\n",
       "    <tr>\n",
       "      <th>6</th>\n",
       "      <td>4.92</td>\n",
       "      <td>17.09</td>\n",
       "      <td>85303.775038</td>\n",
       "    </tr>\n",
       "    <tr>\n",
       "      <th>7</th>\n",
       "      <td>8.25</td>\n",
       "      <td>27.95</td>\n",
       "      <td>610277.346006</td>\n",
       "    </tr>\n",
       "    <tr>\n",
       "      <th>8</th>\n",
       "      <td>5.84</td>\n",
       "      <td>21.08</td>\n",
       "      <td>197461.497449</td>\n",
       "    </tr>\n",
       "    <tr>\n",
       "      <th>9</th>\n",
       "      <td>5.27</td>\n",
       "      <td>17.81</td>\n",
       "      <td>100613.365855</td>\n",
       "    </tr>\n",
       "  </tbody>\n",
       "</table>\n",
       "</div>"
      ],
      "text/plain": [
       "      x      y             y2\n",
       "0  2.92  13.37   31954.029298\n",
       "1  3.49  13.78   36057.604455\n",
       "2  6.14  18.07  106618.510320\n",
       "3  2.45  10.15   10613.635506\n",
       "4  3.81  14.06   39078.805709\n",
       "5  7.65  28.81  688926.726259\n",
       "6  4.92  17.09   85303.775038\n",
       "7  8.25  27.95  610277.346006\n",
       "8  5.84  21.08  197461.497449\n",
       "9  5.27  17.81  100613.365855"
      ]
     },
     "execution_count": 6,
     "metadata": {
      "tags": []
     },
     "output_type": "execute_result"
    }
   ],
   "source": [
    "df_assotiation.head(10)"
   ]
  },
  {
   "cell_type": "markdown",
   "metadata": {
    "id": "dwLirBeB-Kmr"
   },
   "source": [
    "## Linear"
   ]
  },
  {
   "cell_type": "code",
   "execution_count": null,
   "metadata": {
    "colab": {
     "base_uri": "https://localhost:8080/",
     "height": 283
    },
    "id": "0jN2IiYw-Kmr",
    "outputId": "da9d3aa9-645f-4d11-a3e9-e26461e3446f"
   },
   "outputs": [
    {
     "data": {
      "text/plain": [
       "<matplotlib.collections.PathCollection at 0x7f98c9319da0>"
      ]
     },
     "execution_count": 7,
     "metadata": {
      "tags": []
     },
     "output_type": "execute_result"
    },
    {
     "data": {
      "image/png": "[encoded data removed]",
      "text/plain": [
       "<Figure size 432x288 with 1 Axes>"
      ]
     },
     "metadata": {
      "needs_background": "light",
      "tags": []
     },
     "output_type": "display_data"
    }
   ],
   "source": [
    "plt.scatter(x,y)"
   ]
  },
  {
   "cell_type": "code",
   "execution_count": null,
   "metadata": {
    "colab": {
     "base_uri": "https://localhost:8080/",
     "height": 106
    },
    "id": "-HonGnoN-Kms",
    "outputId": "88641852-bb46-415c-f849-571f89eefe8d"
   },
   "outputs": [
    {
     "data": {
      "text/html": [
       "<div>\n",
       "<style scoped>\n",
       "    .dataframe tbody tr th:only-of-type {\n",
       "        vertical-align: middle;\n",
       "    }\n",
       "\n",
       "    .dataframe tbody tr th {\n",
       "        vertical-align: top;\n",
       "    }\n",
       "\n",
       "    .dataframe thead th {\n",
       "        text-align: right;\n",
       "    }\n",
       "</style>\n",
       "<table border=\"1\" class=\"dataframe\">\n",
       "  <thead>\n",
       "    <tr style=\"text-align: right;\">\n",
       "      <th></th>\n",
       "      <th>x</th>\n",
       "      <th>y</th>\n",
       "    </tr>\n",
       "  </thead>\n",
       "  <tbody>\n",
       "    <tr>\n",
       "      <th>x</th>\n",
       "      <td>1.000000</td>\n",
       "      <td>0.965587</td>\n",
       "    </tr>\n",
       "    <tr>\n",
       "      <th>y</th>\n",
       "      <td>0.965587</td>\n",
       "      <td>1.000000</td>\n",
       "    </tr>\n",
       "  </tbody>\n",
       "</table>\n",
       "</div>"
      ],
      "text/plain": [
       "          x         y\n",
       "x  1.000000  0.965587\n",
       "y  0.965587  1.000000"
      ]
     },
     "execution_count": 8,
     "metadata": {
      "tags": []
     },
     "output_type": "execute_result"
    }
   ],
   "source": [
    "df_assotiation[['x','y']].corr()"
   ]
  },
  {
   "cell_type": "markdown",
   "metadata": {
    "id": "etvyj0Ea-Kmu"
   },
   "source": [
    "## Non-Linear Monotonic"
   ]
  },
  {
   "cell_type": "code",
   "execution_count": null,
   "metadata": {
    "colab": {
     "base_uri": "https://localhost:8080/",
     "height": 283
    },
    "id": "q0a1fRk9-Kmu",
    "outputId": "2b763e91-98b4-4714-bc01-d56d24e0e520"
   },
   "outputs": [
    {
     "data": {
      "text/plain": [
       "<matplotlib.collections.PathCollection at 0x7f98c8e06240>"
      ]
     },
     "execution_count": 9,
     "metadata": {
      "tags": []
     },
     "output_type": "execute_result"
    },
    {
     "data": {
      "image/png": "[encoded data removed]",
      "text/plain": [
       "<Figure size 432x288 with 1 Axes>"
      ]
     },
     "metadata": {
      "needs_background": "light",
      "tags": []
     },
     "output_type": "display_data"
    }
   ],
   "source": [
    "plt.scatter(x,y2)"
   ]
  },
  {
   "cell_type": "code",
   "execution_count": null,
   "metadata": {
    "colab": {
     "base_uri": "https://localhost:8080/",
     "height": 106
    },
    "id": "X5oQzYYK-Kmv",
    "outputId": "47190db0-e7d9-4a0d-cbac-50b0593e8470"
   },
   "outputs": [
    {
     "data": {
      "text/html": [
       "<div>\n",
       "<style scoped>\n",
       "    .dataframe tbody tr th:only-of-type {\n",
       "        vertical-align: middle;\n",
       "    }\n",
       "\n",
       "    .dataframe tbody tr th {\n",
       "        vertical-align: top;\n",
       "    }\n",
       "\n",
       "    .dataframe thead th {\n",
       "        text-align: right;\n",
       "    }\n",
       "</style>\n",
       "<table border=\"1\" class=\"dataframe\">\n",
       "  <thead>\n",
       "    <tr style=\"text-align: right;\">\n",
       "      <th></th>\n",
       "      <th>x</th>\n",
       "      <th>y</th>\n",
       "    </tr>\n",
       "  </thead>\n",
       "  <tbody>\n",
       "    <tr>\n",
       "      <th>x</th>\n",
       "      <td>1.000000</td>\n",
       "      <td>0.957368</td>\n",
       "    </tr>\n",
       "    <tr>\n",
       "      <th>y</th>\n",
       "      <td>0.957368</td>\n",
       "      <td>1.000000</td>\n",
       "    </tr>\n",
       "  </tbody>\n",
       "</table>\n",
       "</div>"
      ],
      "text/plain": [
       "          x         y\n",
       "x  1.000000  0.957368\n",
       "y  0.957368  1.000000"
      ]
     },
     "execution_count": 10,
     "metadata": {
      "tags": []
     },
     "output_type": "execute_result"
    }
   ],
   "source": [
    "df_assotiation[['x','y']].corr(method = 'spearman')"
   ]
  },
  {
   "cell_type": "markdown",
   "metadata": {
    "id": "bzgp5HNi-Kmx"
   },
   "source": [
    "## Non-Linear Non-Monotonic"
   ]
  },
  {
   "cell_type": "code",
   "execution_count": null,
   "metadata": {
    "colab": {
     "base_uri": "https://localhost:8080/",
     "height": 35
    },
    "id": "C1pmISOy38Pm",
    "outputId": "4d0d8435-acbc-4888-91d2-92a908d1be68"
   },
   "outputs": [
    {
     "data": {
      "text/plain": [
       "RandomState(MT19937) at 0x7F98C9AB4678"
      ]
     },
     "execution_count": 11,
     "metadata": {
      "tags": []
     },
     "output_type": "execute_result"
    }
   ],
   "source": [
    "np.random.RandomState(10)"
   ]
  },
  {
   "cell_type": "code",
   "execution_count": null,
   "metadata": {
    "colab": {
     "base_uri": "https://localhost:8080/",
     "height": 72
    },
    "id": "8X7qrL0I-Kmx",
    "outputId": "fce55df9-8c5b-4a15-cc4f-8333d2890958"
   },
   "outputs": [
    {
     "name": "stderr",
     "output_type": "stream",
     "text": [
      "/usr/local/lib/python3.6/dist-packages/ipykernel_launcher.py:4: DeprecationWarning: np.asscalar(a) is deprecated since NumPy v1.16, use a.item() instead\n",
      "  after removing the cwd from sys.path.\n"
     ]
    }
   ],
   "source": [
    "x = list(np.random.normal(0,10,100))\n",
    "x = [round(i,2) for i in x]\n",
    "\n",
    "y = [(4 - i**2 + np.asscalar(np.random.normal(0,10,1))) for i in x]\n",
    "y = [round(i,2) for i in y]"
   ]
  },
  {
   "cell_type": "code",
   "execution_count": null,
   "metadata": {
    "id": "n2uRclu33pls"
   },
   "outputs": [],
   "source": [
    "df_assotiation2 = pd.DataFrame({\n",
    "    'x':x,\n",
    "    'y':y\n",
    "})"
   ]
  },
  {
   "cell_type": "code",
   "execution_count": null,
   "metadata": {
    "colab": {
     "base_uri": "https://localhost:8080/",
     "height": 283
    },
    "id": "TE-GADul-Kmy",
    "outputId": "61526aa5-65d9-4f6c-98f4-874683399684"
   },
   "outputs": [
    {
     "data": {
      "text/plain": [
       "<matplotlib.collections.PathCollection at 0x7f98c8d712e8>"
      ]
     },
     "execution_count": 14,
     "metadata": {
      "tags": []
     },
     "output_type": "execute_result"
    },
    {
     "data": {
      "image/png": "[encoded data removed]",
      "text/plain": [
       "<Figure size 432x288 with 1 Axes>"
      ]
     },
     "metadata": {
      "needs_background": "light",
      "tags": []
     },
     "output_type": "display_data"
    }
   ],
   "source": [
    "plt.scatter(x,y)"
   ]
  },
  {
   "cell_type": "code",
   "execution_count": null,
   "metadata": {
    "colab": {
     "base_uri": "https://localhost:8080/",
     "height": 106
    },
    "id": "9jruhuU827Xa",
    "outputId": "b0bd6c13-7fc7-4711-a461-ad34958446e9"
   },
   "outputs": [
    {
     "data": {
      "text/html": [
       "<div>\n",
       "<style scoped>\n",
       "    .dataframe tbody tr th:only-of-type {\n",
       "        vertical-align: middle;\n",
       "    }\n",
       "\n",
       "    .dataframe tbody tr th {\n",
       "        vertical-align: top;\n",
       "    }\n",
       "\n",
       "    .dataframe thead th {\n",
       "        text-align: right;\n",
       "    }\n",
       "</style>\n",
       "<table border=\"1\" class=\"dataframe\">\n",
       "  <thead>\n",
       "    <tr style=\"text-align: right;\">\n",
       "      <th></th>\n",
       "      <th>x</th>\n",
       "      <th>y</th>\n",
       "    </tr>\n",
       "  </thead>\n",
       "  <tbody>\n",
       "    <tr>\n",
       "      <th>x</th>\n",
       "      <td>1.000000</td>\n",
       "      <td>-0.131858</td>\n",
       "    </tr>\n",
       "    <tr>\n",
       "      <th>y</th>\n",
       "      <td>-0.131858</td>\n",
       "      <td>1.000000</td>\n",
       "    </tr>\n",
       "  </tbody>\n",
       "</table>\n",
       "</div>"
      ],
      "text/plain": [
       "          x         y\n",
       "x  1.000000 -0.131858\n",
       "y -0.131858  1.000000"
      ]
     },
     "execution_count": 15,
     "metadata": {
      "tags": []
     },
     "output_type": "execute_result"
    }
   ],
   "source": [
    "df_assotiation2[['x','y']].corr(method = 'spearman')"
   ]
  },
  {
   "cell_type": "code",
   "execution_count": null,
   "metadata": {
    "colab": {
     "base_uri": "https://localhost:8080/",
     "height": 106
    },
    "id": "y_X99BZA4Xjf",
    "outputId": "0be097f5-9b05-413f-a181-8f03859d322f"
   },
   "outputs": [
    {
     "data": {
      "text/html": [
       "<div>\n",
       "<style scoped>\n",
       "    .dataframe tbody tr th:only-of-type {\n",
       "        vertical-align: middle;\n",
       "    }\n",
       "\n",
       "    .dataframe tbody tr th {\n",
       "        vertical-align: top;\n",
       "    }\n",
       "\n",
       "    .dataframe thead th {\n",
       "        text-align: right;\n",
       "    }\n",
       "</style>\n",
       "<table border=\"1\" class=\"dataframe\">\n",
       "  <thead>\n",
       "    <tr style=\"text-align: right;\">\n",
       "      <th></th>\n",
       "      <th>x</th>\n",
       "      <th>y</th>\n",
       "    </tr>\n",
       "  </thead>\n",
       "  <tbody>\n",
       "    <tr>\n",
       "      <th>x</th>\n",
       "      <td>1.000000</td>\n",
       "      <td>0.341624</td>\n",
       "    </tr>\n",
       "    <tr>\n",
       "      <th>y</th>\n",
       "      <td>0.341624</td>\n",
       "      <td>1.000000</td>\n",
       "    </tr>\n",
       "  </tbody>\n",
       "</table>\n",
       "</div>"
      ],
      "text/plain": [
       "          x         y\n",
       "x  1.000000  0.341624\n",
       "y  0.341624  1.000000"
      ]
     },
     "execution_count": 16,
     "metadata": {
      "tags": []
     },
     "output_type": "execute_result"
    }
   ],
   "source": [
    "df_assotiation2[['x','y']].corr(method = 'pearson')"
   ]
  },
  {
   "cell_type": "markdown",
   "metadata": {
    "id": "rXEV6tuR4i2y"
   },
   "source": [
    "from this illustration :\n",
    "1. when using spearman or pearson and the reult is almost zero. it doesn't mean that there is no association or weak association\n",
    "1. there is till might an association but in another form of relationship (in this case is quadratics)\n",
    "1. that is why graphical summary is very important"
   ]
  },
  {
   "cell_type": "markdown",
   "metadata": {
    "id": "ChEJjLGynP-Q"
   },
   "source": [
    "## Crime Rate vs Education"
   ]
  },
  {
   "cell_type": "markdown",
   "metadata": {
    "id": "aHRVBjIBvVq1"
   },
   "source": [
    "Education =  Education was measured as the percentage of residents aged at least 25 in the county who had at least a high school degree. \n",
    "<br>\n",
    "Crime Rate =  Crime rate was measured as the number of crimes in that county in the past year per 1000 residents. \n",
    "<br>\n",
    "County Type = Rural or Urban"
   ]
  },
  {
   "cell_type": "code",
   "execution_count": null,
   "metadata": {
    "id": "6yfJWhFWnPHX"
   },
   "outputs": [],
   "source": [
    "df_urban = pd.DataFrame({\n",
    "    'Education':[70,75,80,85],\n",
    "    'Crime rate':[140,120,110,105],\n",
    "    'county type':'urban'\n",
    "})\n",
    "\n",
    "df_rural = pd.DataFrame({\n",
    "    'Education':[55,58,60,65],\n",
    "    'Crime rate':[50,40,30,25],\n",
    "    'county type':'rural'    \n",
    "})"
   ]
  },
  {
   "cell_type": "code",
   "execution_count": null,
   "metadata": {
    "id": "my6lMeFZoQAS"
   },
   "outputs": [],
   "source": [
    "df_counties = df_urban.append(df_rural)"
   ]
  },
  {
   "cell_type": "markdown",
   "metadata": {
    "id": "hSNjK6rfp0qP"
   },
   "source": [
    "### Analyze marginaly"
   ]
  },
  {
   "cell_type": "code",
   "execution_count": null,
   "metadata": {
    "colab": {
     "base_uri": "https://localhost:8080/",
     "height": 297
    },
    "id": "JGRYTiJ5xlSO",
    "outputId": "8e8c6bc9-3365-4e10-9187-6791e0090be7"
   },
   "outputs": [
    {
     "data": {
      "text/plain": [
       "<matplotlib.axes._subplots.AxesSubplot at 0x7faa206f9710>"
      ]
     },
     "execution_count": 149,
     "metadata": {
      "tags": []
     },
     "output_type": "execute_result"
    },
    {
     "data": {
      "image/png": "[encoded data removed]",
      "text/plain": [
       "<Figure size 432x288 with 1 Axes>"
      ]
     },
     "metadata": {
      "tags": []
     },
     "output_type": "display_data"
    }
   ],
   "source": [
    "sns.scatterplot(x='Education',y='Crime rate',data=df_counties)"
   ]
  },
  {
   "cell_type": "code",
   "execution_count": null,
   "metadata": {
    "colab": {
     "base_uri": "https://localhost:8080/",
     "height": 297
    },
    "id": "AqfWGz0Konbw",
    "outputId": "f186ebdc-85b5-493d-e946-470f624fb6cc"
   },
   "outputs": [
    {
     "data": {
      "text/plain": [
       "<matplotlib.axes._subplots.AxesSubplot at 0x7faa20656cc0>"
      ]
     },
     "execution_count": 150,
     "metadata": {
      "tags": []
     },
     "output_type": "execute_result"
    },
    {
     "data": {
      "image/png": "[encoded data removed]",
      "text/plain": [
       "<Figure size 432x288 with 1 Axes>"
      ]
     },
     "metadata": {
      "tags": []
     },
     "output_type": "display_data"
    }
   ],
   "source": [
    "sns.scatterplot(x='Education',y='Crime rate',data=df_counties,hue='county type')"
   ]
  },
  {
   "cell_type": "code",
   "execution_count": null,
   "metadata": {
    "colab": {
     "base_uri": "https://localhost:8080/",
     "height": 106
    },
    "id": "08FHdAtzo-Qr",
    "outputId": "879dd3e8-c1da-4b26-9f27-1a14ce44b202"
   },
   "outputs": [
    {
     "data": {
      "text/html": [
       "<div>\n",
       "<style scoped>\n",
       "    .dataframe tbody tr th:only-of-type {\n",
       "        vertical-align: middle;\n",
       "    }\n",
       "\n",
       "    .dataframe tbody tr th {\n",
       "        vertical-align: top;\n",
       "    }\n",
       "\n",
       "    .dataframe thead th {\n",
       "        text-align: right;\n",
       "    }\n",
       "</style>\n",
       "<table border=\"1\" class=\"dataframe\">\n",
       "  <thead>\n",
       "    <tr style=\"text-align: right;\">\n",
       "      <th></th>\n",
       "      <th>Education</th>\n",
       "      <th>Crime rate</th>\n",
       "    </tr>\n",
       "  </thead>\n",
       "  <tbody>\n",
       "    <tr>\n",
       "      <th>Education</th>\n",
       "      <td>1.000000</td>\n",
       "      <td>0.731798</td>\n",
       "    </tr>\n",
       "    <tr>\n",
       "      <th>Crime rate</th>\n",
       "      <td>0.731798</td>\n",
       "      <td>1.000000</td>\n",
       "    </tr>\n",
       "  </tbody>\n",
       "</table>\n",
       "</div>"
      ],
      "text/plain": [
       "            Education  Crime rate\n",
       "Education    1.000000    0.731798\n",
       "Crime rate   0.731798    1.000000"
      ]
     },
     "execution_count": 151,
     "metadata": {
      "tags": []
     },
     "output_type": "execute_result"
    }
   ],
   "source": [
    "df_counties.corr()"
   ]
  },
  {
   "cell_type": "markdown",
   "metadata": {
    "id": "LCK9C9tVq1BN"
   },
   "source": [
    "The correlation between education and crime rate is highly positive. Is that make sense that crime rate increasing when education level increase ?"
   ]
  },
  {
   "cell_type": "code",
   "execution_count": null,
   "metadata": {
    "colab": {
     "base_uri": "https://localhost:8080/",
     "height": 282
    },
    "id": "17WymRYit4Lr",
    "outputId": "56003d2a-cdb1-476d-e303-869759b28464"
   },
   "outputs": [
    {
     "data": {
      "text/html": [
       "<div>\n",
       "<style scoped>\n",
       "    .dataframe tbody tr th:only-of-type {\n",
       "        vertical-align: middle;\n",
       "    }\n",
       "\n",
       "    .dataframe tbody tr th {\n",
       "        vertical-align: top;\n",
       "    }\n",
       "\n",
       "    .dataframe thead th {\n",
       "        text-align: right;\n",
       "    }\n",
       "</style>\n",
       "<table border=\"1\" class=\"dataframe\">\n",
       "  <thead>\n",
       "    <tr style=\"text-align: right;\">\n",
       "      <th></th>\n",
       "      <th>Education</th>\n",
       "      <th>Crime rate</th>\n",
       "      <th>county type</th>\n",
       "    </tr>\n",
       "  </thead>\n",
       "  <tbody>\n",
       "    <tr>\n",
       "      <th>0</th>\n",
       "      <td>70</td>\n",
       "      <td>140</td>\n",
       "      <td>urban</td>\n",
       "    </tr>\n",
       "    <tr>\n",
       "      <th>1</th>\n",
       "      <td>75</td>\n",
       "      <td>120</td>\n",
       "      <td>urban</td>\n",
       "    </tr>\n",
       "    <tr>\n",
       "      <th>2</th>\n",
       "      <td>80</td>\n",
       "      <td>110</td>\n",
       "      <td>urban</td>\n",
       "    </tr>\n",
       "    <tr>\n",
       "      <th>3</th>\n",
       "      <td>85</td>\n",
       "      <td>105</td>\n",
       "      <td>urban</td>\n",
       "    </tr>\n",
       "    <tr>\n",
       "      <th>0</th>\n",
       "      <td>55</td>\n",
       "      <td>50</td>\n",
       "      <td>rural</td>\n",
       "    </tr>\n",
       "    <tr>\n",
       "      <th>1</th>\n",
       "      <td>58</td>\n",
       "      <td>40</td>\n",
       "      <td>rural</td>\n",
       "    </tr>\n",
       "    <tr>\n",
       "      <th>2</th>\n",
       "      <td>60</td>\n",
       "      <td>30</td>\n",
       "      <td>rural</td>\n",
       "    </tr>\n",
       "    <tr>\n",
       "      <th>3</th>\n",
       "      <td>65</td>\n",
       "      <td>25</td>\n",
       "      <td>rural</td>\n",
       "    </tr>\n",
       "  </tbody>\n",
       "</table>\n",
       "</div>"
      ],
      "text/plain": [
       "   Education  Crime rate county type\n",
       "0         70         140       urban\n",
       "1         75         120       urban\n",
       "2         80         110       urban\n",
       "3         85         105       urban\n",
       "0         55          50       rural\n",
       "1         58          40       rural\n",
       "2         60          30       rural\n",
       "3         65          25       rural"
      ]
     },
     "execution_count": 152,
     "metadata": {
      "tags": []
     },
     "output_type": "execute_result"
    }
   ],
   "source": [
    "df_counties"
   ]
  },
  {
   "cell_type": "code",
   "execution_count": null,
   "metadata": {
    "id": "acs3QWRXuWjb"
   },
   "outputs": [],
   "source": [
    "# transforming county type into ordinal scale\n",
    "df_counties['county type encode'] = df_counties['county type'].map({'rural':0,'urban':1})"
   ]
  },
  {
   "cell_type": "code",
   "execution_count": null,
   "metadata": {
    "colab": {
     "base_uri": "https://localhost:8080/",
     "height": 282
    },
    "id": "LMuO7etkukdZ",
    "outputId": "1fd59824-cd8a-40c3-9054-2aaf412fd5c7"
   },
   "outputs": [
    {
     "data": {
      "text/html": [
       "<div>\n",
       "<style scoped>\n",
       "    .dataframe tbody tr th:only-of-type {\n",
       "        vertical-align: middle;\n",
       "    }\n",
       "\n",
       "    .dataframe tbody tr th {\n",
       "        vertical-align: top;\n",
       "    }\n",
       "\n",
       "    .dataframe thead th {\n",
       "        text-align: right;\n",
       "    }\n",
       "</style>\n",
       "<table border=\"1\" class=\"dataframe\">\n",
       "  <thead>\n",
       "    <tr style=\"text-align: right;\">\n",
       "      <th></th>\n",
       "      <th>Education</th>\n",
       "      <th>Crime rate</th>\n",
       "      <th>county type</th>\n",
       "      <th>county type encode</th>\n",
       "    </tr>\n",
       "  </thead>\n",
       "  <tbody>\n",
       "    <tr>\n",
       "      <th>0</th>\n",
       "      <td>70</td>\n",
       "      <td>140</td>\n",
       "      <td>urban</td>\n",
       "      <td>1</td>\n",
       "    </tr>\n",
       "    <tr>\n",
       "      <th>1</th>\n",
       "      <td>75</td>\n",
       "      <td>120</td>\n",
       "      <td>urban</td>\n",
       "      <td>1</td>\n",
       "    </tr>\n",
       "    <tr>\n",
       "      <th>2</th>\n",
       "      <td>80</td>\n",
       "      <td>110</td>\n",
       "      <td>urban</td>\n",
       "      <td>1</td>\n",
       "    </tr>\n",
       "    <tr>\n",
       "      <th>3</th>\n",
       "      <td>85</td>\n",
       "      <td>105</td>\n",
       "      <td>urban</td>\n",
       "      <td>1</td>\n",
       "    </tr>\n",
       "    <tr>\n",
       "      <th>0</th>\n",
       "      <td>55</td>\n",
       "      <td>50</td>\n",
       "      <td>rural</td>\n",
       "      <td>0</td>\n",
       "    </tr>\n",
       "    <tr>\n",
       "      <th>1</th>\n",
       "      <td>58</td>\n",
       "      <td>40</td>\n",
       "      <td>rural</td>\n",
       "      <td>0</td>\n",
       "    </tr>\n",
       "    <tr>\n",
       "      <th>2</th>\n",
       "      <td>60</td>\n",
       "      <td>30</td>\n",
       "      <td>rural</td>\n",
       "      <td>0</td>\n",
       "    </tr>\n",
       "    <tr>\n",
       "      <th>3</th>\n",
       "      <td>65</td>\n",
       "      <td>25</td>\n",
       "      <td>rural</td>\n",
       "      <td>0</td>\n",
       "    </tr>\n",
       "  </tbody>\n",
       "</table>\n",
       "</div>"
      ],
      "text/plain": [
       "   Education  Crime rate county type  county type encode\n",
       "0         70         140       urban                   1\n",
       "1         75         120       urban                   1\n",
       "2         80         110       urban                   1\n",
       "3         85         105       urban                   1\n",
       "0         55          50       rural                   0\n",
       "1         58          40       rural                   0\n",
       "2         60          30       rural                   0\n",
       "3         65          25       rural                   0"
      ]
     },
     "execution_count": 154,
     "metadata": {
      "tags": []
     },
     "output_type": "execute_result"
    }
   ],
   "source": [
    "df_counties"
   ]
  },
  {
   "cell_type": "code",
   "execution_count": null,
   "metadata": {
    "colab": {
     "base_uri": "https://localhost:8080/",
     "height": 135
    },
    "id": "Vx-eW2lTurYH",
    "outputId": "02e1311a-bea0-4a47-8556-ad61d097b5f6"
   },
   "outputs": [
    {
     "data": {
      "text/html": [
       "<div>\n",
       "<style scoped>\n",
       "    .dataframe tbody tr th:only-of-type {\n",
       "        vertical-align: middle;\n",
       "    }\n",
       "\n",
       "    .dataframe tbody tr th {\n",
       "        vertical-align: top;\n",
       "    }\n",
       "\n",
       "    .dataframe thead th {\n",
       "        text-align: right;\n",
       "    }\n",
       "</style>\n",
       "<table border=\"1\" class=\"dataframe\">\n",
       "  <thead>\n",
       "    <tr style=\"text-align: right;\">\n",
       "      <th></th>\n",
       "      <th>Education</th>\n",
       "      <th>Crime rate</th>\n",
       "      <th>county type encode</th>\n",
       "    </tr>\n",
       "  </thead>\n",
       "  <tbody>\n",
       "    <tr>\n",
       "      <th>Education</th>\n",
       "      <td>1.000000</td>\n",
       "      <td>0.523810</td>\n",
       "      <td>0.872872</td>\n",
       "    </tr>\n",
       "    <tr>\n",
       "      <th>Crime rate</th>\n",
       "      <td>0.523810</td>\n",
       "      <td>1.000000</td>\n",
       "      <td>0.872872</td>\n",
       "    </tr>\n",
       "    <tr>\n",
       "      <th>county type encode</th>\n",
       "      <td>0.872872</td>\n",
       "      <td>0.872872</td>\n",
       "      <td>1.000000</td>\n",
       "    </tr>\n",
       "  </tbody>\n",
       "</table>\n",
       "</div>"
      ],
      "text/plain": [
       "                    Education  Crime rate  county type encode\n",
       "Education            1.000000    0.523810            0.872872\n",
       "Crime rate           0.523810    1.000000            0.872872\n",
       "county type encode   0.872872    0.872872            1.000000"
      ]
     },
     "execution_count": 155,
     "metadata": {
      "tags": []
     },
     "output_type": "execute_result"
    }
   ],
   "source": [
    "df_counties.corr(method='spearman')"
   ]
  },
  {
   "cell_type": "markdown",
   "metadata": {
    "id": "BxMw1jz6tZBi"
   },
   "source": [
    "it turns out that each of education and crime rate are also correlated with urbanization.\n",
    "1. highly urban counties tend to have higher crime rate.\n",
    "1. highly urban counties tend to have higher education.\n",
    "1. perhaps, perhaps the reason for the positive correlation between education and crime rate is that education tends to be greater in more highly urbanized counties and crime rates also tend to be higher in such counties.\n",
    "1. another reason may be because of another covariate/lurking variable (ex. unemployment rate in such countries) in such counties.  \n",
    "1. summary,  a correlation could occur without any causal connection."
   ]
  },
  {
   "cell_type": "markdown",
   "metadata": {
    "id": "LAyUgG_Np7Jc"
   },
   "source": [
    "### Analyze Partially"
   ]
  },
  {
   "cell_type": "markdown",
   "metadata": {
    "id": "DJoSZR27qa5u"
   },
   "source": [
    "> #### Urban"
   ]
  },
  {
   "cell_type": "code",
   "execution_count": null,
   "metadata": {
    "colab": {
     "base_uri": "https://localhost:8080/",
     "height": 297
    },
    "id": "-FCBOFmgp6KI",
    "outputId": "cea3819f-3b53-4e10-c36c-02061c927105"
   },
   "outputs": [
    {
     "data": {
      "text/plain": [
       "<matplotlib.axes._subplots.AxesSubplot at 0x7faa20636b00>"
      ]
     },
     "execution_count": 156,
     "metadata": {
      "tags": []
     },
     "output_type": "execute_result"
    },
    {
     "data": {
      "image/png": "[encoded data removed]",
      "text/plain": [
       "<Figure size 432x288 with 1 Axes>"
      ]
     },
     "metadata": {
      "tags": []
     },
     "output_type": "display_data"
    }
   ],
   "source": [
    "sns.scatterplot(x='Education',y='Crime rate',data=df_urban,hue='county type')"
   ]
  },
  {
   "cell_type": "code",
   "execution_count": null,
   "metadata": {
    "colab": {
     "base_uri": "https://localhost:8080/",
     "height": 106
    },
    "id": "UqA3IvSqqUrs",
    "outputId": "1f4bd359-c2fe-4fa7-e5fd-6ae6100bd83e"
   },
   "outputs": [
    {
     "data": {
      "text/html": [
       "<div>\n",
       "<style scoped>\n",
       "    .dataframe tbody tr th:only-of-type {\n",
       "        vertical-align: middle;\n",
       "    }\n",
       "\n",
       "    .dataframe tbody tr th {\n",
       "        vertical-align: top;\n",
       "    }\n",
       "\n",
       "    .dataframe thead th {\n",
       "        text-align: right;\n",
       "    }\n",
       "</style>\n",
       "<table border=\"1\" class=\"dataframe\">\n",
       "  <thead>\n",
       "    <tr style=\"text-align: right;\">\n",
       "      <th></th>\n",
       "      <th>Education</th>\n",
       "      <th>Crime rate</th>\n",
       "    </tr>\n",
       "  </thead>\n",
       "  <tbody>\n",
       "    <tr>\n",
       "      <th>Education</th>\n",
       "      <td>1.000000</td>\n",
       "      <td>-0.959166</td>\n",
       "    </tr>\n",
       "    <tr>\n",
       "      <th>Crime rate</th>\n",
       "      <td>-0.959166</td>\n",
       "      <td>1.000000</td>\n",
       "    </tr>\n",
       "  </tbody>\n",
       "</table>\n",
       "</div>"
      ],
      "text/plain": [
       "            Education  Crime rate\n",
       "Education    1.000000   -0.959166\n",
       "Crime rate  -0.959166    1.000000"
      ]
     },
     "execution_count": 157,
     "metadata": {
      "tags": []
     },
     "output_type": "execute_result"
    }
   ],
   "source": [
    "df_urban.corr()"
   ]
  },
  {
   "cell_type": "markdown",
   "metadata": {
    "id": "6aCh0mJJqeXC"
   },
   "source": [
    "> #### Rural"
   ]
  },
  {
   "cell_type": "markdown",
   "metadata": {
    "id": "l08gIlFSDxKA"
   },
   "source": []
  },
  {
   "cell_type": "code",
   "execution_count": null,
   "metadata": {
    "colab": {
     "base_uri": "https://localhost:8080/",
     "height": 297
    },
    "id": "z5c_Nwesqixo",
    "outputId": "b4a6b613-0db3-4bb7-ae60-edb4d942afd9"
   },
   "outputs": [
    {
     "data": {
      "text/plain": [
       "<matplotlib.axes._subplots.AxesSubplot at 0x7faa2054f7b8>"
      ]
     },
     "execution_count": 158,
     "metadata": {
      "tags": []
     },
     "output_type": "execute_result"
    },
    {
     "data": {
      "image/png": "[encoded data removed]",
      "text/plain": [
       "<Figure size 432x288 with 1 Axes>"
      ]
     },
     "metadata": {
      "tags": []
     },
     "output_type": "display_data"
    }
   ],
   "source": [
    "sns.scatterplot(x='Education',y='Crime rate',data=df_rural,hue='county type')"
   ]
  },
  {
   "cell_type": "code",
   "execution_count": null,
   "metadata": {
    "colab": {
     "base_uri": "https://localhost:8080/",
     "height": 106
    },
    "id": "Hq91yudNqnWV",
    "outputId": "dcd48e9a-a934-4303-925e-2b016a3abea3"
   },
   "outputs": [
    {
     "data": {
      "text/html": [
       "<div>\n",
       "<style scoped>\n",
       "    .dataframe tbody tr th:only-of-type {\n",
       "        vertical-align: middle;\n",
       "    }\n",
       "\n",
       "    .dataframe tbody tr th {\n",
       "        vertical-align: top;\n",
       "    }\n",
       "\n",
       "    .dataframe thead th {\n",
       "        text-align: right;\n",
       "    }\n",
       "</style>\n",
       "<table border=\"1\" class=\"dataframe\">\n",
       "  <thead>\n",
       "    <tr style=\"text-align: right;\">\n",
       "      <th></th>\n",
       "      <th>Education</th>\n",
       "      <th>Crime rate</th>\n",
       "    </tr>\n",
       "  </thead>\n",
       "  <tbody>\n",
       "    <tr>\n",
       "      <th>Education</th>\n",
       "      <td>1.00000</td>\n",
       "      <td>-0.94779</td>\n",
       "    </tr>\n",
       "    <tr>\n",
       "      <th>Crime rate</th>\n",
       "      <td>-0.94779</td>\n",
       "      <td>1.00000</td>\n",
       "    </tr>\n",
       "  </tbody>\n",
       "</table>\n",
       "</div>"
      ],
      "text/plain": [
       "            Education  Crime rate\n",
       "Education     1.00000    -0.94779\n",
       "Crime rate   -0.94779     1.00000"
      ]
     },
     "execution_count": 159,
     "metadata": {
      "tags": []
     },
     "output_type": "execute_result"
    }
   ],
   "source": [
    "df_rural.corr()"
   ]
  },
  {
   "cell_type": "markdown",
   "metadata": {
    "id": "Zf-FdNfArT6W"
   },
   "source": [
    "when we analyzing the data partially we found that the correlation between Education and Crime Rate is highly negative. This insight is against the insight that we got when we analyzing the data marginally. We cannot ignore another information such as urbanization."
   ]
  },
  {
   "cell_type": "markdown",
   "metadata": {
    "id": "NFl4u7mpD0Mp"
   },
   "source": [
    "## Death Penalty and Race"
   ]
  },
  {
   "cell_type": "code",
   "execution_count": null,
   "metadata": {
    "id": "j2jfQxT-rbHi"
   },
   "outputs": [],
   "source": [
    "outside = ['White','White','Black','Black']\n",
    "inside = ['White','Black','White','Black']\n",
    "# hier_index = list(zip(outside,inside))\n",
    "# hier_index = pd.MultiIndex.from_tuples(hier_index)\n",
    "\n",
    "death_yes = [53,11,0,4]\n",
    "death_no = [414,37,16,139]"
   ]
  },
  {
   "cell_type": "code",
   "execution_count": null,
   "metadata": {
    "id": "HSL5QzvqFP6L"
   },
   "outputs": [],
   "source": [
    "df_death_penalty = pd.DataFrame({\n",
    "    \"victim's race\":outside,\n",
    "    \"Defendant's race\":inside,\n",
    "    'death penalty(yes)':death_yes,\n",
    "    'death penalty(no)':death_no}\n",
    ")"
   ]
  },
  {
   "cell_type": "code",
   "execution_count": null,
   "metadata": {
    "id": "J0cwzUpVIY6G"
   },
   "outputs": [],
   "source": [
    "df_death_penalty['Total'] = df_death_penalty['death penalty(yes)'] + df_death_penalty['death penalty(no)']\n",
    "df_death_penalty['death penalty(yes) percentage'] = df_death_penalty['death penalty(yes)']/df_death_penalty['Total']\n",
    "df_death_penalty['death penalty(no) percentage'] = df_death_penalty['death penalty(no)']/df_death_penalty['Total']"
   ]
  },
  {
   "cell_type": "code",
   "execution_count": null,
   "metadata": {
    "colab": {
     "base_uri": "https://localhost:8080/",
     "height": 181
    },
    "id": "lpD7AjFhGXHg",
    "outputId": "83f115bd-8a27-45b5-abbc-133349f2c8e7"
   },
   "outputs": [
    {
     "data": {
      "text/html": [
       "<div>\n",
       "<style scoped>\n",
       "    .dataframe tbody tr th:only-of-type {\n",
       "        vertical-align: middle;\n",
       "    }\n",
       "\n",
       "    .dataframe tbody tr th {\n",
       "        vertical-align: top;\n",
       "    }\n",
       "\n",
       "    .dataframe thead th {\n",
       "        text-align: right;\n",
       "    }\n",
       "</style>\n",
       "<table border=\"1\" class=\"dataframe\">\n",
       "  <thead>\n",
       "    <tr style=\"text-align: right;\">\n",
       "      <th></th>\n",
       "      <th>victim's race</th>\n",
       "      <th>Defendant's race</th>\n",
       "      <th>death penalty(yes)</th>\n",
       "      <th>death penalty(no)</th>\n",
       "      <th>Total</th>\n",
       "      <th>death penalty(yes) percentage</th>\n",
       "      <th>death penalty(no) percentage</th>\n",
       "    </tr>\n",
       "  </thead>\n",
       "  <tbody>\n",
       "    <tr>\n",
       "      <th>0</th>\n",
       "      <td>White</td>\n",
       "      <td>White</td>\n",
       "      <td>53</td>\n",
       "      <td>414</td>\n",
       "      <td>467</td>\n",
       "      <td>0.113490</td>\n",
       "      <td>0.886510</td>\n",
       "    </tr>\n",
       "    <tr>\n",
       "      <th>1</th>\n",
       "      <td>White</td>\n",
       "      <td>Black</td>\n",
       "      <td>11</td>\n",
       "      <td>37</td>\n",
       "      <td>48</td>\n",
       "      <td>0.229167</td>\n",
       "      <td>0.770833</td>\n",
       "    </tr>\n",
       "    <tr>\n",
       "      <th>2</th>\n",
       "      <td>Black</td>\n",
       "      <td>White</td>\n",
       "      <td>0</td>\n",
       "      <td>16</td>\n",
       "      <td>16</td>\n",
       "      <td>0.000000</td>\n",
       "      <td>1.000000</td>\n",
       "    </tr>\n",
       "    <tr>\n",
       "      <th>3</th>\n",
       "      <td>Black</td>\n",
       "      <td>Black</td>\n",
       "      <td>4</td>\n",
       "      <td>139</td>\n",
       "      <td>143</td>\n",
       "      <td>0.027972</td>\n",
       "      <td>0.972028</td>\n",
       "    </tr>\n",
       "  </tbody>\n",
       "</table>\n",
       "</div>"
      ],
      "text/plain": [
       "  victim's race  ... death penalty(no) percentage\n",
       "0         White  ...                     0.886510\n",
       "1         White  ...                     0.770833\n",
       "2         Black  ...                     1.000000\n",
       "3         Black  ...                     0.972028\n",
       "\n",
       "[4 rows x 7 columns]"
      ]
     },
     "execution_count": 61,
     "metadata": {
      "tags": []
     },
     "output_type": "execute_result"
    }
   ],
   "source": [
    "df_death_penalty"
   ]
  },
  {
   "cell_type": "markdown",
   "metadata": {
    "id": "_gz9uXVJHr8b"
   },
   "source": [
    "### White Victim"
   ]
  },
  {
   "cell_type": "code",
   "execution_count": null,
   "metadata": {
    "id": "6b-1rQn6GZXc"
   },
   "outputs": [],
   "source": [
    "df_death_penalty_copy = df_death_penalty.copy()\n",
    "df_death_penalty_white = df_death_penalty_copy[df_death_penalty_copy[\"victim's race\"]=='White']"
   ]
  },
  {
   "cell_type": "code",
   "execution_count": null,
   "metadata": {
    "colab": {
     "base_uri": "https://localhost:8080/",
     "height": 123
    },
    "id": "AttkrA-aG3Ih",
    "outputId": "e5085035-c3d9-47ae-aabf-4141dc3c75e6"
   },
   "outputs": [
    {
     "data": {
      "text/html": [
       "<div>\n",
       "<style scoped>\n",
       "    .dataframe tbody tr th:only-of-type {\n",
       "        vertical-align: middle;\n",
       "    }\n",
       "\n",
       "    .dataframe tbody tr th {\n",
       "        vertical-align: top;\n",
       "    }\n",
       "\n",
       "    .dataframe thead th {\n",
       "        text-align: right;\n",
       "    }\n",
       "</style>\n",
       "<table border=\"1\" class=\"dataframe\">\n",
       "  <thead>\n",
       "    <tr style=\"text-align: right;\">\n",
       "      <th></th>\n",
       "      <th>victim's race</th>\n",
       "      <th>Defendant's race</th>\n",
       "      <th>death penalty(yes)</th>\n",
       "      <th>death penalty(no)</th>\n",
       "      <th>Total</th>\n",
       "      <th>death penalty(yes) percentage</th>\n",
       "      <th>death penalty(no) percentage</th>\n",
       "    </tr>\n",
       "  </thead>\n",
       "  <tbody>\n",
       "    <tr>\n",
       "      <th>0</th>\n",
       "      <td>White</td>\n",
       "      <td>White</td>\n",
       "      <td>53</td>\n",
       "      <td>414</td>\n",
       "      <td>467</td>\n",
       "      <td>0.113490</td>\n",
       "      <td>0.886510</td>\n",
       "    </tr>\n",
       "    <tr>\n",
       "      <th>1</th>\n",
       "      <td>White</td>\n",
       "      <td>Black</td>\n",
       "      <td>11</td>\n",
       "      <td>37</td>\n",
       "      <td>48</td>\n",
       "      <td>0.229167</td>\n",
       "      <td>0.770833</td>\n",
       "    </tr>\n",
       "  </tbody>\n",
       "</table>\n",
       "</div>"
      ],
      "text/plain": [
       "  victim's race  ... death penalty(no) percentage\n",
       "0         White  ...                     0.886510\n",
       "1         White  ...                     0.770833\n",
       "\n",
       "[2 rows x 7 columns]"
      ]
     },
     "execution_count": 63,
     "metadata": {
      "tags": []
     },
     "output_type": "execute_result"
    }
   ],
   "source": [
    "df_death_penalty_white"
   ]
  },
  {
   "cell_type": "markdown",
   "metadata": {
    "id": "k88IxHhAJVx5"
   },
   "source": [
    "### Black Victim"
   ]
  },
  {
   "cell_type": "code",
   "execution_count": null,
   "metadata": {
    "id": "vq9iwzcNITQX"
   },
   "outputs": [],
   "source": [
    "df_death_penalty_copy = df_death_penalty.copy()\n",
    "df_death_penalty_black = df_death_penalty_copy[df_death_penalty_copy[\"victim's race\"]=='Black']"
   ]
  },
  {
   "cell_type": "code",
   "execution_count": null,
   "metadata": {
    "colab": {
     "base_uri": "https://localhost:8080/",
     "height": 123
    },
    "id": "ltS-dO10Jfj0",
    "outputId": "73b7bd3e-e436-4d30-f542-e0058814170d"
   },
   "outputs": [
    {
     "data": {
      "text/html": [
       "<div>\n",
       "<style scoped>\n",
       "    .dataframe tbody tr th:only-of-type {\n",
       "        vertical-align: middle;\n",
       "    }\n",
       "\n",
       "    .dataframe tbody tr th {\n",
       "        vertical-align: top;\n",
       "    }\n",
       "\n",
       "    .dataframe thead th {\n",
       "        text-align: right;\n",
       "    }\n",
       "</style>\n",
       "<table border=\"1\" class=\"dataframe\">\n",
       "  <thead>\n",
       "    <tr style=\"text-align: right;\">\n",
       "      <th></th>\n",
       "      <th>victim's race</th>\n",
       "      <th>Defendant's race</th>\n",
       "      <th>death penalty(yes)</th>\n",
       "      <th>death penalty(no)</th>\n",
       "      <th>Total</th>\n",
       "      <th>death penalty(yes) percentage</th>\n",
       "      <th>death penalty(no) percentage</th>\n",
       "    </tr>\n",
       "  </thead>\n",
       "  <tbody>\n",
       "    <tr>\n",
       "      <th>2</th>\n",
       "      <td>Black</td>\n",
       "      <td>White</td>\n",
       "      <td>0</td>\n",
       "      <td>16</td>\n",
       "      <td>16</td>\n",
       "      <td>0.000000</td>\n",
       "      <td>1.000000</td>\n",
       "    </tr>\n",
       "    <tr>\n",
       "      <th>3</th>\n",
       "      <td>Black</td>\n",
       "      <td>Black</td>\n",
       "      <td>4</td>\n",
       "      <td>139</td>\n",
       "      <td>143</td>\n",
       "      <td>0.027972</td>\n",
       "      <td>0.972028</td>\n",
       "    </tr>\n",
       "  </tbody>\n",
       "</table>\n",
       "</div>"
      ],
      "text/plain": [
       "  victim's race  ... death penalty(no) percentage\n",
       "2         Black  ...                     1.000000\n",
       "3         Black  ...                     0.972028\n",
       "\n",
       "[2 rows x 7 columns]"
      ]
     },
     "execution_count": 65,
     "metadata": {
      "tags": []
     },
     "output_type": "execute_result"
    }
   ],
   "source": [
    "df_death_penalty_black"
   ]
  },
  {
   "cell_type": "markdown",
   "metadata": {
    "id": "K2BFk3GSJnGO"
   },
   "source": [
    "### Ignore Victim's Race"
   ]
  },
  {
   "cell_type": "code",
   "execution_count": null,
   "metadata": {
    "colab": {
     "base_uri": "https://localhost:8080/",
     "height": 164
    },
    "id": "daPHPQCWJg_c",
    "outputId": "5e1b99ca-0287-431f-855e-56db016270f5"
   },
   "outputs": [
    {
     "data": {
      "text/html": [
       "<div>\n",
       "<style scoped>\n",
       "    .dataframe tbody tr th:only-of-type {\n",
       "        vertical-align: middle;\n",
       "    }\n",
       "\n",
       "    .dataframe tbody tr th {\n",
       "        vertical-align: top;\n",
       "    }\n",
       "\n",
       "    .dataframe thead th {\n",
       "        text-align: right;\n",
       "    }\n",
       "</style>\n",
       "<table border=\"1\" class=\"dataframe\">\n",
       "  <thead>\n",
       "    <tr style=\"text-align: right;\">\n",
       "      <th></th>\n",
       "      <th>victim's race</th>\n",
       "      <th>Defendant's race</th>\n",
       "      <th>death penalty(yes)</th>\n",
       "      <th>death penalty(no)</th>\n",
       "      <th>Total</th>\n",
       "    </tr>\n",
       "  </thead>\n",
       "  <tbody>\n",
       "    <tr>\n",
       "      <th>0</th>\n",
       "      <td>White</td>\n",
       "      <td>White</td>\n",
       "      <td>53</td>\n",
       "      <td>414</td>\n",
       "      <td>467</td>\n",
       "    </tr>\n",
       "    <tr>\n",
       "      <th>1</th>\n",
       "      <td>White</td>\n",
       "      <td>Black</td>\n",
       "      <td>11</td>\n",
       "      <td>37</td>\n",
       "      <td>48</td>\n",
       "    </tr>\n",
       "    <tr>\n",
       "      <th>2</th>\n",
       "      <td>Black</td>\n",
       "      <td>White</td>\n",
       "      <td>0</td>\n",
       "      <td>16</td>\n",
       "      <td>16</td>\n",
       "    </tr>\n",
       "    <tr>\n",
       "      <th>3</th>\n",
       "      <td>Black</td>\n",
       "      <td>Black</td>\n",
       "      <td>4</td>\n",
       "      <td>139</td>\n",
       "      <td>143</td>\n",
       "    </tr>\n",
       "  </tbody>\n",
       "</table>\n",
       "</div>"
      ],
      "text/plain": [
       "  victim's race Defendant's race  death penalty(yes)  death penalty(no)  Total\n",
       "0         White            White                  53                414    467\n",
       "1         White            Black                  11                 37     48\n",
       "2         Black            White                   0                 16     16\n",
       "3         Black            Black                   4                139    143"
      ]
     },
     "execution_count": 66,
     "metadata": {
      "tags": []
     },
     "output_type": "execute_result"
    }
   ],
   "source": [
    "df_death_penalty.drop(columns = ['death penalty(yes) percentage','death penalty(no) percentage'], inplace = True)\n",
    "df_death_penalty"
   ]
  },
  {
   "cell_type": "code",
   "execution_count": null,
   "metadata": {
    "colab": {
     "base_uri": "https://localhost:8080/",
     "height": 135
    },
    "id": "HWwJdDLdJmC7",
    "outputId": "942943d2-8000-49da-a0d6-faeb5b5b6c1e"
   },
   "outputs": [
    {
     "data": {
      "text/html": [
       "<div>\n",
       "<style scoped>\n",
       "    .dataframe tbody tr th:only-of-type {\n",
       "        vertical-align: middle;\n",
       "    }\n",
       "\n",
       "    .dataframe tbody tr th {\n",
       "        vertical-align: top;\n",
       "    }\n",
       "\n",
       "    .dataframe thead th {\n",
       "        text-align: right;\n",
       "    }\n",
       "</style>\n",
       "<table border=\"1\" class=\"dataframe\">\n",
       "  <thead>\n",
       "    <tr style=\"text-align: right;\">\n",
       "      <th></th>\n",
       "      <th>death penalty(yes)</th>\n",
       "      <th>death penalty(no)</th>\n",
       "      <th>Total</th>\n",
       "    </tr>\n",
       "    <tr>\n",
       "      <th>Defendant's race</th>\n",
       "      <th></th>\n",
       "      <th></th>\n",
       "      <th></th>\n",
       "    </tr>\n",
       "  </thead>\n",
       "  <tbody>\n",
       "    <tr>\n",
       "      <th>Black</th>\n",
       "      <td>15</td>\n",
       "      <td>176</td>\n",
       "      <td>191</td>\n",
       "    </tr>\n",
       "    <tr>\n",
       "      <th>White</th>\n",
       "      <td>53</td>\n",
       "      <td>430</td>\n",
       "      <td>483</td>\n",
       "    </tr>\n",
       "  </tbody>\n",
       "</table>\n",
       "</div>"
      ],
      "text/plain": [
       "                  death penalty(yes)  death penalty(no)  Total\n",
       "Defendant's race                                              \n",
       "Black                             15                176    191\n",
       "White                             53                430    483"
      ]
     },
     "execution_count": 74,
     "metadata": {
      "tags": []
     },
     "output_type": "execute_result"
    }
   ],
   "source": [
    "df_death_penalty_pivot = df_death_penalty.pivot_table(index=[\"Defendant's race\"], aggfunc = 'sum')\n",
    "df_death_penalty_pivot = df_death_penalty_pivot[['death penalty(yes)','death penalty(no)','Total']]\n",
    "df_death_penalty_pivot"
   ]
  },
  {
   "cell_type": "code",
   "execution_count": null,
   "metadata": {
    "colab": {
     "base_uri": "https://localhost:8080/",
     "height": 169
    },
    "id": "_1h3gxBdKQoo",
    "outputId": "d17b797b-f786-457c-bdef-7ea46506daf0"
   },
   "outputs": [
    {
     "data": {
      "text/html": [
       "<div>\n",
       "<style scoped>\n",
       "    .dataframe tbody tr th:only-of-type {\n",
       "        vertical-align: middle;\n",
       "    }\n",
       "\n",
       "    .dataframe tbody tr th {\n",
       "        vertical-align: top;\n",
       "    }\n",
       "\n",
       "    .dataframe thead th {\n",
       "        text-align: right;\n",
       "    }\n",
       "</style>\n",
       "<table border=\"1\" class=\"dataframe\">\n",
       "  <thead>\n",
       "    <tr style=\"text-align: right;\">\n",
       "      <th></th>\n",
       "      <th>death penalty(yes)</th>\n",
       "      <th>death penalty(no)</th>\n",
       "      <th>Total</th>\n",
       "      <th>death penalty(yes) percentage</th>\n",
       "      <th>death penalty(no) percentage</th>\n",
       "    </tr>\n",
       "    <tr>\n",
       "      <th>Defendant's race</th>\n",
       "      <th></th>\n",
       "      <th></th>\n",
       "      <th></th>\n",
       "      <th></th>\n",
       "      <th></th>\n",
       "    </tr>\n",
       "  </thead>\n",
       "  <tbody>\n",
       "    <tr>\n",
       "      <th>Black</th>\n",
       "      <td>15</td>\n",
       "      <td>176</td>\n",
       "      <td>191</td>\n",
       "      <td>0.078534</td>\n",
       "      <td>0.921466</td>\n",
       "    </tr>\n",
       "    <tr>\n",
       "      <th>White</th>\n",
       "      <td>53</td>\n",
       "      <td>430</td>\n",
       "      <td>483</td>\n",
       "      <td>0.109731</td>\n",
       "      <td>0.890269</td>\n",
       "    </tr>\n",
       "  </tbody>\n",
       "</table>\n",
       "</div>"
      ],
      "text/plain": [
       "                  death penalty(yes)  ...  death penalty(no) percentage\n",
       "Defendant's race                      ...                              \n",
       "Black                             15  ...                      0.921466\n",
       "White                             53  ...                      0.890269\n",
       "\n",
       "[2 rows x 5 columns]"
      ]
     },
     "execution_count": 75,
     "metadata": {
      "tags": []
     },
     "output_type": "execute_result"
    }
   ],
   "source": [
    "df_death_penalty_pivot['Total'] = df_death_penalty_pivot['death penalty(yes)'] + df_death_penalty_pivot['death penalty(no)']\n",
    "df_death_penalty_pivot['death penalty(yes) percentage'] = df_death_penalty_pivot['death penalty(yes)']/df_death_penalty_pivot['Total']\n",
    "df_death_penalty_pivot['death penalty(no) percentage'] = df_death_penalty_pivot['death penalty(no)']/df_death_penalty_pivot['Total']\n",
    "df_death_penalty_pivot"
   ]
  },
  {
   "cell_type": "code",
   "execution_count": null,
   "metadata": {
    "id": "o9rBsVeTMJmc"
   },
   "outputs": [],
   "source": []
  }
 ],
 "metadata": {
  "colab": {
   "name": "Statistics.ipynb",
   "provenance": [],
   "toc_visible": true
  },
  "hide_input": false,
  "kernelspec": {
   "display_name": "Python 3",
   "language": "python",
   "name": "python3"
  },
  "language_info": {
   "codemirror_mode": {
    "name": "ipython",
    "version": 3
   },
   "file_extension": ".py",
   "mimetype": "text/x-python",
   "name": "python",
   "nbconvert_exporter": "python",
   "pygments_lexer": "ipython3",
   "version": "3.8.5"
  },
  "varInspector": {
   "cols": {
    "lenName": 16,
    "lenType": 16,
    "lenVar": 40
   },
   "kernels_config": {
    "python": {
     "delete_cmd_postfix": "",
     "delete_cmd_prefix": "del ",
     "library": "var_list.py",
     "varRefreshCmd": "print(var_dic_list())"
    },
    "r": {
     "delete_cmd_postfix": ") ",
     "delete_cmd_prefix": "rm(",
     "library": "var_list.r",
     "varRefreshCmd": "cat(var_dic_list()) "
    }
   },
   "types_to_exclude": [
    "module",
    "function",
    "builtin_function_or_method",
    "instance",
    "_Feature"
   ],
   "window_display": false
  }
 },
 "nbformat": 4,
 "nbformat_minor": 4
}
